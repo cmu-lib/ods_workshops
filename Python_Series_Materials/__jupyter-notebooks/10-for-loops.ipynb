{
 "cells": [
  {
   "cell_type": "markdown",
   "id": "b44ad046-d3dc-4d62-b4dc-bc166c3bdd3f",
   "metadata": {},
   "source": [
    "# For Loops"
   ]
  },
  {
   "cell_type": "markdown",
   "id": "81551558-f216-4933-84c2-cf756e282425",
   "metadata": {},
   "source": [
    "---\n",
    "## Overview\n",
    "\n",
    "Teaching: 10 minutes\n",
    "\n",
    "Exercises: 15 minutes\n",
    "\n",
    "### Questions:\n",
    "- \"How can I make a program do many things?\"\n",
    "\n",
    "### Objectives:\n",
    "- \"Explain what for loops are normally used for.\"\n",
    "- \"Trace the execution of a simple (unnested) loop and correctly state the values of variables in each iteration.\"\n",
    "- \"Write for loops that use the Accumulator pattern to aggregate values.\"\n",
    "---"
   ]
  },
  {
   "cell_type": "markdown",
   "id": "c7715e7d-f6d3-4f6f-893b-54ee91a46a0b",
   "metadata": {},
   "source": [
    "\n",
    "## A *for loop* executes commands once for each value in a collection."
   ]
  },
  {
   "cell_type": "markdown",
   "id": "e212d88b-1f71-4c31-8b2b-266efb1a64a2",
   "metadata": {},
   "source": [
    "\n",
    "\n",
    "*   Doing calculations on the values in a list one by one\n",
    "    is as painful as working with `pressure_001`, `pressure_002`, etc.\n",
    "*   A *for loop* tells Python to execute some statements once for each value in a list,\n",
    "    a character string,\n",
    "    or some other collection.\n",
    "*   \"for each thing in this group, do these operations\""
   ]
  },
  {
   "cell_type": "code",
   "execution_count": null,
   "id": "ac769ad6-5a5f-4a35-ba70-394d997cfd95",
   "metadata": {},
   "outputs": [],
   "source": [
    "for number in [2, 3, 5]:\n",
    "    print(number)"
   ]
  },
  {
   "cell_type": "markdown",
   "id": "0fd67b88-8222-4d66-8e44-98f56626b26a",
   "metadata": {},
   "source": [
    "*   This `for` loop is equivalent to:"
   ]
  },
  {
   "cell_type": "code",
   "execution_count": null,
   "id": "dfffc872-123e-49cb-a90a-2d55261a2ecc",
   "metadata": {},
   "outputs": [],
   "source": [
    "print(2)\n",
    "print(3)\n",
    "print(5)"
   ]
  },
  {
   "cell_type": "markdown",
   "id": "c7c433c5-9fc9-4cbe-88e9-04bf4ef89dc2",
   "metadata": {},
   "source": [
    "## A `for` loop is made up of a collection, a loop variable, and a body."
   ]
  },
  {
   "cell_type": "markdown",
   "id": "3273e3c0-70fd-45df-8d9a-c6672e3bd287",
   "metadata": {},
   "source": [
    "~~~ python\n",
    "for number in [2, 3, 5]:\n",
    "    print(number)\n",
    "~~~"
   ]
  },
  {
   "cell_type": "markdown",
   "id": "6984d0c4-1c33-4e63-9228-3f6ce94c8405",
   "metadata": {},
   "source": [
    "*   The collection, `[2, 3, 5]`, is what the loop is being run on.\n",
    "*   The body, `print(number)`, specifies what to do for each value in the collection.\n",
    "*   The loop variable, `number`, is what changes for each *iteration* of the loop.\n",
    "    *   The \"current thing\".\n"
   ]
  },
  {
   "cell_type": "markdown",
   "id": "4f54026b-ce43-4ea1-a84f-1c08693a3492",
   "metadata": {},
   "source": [
    "## The first line of the `for` loop must end with a colon, and the body must be indented."
   ]
  },
  {
   "cell_type": "markdown",
   "id": "dc243b8c-e46b-4235-ac39-29a35df57380",
   "metadata": {},
   "source": [
    "*   The colon at the end of the first line signals the start of a *block* of statements.\n",
    "*   Python uses indentation rather than `{}` or `begin`/`end` to show *nesting*.\n",
    "    *   Any consistent indentation is legal, but almost everyone uses four spaces."
   ]
  },
  {
   "cell_type": "code",
   "execution_count": null,
   "id": "97038e78-d7e7-4a91-aece-28ac546577c1",
   "metadata": {},
   "outputs": [],
   "source": [
    "for number in [2, 3, 5]:\n",
    "print(number)"
   ]
  },
  {
   "cell_type": "markdown",
   "id": "5d546515-8bd8-47ff-937d-9d27519fdaa7",
   "metadata": {},
   "source": [
    "*   Indentation is always meaningful in Python.\n"
   ]
  },
  {
   "cell_type": "code",
   "execution_count": null,
   "id": "60220538-62bf-420d-b706-3513c82f1bed",
   "metadata": {},
   "outputs": [],
   "source": [
    "firstName = \"Jon\"\n",
    "  lastName = \"Smith\""
   ]
  },
  {
   "cell_type": "markdown",
   "id": "c0dff69b-0607-4434-95c9-6c3d2bb76e1a",
   "metadata": {},
   "source": [
    "*   This error can be fixed by removing the extra spaces\n",
    "    at the beginning of the second line."
   ]
  },
  {
   "cell_type": "markdown",
   "id": "a8577034-210e-4565-a976-8a65b6ceb02d",
   "metadata": {},
   "source": [
    "## Loop variables can be called anything.\n"
   ]
  },
  {
   "cell_type": "markdown",
   "id": "2d3e1971-6d17-4a4a-b0e6-990d85a1f7d2",
   "metadata": {},
   "source": [
    "*   As with all variables, loop variables are:\n",
    "    *   Created on demand.\n",
    "    *   Meaningless: their names can be anything at all."
   ]
  },
  {
   "cell_type": "code",
   "execution_count": null,
   "id": "ab1c7e23-9ab0-4233-a709-6e9d3c8434b3",
   "metadata": {},
   "outputs": [],
   "source": [
    "for kitten in [2, 3, 5]:\n",
    "    print(kitten)"
   ]
  },
  {
   "cell_type": "markdown",
   "id": "08e1b9c7-79be-40cd-9361-7c6607d319f2",
   "metadata": {},
   "source": [
    "## The body of a loop can contain many statements.\n"
   ]
  },
  {
   "cell_type": "markdown",
   "id": "06244c18-867b-45cd-8ca1-eac9b471b617",
   "metadata": {},
   "source": [
    "*   But no loop should be more than a few lines long.\n",
    "*   Hard for human beings to keep larger chunks of code in mind.\n"
   ]
  },
  {
   "cell_type": "code",
   "execution_count": null,
   "id": "9d71bbbc-1843-4311-a406-4bb70e4a3669",
   "metadata": {},
   "outputs": [],
   "source": [
    "primes = [2, 3, 5]\n",
    "for p in primes:\n",
    "    squared = p ** 2\n",
    "    cubed = p ** 3\n",
    "    print(p, squared, cubed)"
   ]
  },
  {
   "cell_type": "markdown",
   "id": "588e7cab-6750-4f80-86f7-5f5ce4c6a188",
   "metadata": {},
   "source": [
    "## Use `range` to iterate over a sequence of numbers.\n"
   ]
  },
  {
   "cell_type": "markdown",
   "id": "efa8eb5a-9a78-49c3-b6f5-036e3649bc42",
   "metadata": {},
   "source": [
    "*   The built-in function [`range`](https://docs.python.org/3/library/stdtypes.html#range) produces a sequence of numbers.\n",
    "    *   *Not* a list: the numbers are produced on demand\n",
    "        to make looping over large ranges more efficient.\n",
    "*   `range(N)` is the numbers 0..N-1\n",
    "    *   Exactly the legal indices of a list or character string of length N"
   ]
  },
  {
   "cell_type": "code",
   "execution_count": null,
   "id": "80d27d30-856f-48f6-9d99-f0b5cd0c1792",
   "metadata": {},
   "outputs": [],
   "source": [
    "print('a range is not a list: range(0, 3)')\n",
    "for number in range(0, 3):\n",
    "    print(number)"
   ]
  },
  {
   "cell_type": "markdown",
   "id": "86517f88-bde7-4bdc-b19f-53f6b2243bd5",
   "metadata": {},
   "source": [
    "## The Accumulator pattern turns many values into one.\n"
   ]
  },
  {
   "cell_type": "markdown",
   "id": "563f8a9e-e06a-4ae5-acd6-4773edc26d04",
   "metadata": {},
   "source": [
    "*   A common pattern in programs is to:\n",
    "    1.  Initialize an *accumulator* variable to zero, the empty string, or the empty list.\n",
    "    2.  Update the variable with values from a collection."
   ]
  },
  {
   "cell_type": "code",
   "execution_count": null,
   "id": "8cbe8c93-9158-429a-bd9f-332122bf19a3",
   "metadata": {},
   "outputs": [],
   "source": [
    "# Sum the first 10 integers.\n",
    "total = 0\n",
    "for number in range(10):\n",
    "   total = total + (number + 1)\n",
    "print(total)"
   ]
  },
  {
   "cell_type": "markdown",
   "id": "a3f7d863-03da-4f94-9ad7-733eb0f61e4b",
   "metadata": {},
   "source": [
    "\n",
    "*   Read `total = total + (number + 1)` as:\n",
    "    *   Add 1 to the current value of the loop variable `number`.\n",
    "    *   Add that to the current value of the accumulator variable `total`.\n",
    "    *   Assign that to `total`, replacing the current value.\n",
    "*   We have to add `number + 1` because `range` produces 0..9, not 1..10.\n"
   ]
  },
  {
   "cell_type": "markdown",
   "id": "35ee7148-d1e5-40ea-a72e-afa8ce54675c",
   "metadata": {},
   "source": [
    "---\n",
    "## Classifying Errors"
   ]
  },
  {
   "cell_type": "markdown",
   "id": "1c303288-9c93-4dc4-ac3b-bdff4455d423",
   "metadata": {},
   "source": [
    "> \n",
    ">\n",
    "> Is an indentation error a syntax error or a runtime error?"
   ]
  },
  {
   "cell_type": "markdown",
   "id": "3ffd7733-7ba6-4046-a347-8e2b5a2f1108",
   "metadata": {
    "jp-MarkdownHeadingCollapsed": true,
    "tags": []
   },
   "source": [
    "## Solution"
   ]
  },
  {
   "cell_type": "markdown",
   "id": "4d90dc68-ead2-4aa1-888d-a702fa1fd75d",
   "metadata": {},
   "source": [
    "> > An IndentationError is a syntax error. Programs with syntax errors cannot be started.\n",
    "> > A program with a runtime error will start but an error will be thrown under certain conditions."
   ]
  },
  {
   "cell_type": "markdown",
   "id": "4a079b8c-c653-408d-9620-fdd123f3cbdd",
   "metadata": {},
   "source": [
    "---\n",
    "## Tracing Execution"
   ]
  },
  {
   "cell_type": "markdown",
   "id": "ef82d376-04b4-457e-80d7-adf839e28d9c",
   "metadata": {},
   "source": [
    "> \n",
    ">\n",
    "> Create a table showing the numbers of the lines that are executed when this program runs,\n",
    "> and the values of the variables after each line is executed.\n",
    ">"
   ]
  },
  {
   "cell_type": "code",
   "execution_count": null,
   "id": "bd4cc810-26b9-45c0-9ded-078033ea4c94",
   "metadata": {},
   "outputs": [],
   "source": [
    "total = 0\n",
    "for char in \"tin\":\n",
    "    total = total + 1"
   ]
  },
  {
   "cell_type": "markdown",
   "id": "a7224962-ebd1-48d1-97b5-7b2f076f772d",
   "metadata": {
    "jp-MarkdownHeadingCollapsed": true,
    "tags": []
   },
   "source": [
    "## Solution"
   ]
  },
  {
   "cell_type": "markdown",
   "id": "38c35504-5469-43f0-bf21-a26818c4ae8b",
   "metadata": {},
   "source": [
    "\n",
    "> > \n",
    "> >\n",
    "> > | Line no | Variables            |\n",
    "> > |---------|----------------------|\n",
    "> > | 1       | total = 0            |\n",
    "> > | 2       | total = 0 char = 't' |\n",
    "> > | 3       | total = 1 char = 't' |\n",
    "> > | 2       | total = 1 char = 'i' |\n",
    "> > | 3       | total = 2 char = 'i' |\n",
    "> > | 2       | total = 2 char = 'n' |\n",
    "> > | 3       | total = 3 char = 'n' |"
   ]
  },
  {
   "cell_type": "markdown",
   "id": "139c00de-7580-461e-8cdc-c92a5359cc65",
   "metadata": {},
   "source": [
    "---\n",
    "## Reversing a String"
   ]
  },
  {
   "cell_type": "markdown",
   "id": "83399459-e214-4dea-815b-10b8446b41e8",
   "metadata": {},
   "source": [
    "> \n",
    ">\n",
    "> Fill in the blanks in the program below so that it prints \"nit\"\n",
    "> (the reverse of the original character string \"tin\").\n",
    ">"
   ]
  },
  {
   "cell_type": "markdown",
   "id": "a5183333-5eb6-4f94-8e7a-d3ee65dc3456",
   "metadata": {},
   "source": [
    "> ~~~ python\n",
    "> original = \"tin\"\n",
    "> result = ____\n",
    "> for char in original:\n",
    ">     result = ____\n",
    "> print(result)\n",
    "> ~~~"
   ]
  },
  {
   "cell_type": "markdown",
   "id": "88ba8460-6198-42b5-9123-b30da650fd66",
   "metadata": {
    "jp-MarkdownHeadingCollapsed": true,
    "tags": []
   },
   "source": [
    "## Solution"
   ]
  },
  {
   "cell_type": "code",
   "execution_count": null,
   "id": "a95ff827-920b-4fa8-8c8d-4cb25183f8f7",
   "metadata": {},
   "outputs": [],
   "source": [
    "\n",
    "original = \"tin\"\n",
    "result = \"\"\n",
    "for char in original:\n",
    "    result = char + result\n",
    "print(result)"
   ]
  },
  {
   "cell_type": "markdown",
   "id": "54bce2a7-0e85-4666-9ae3-aae6d8e443eb",
   "metadata": {},
   "source": [
    "---\n",
    "## Practice Accumulating"
   ]
  },
  {
   "cell_type": "markdown",
   "id": "83e73fe7-1cb5-457c-a456-0fb64f863f17",
   "metadata": {},
   "source": [
    "> \n",
    ">\n",
    "> Fill in the blanks in each of the programs below\n",
    "> to produce the indicated result.\n",
    ">"
   ]
  },
  {
   "cell_type": "markdown",
   "id": "e0037e84-6d46-46e1-a96c-11704b728735",
   "metadata": {},
   "source": [
    "> ~~~ python\n",
    "> # Total length of the strings in the list: [\"red\", \"green\", \"blue\"] => 12\n",
    "> total = 0\n",
    "> for word in [\"red\", \"green\", \"blue\"]:\n",
    ">     ____ = ____ + len(word)\n",
    "> print(total)\n",
    "> ~~~"
   ]
  },
  {
   "cell_type": "markdown",
   "id": "980769f8-ec5d-4baf-8191-312779c57378",
   "metadata": {},
   "source": [
    ">\n",
    "> ~~~ python\n",
    "> # List of word lengths: [\"red\", \"green\", \"blue\"] => [3, 5, 4]\n",
    "> lengths = ____\n",
    "> for word in [\"red\", \"green\", \"blue\"]:\n",
    ">     lengths.____(____)\n",
    "> print(lengths)\n",
    "> ~~~"
   ]
  },
  {
   "cell_type": "markdown",
   "id": "a4de6976-0efe-4eb9-8d50-bcce6f76a8c4",
   "metadata": {},
   "source": [
    ">\n",
    "> ~~~ python\n",
    "> # Concatenate all words: [\"red\", \"green\", \"blue\"] => \"redgreenblue\"\n",
    "> words = [\"red\", \"green\", \"blue\"]\n",
    "> result = ____\n",
    "> for ____ in ____:\n",
    ">     ____\n",
    "> print(result)\n",
    "> ~~~"
   ]
  },
  {
   "cell_type": "markdown",
   "id": "e2aae9d2-7b3b-4dac-b722-45b29268e9a9",
   "metadata": {},
   "source": [
    ">\n",
    "> __Create an acronym:__ Starting from the list `[\"red\", \"green\", \"blue\"]`, create the acronym `\"RGB\"` using\n",
    "> a for loop.\n",
    "> \n",
    "> __Hint:__ You may need to use a string method to properly format the acronym."
   ]
  },
  {
   "cell_type": "markdown",
   "id": "9142cdba-042c-4c44-aaad-5232f0c2e970",
   "metadata": {
    "jp-MarkdownHeadingCollapsed": true,
    "tags": []
   },
   "source": [
    "## Solutions"
   ]
  },
  {
   "cell_type": "code",
   "execution_count": null,
   "id": "10a23727-b6d6-4a04-8102-29e1eba2216e",
   "metadata": {},
   "outputs": [],
   "source": [
    "total = 0\n",
    "for word in [\"red\", \"green\", \"blue\"]:\n",
    "    total = total + len(word)\n",
    "print(total)\n"
   ]
  },
  {
   "cell_type": "code",
   "execution_count": null,
   "id": "542c9881-a697-4ebe-a11d-f57ae383b7fe",
   "metadata": {},
   "outputs": [],
   "source": [
    "lengths = []\n",
    "for word in [\"red\", \"green\", \"blue\"]:\n",
    "    lengths.append(len(word))\n",
    "print(lengths)"
   ]
  },
  {
   "cell_type": "code",
   "execution_count": null,
   "id": "176327e8-5aca-41a0-9edb-c2463a4d8f3a",
   "metadata": {},
   "outputs": [],
   "source": [
    "words = [\"red\", \"green\", \"blue\"]\n",
    "result = \"\"\n",
    "for word in words:\n",
    "    result = result + word\n",
    "print(result)"
   ]
  },
  {
   "cell_type": "code",
   "execution_count": null,
   "id": "2b77392a-9bba-46f3-b125-2b7935208769",
   "metadata": {},
   "outputs": [],
   "source": [
    "acronym = \"\"\n",
    "for word in [\"red\", \"green\", \"blue\"]:\n",
    "    acronym = acronym + word[0].upper()\n",
    "print(acronym)"
   ]
  },
  {
   "cell_type": "markdown",
   "id": "324245f6-be92-44ce-b8bc-a5e1bdd58d55",
   "metadata": {},
   "source": [
    "---\n",
    "## Cumulative Sum"
   ]
  },
  {
   "cell_type": "markdown",
   "id": "477b31f4-e838-47fb-8e9a-e83119608fd4",
   "metadata": {},
   "source": [
    "> \n",
    ">\n",
    "> Reorder and properly indent the lines of code below\n",
    "> so that they print a list with the cumulative sum of data.\n",
    "> The result should be `[1, 3, 5, 10]`.\n",
    ">\n",
    "> ~~~ python\n",
    "> cumulative.append(total)\n",
    "> for number in data:\n",
    "> cumulative = []\n",
    "> total = total + number\n",
    "> total = 0\n",
    "> print(cumulative)\n",
    "> data = [1,2,2,5]\n",
    "> ~~~"
   ]
  },
  {
   "cell_type": "markdown",
   "id": "7dec2f62-a634-4b1d-84a4-7c0bb337386c",
   "metadata": {
    "jp-MarkdownHeadingCollapsed": true,
    "tags": []
   },
   "source": [
    "## Solution"
   ]
  },
  {
   "cell_type": "code",
   "execution_count": null,
   "id": "75868ddd-ac05-4ebd-b53c-a148f702d994",
   "metadata": {},
   "outputs": [],
   "source": [
    "total = 0\n",
    "data = [1,2,2,5]\n",
    "cumulative = []\n",
    "for number in data:\n",
    "    total = total + number\n",
    "    cumulative.append(total)\n",
    "print(cumulative)"
   ]
  },
  {
   "cell_type": "markdown",
   "id": "95b69537-b3a9-4760-82c6-d2b6cfce902a",
   "metadata": {},
   "source": [
    "---\n",
    "## Identifying Variable Name Errors"
   ]
  },
  {
   "cell_type": "markdown",
   "id": "9f7d2a36-7ece-4255-9d23-892172d7ed6a",
   "metadata": {},
   "source": [
    "> \n",
    ">\n",
    "> 1. Read the code below and try to identify what the errors are\n",
    ">    *without* running it.\n",
    "> 2. Run the code and read the error message.\n",
    ">    What type of `NameError` do you think this is?\n",
    ">    Is it a string with no quotes, a misspelled variable, or a\n",
    ">    variable that should have been defined but was not?\n",
    "> 3. Fix the error.\n",
    "> 4. Repeat steps 2 and 3, until you have fixed all the errors.\n",
    ">"
   ]
  },
  {
   "cell_type": "code",
   "execution_count": null,
   "id": "7f2069c7-43b2-49ed-b472-7bb62dea0f78",
   "metadata": {},
   "outputs": [],
   "source": [
    "for number in range(10):\n",
    "    # use a if the number is a multiple of 3, otherwise use b\n",
    "    if (Number % 3) == 0:\n",
    "        message = message + a\n",
    "    else:\n",
    "        message = message + \"b\"\n",
    "print(message)"
   ]
  },
  {
   "cell_type": "markdown",
   "id": "a51af0e5-5648-4eb5-9d1b-d1a17ab71f5d",
   "metadata": {},
   "source": [
    "## Solution"
   ]
  },
  {
   "cell_type": "markdown",
   "id": "e152e3ee-bd10-48a4-96ce-7ce3e29490d0",
   "metadata": {},
   "source": [
    "> > \n",
    "> > - Python variable names are case sensitive: `number` and `Number` refer to different variables.\n",
    "> > - The variable `message` needs to be initialized as an empty string.\n",
    "> > - We want to add the string `\"a\"` to `message`, not the undefined variable `a`.\n",
    "> >"
   ]
  },
  {
   "cell_type": "code",
   "execution_count": null,
   "id": "4f38a8ca-437c-4d7c-9e25-5c4d3ac83c69",
   "metadata": {},
   "outputs": [],
   "source": [
    "message = \"\"\n",
    "for number in range(10):\n",
    "    # use a if the number is a multiple of 3, otherwise use b\n",
    "    if (number % 3) == 0:\n",
    "        message = message + \"a\"\n",
    "    else:\n",
    "        message = message + \"b\"\n",
    "print(message)"
   ]
  },
  {
   "cell_type": "markdown",
   "id": "344b7700-8a03-4867-8536-d217b53f6ef6",
   "metadata": {},
   "source": [
    "---\n",
    "## Identifying Item Errors"
   ]
  },
  {
   "cell_type": "markdown",
   "id": "720fd540-0fe1-4004-a1ed-8d435f9d1b1c",
   "metadata": {},
   "source": [
    "> \n",
    ">\n",
    "> 1. Read the code below and try to identify what the errors are\n",
    ">    *without* running it.\n",
    "> 2. Run the code, and read the error message. What type of error is it?\n",
    "> 3. Fix the error."
   ]
  },
  {
   "cell_type": "code",
   "execution_count": null,
   "id": "ce5d3701-f84b-4cbe-83fa-b089aedebafb",
   "metadata": {},
   "outputs": [],
   "source": [
    "seasons = ['Spring', 'Summer', 'Fall', 'Winter']\n",
    "print('My favorite season is ', seasons[4])"
   ]
  },
  {
   "cell_type": "markdown",
   "id": "7e15332b-9aff-4815-91d1-f4c546841489",
   "metadata": {
    "jp-MarkdownHeadingCollapsed": true,
    "tags": []
   },
   "source": [
    "## Solution"
   ]
  },
  {
   "cell_type": "markdown",
   "id": "15298678-9f7e-4e9d-9c4c-e209e9f94c2b",
   "metadata": {},
   "source": [
    "> > This list has 4 elements and the index to access the last element in the list is `3`.\n"
   ]
  },
  {
   "cell_type": "code",
   "execution_count": null,
   "id": "256a5a01-796b-4824-9735-0ada96b39820",
   "metadata": {},
   "outputs": [],
   "source": [
    "seasons = ['Spring', 'Summer', 'Fall', 'Winter']\n",
    "print('My favorite season is ', seasons[3])"
   ]
  },
  {
   "cell_type": "markdown",
   "id": "8622be04-1d1a-4973-a811-0474e47b5f64",
   "metadata": {
    "tags": []
   },
   "source": [
    "---\n",
    "## Keypoints:\n",
    "- \"A *for loop* executes commands once for each value in a collection.\"\n",
    "- \"A `for` loop is made up of a collection, a loop variable, and a body.\"\n",
    "- \"The first line of the `for` loop must end with a colon, and the body must be indented.\"\n",
    "- \"Indentation is always meaningful in Python.\"\n",
    "- \"Loop variables can be called anything (but it is strongly advised to have a meaningful name to the looping variable).\"\n",
    "- \"The body of a loop can contain many statements.\"\n",
    "- \"Use `range` to iterate over a sequence of numbers.\"\n",
    "- \"The Accumulator pattern turns many values into one.\"\n",
    "---"
   ]
  },
  {
   "cell_type": "markdown",
   "id": "59534904-0755-413c-a26d-655271d90308",
   "metadata": {},
   "source": [
    "*This course material was created from the [Plotting and Programming in Python](http://swcarpentry.github.io/python-novice-gapminder/) curriculum developed by [The Software Carpentry Foundation](https://software-carpentry.org/) of [The Carpentries](https://carpentries.org/) licensed under [CC-BY 4.0](https://creativecommons.org/licenses/by/4.0/)*"
   ]
  }
 ],
 "metadata": {
  "kernelspec": {
   "display_name": "Python 3 (ipykernel)",
   "language": "python",
   "name": "python3"
  },
  "language_info": {
   "codemirror_mode": {
    "name": "ipython",
    "version": 3
   },
   "file_extension": ".py",
   "mimetype": "text/x-python",
   "name": "python",
   "nbconvert_exporter": "python",
   "pygments_lexer": "ipython3",
   "version": "3.9.12"
  }
 },
 "nbformat": 4,
 "nbformat_minor": 5
}
