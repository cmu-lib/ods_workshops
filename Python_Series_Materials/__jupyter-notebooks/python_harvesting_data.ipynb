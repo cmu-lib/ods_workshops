{
  "cells": [
    {
      "cell_type": "markdown",
      "id": "35afd4b9-a17d-40fb-a5cc-460fbb84b24b",
      "metadata": {
        "id": "35afd4b9-a17d-40fb-a5cc-460fbb84b24b"
      },
      "source": [
        "## Build Your First Web Scraper"
      ]
    },
    {
      "cell_type": "markdown",
      "id": "6b34f688-419e-43ec-9f02-576676157191",
      "metadata": {
        "id": "6b34f688-419e-43ec-9f02-576676157191"
      },
      "source": [
        "An open, useful, and practical package for web scraping is Python's [urllib](https://docs.python.org/3/library/internet.html), which provides tools for working with URLs. For this session, we'll use the `urlopen()` funciton to open a URL within a program. The `urlopen()` function can be found in the urllib.request module. "
      ]
    },
    {
      "cell_type": "code",
      "execution_count": null,
      "id": "0507de15-bd80-459d-9d8e-d39aac5b7078",
      "metadata": {
        "id": "0507de15-bd80-459d-9d8e-d39aac5b7078"
      },
      "outputs": [],
      "source": [
        "# import urlopen \n",
        "from urllib.request import urlopen"
      ]
    },
    {
      "cell_type": "code",
      "execution_count": null,
      "id": "6d6dab52-c69d-4dc1-adbc-7b0ea1dce910",
      "metadata": {
        "id": "6d6dab52-c69d-4dc1-adbc-7b0ea1dce910"
      },
      "outputs": [],
      "source": [
        "#open the following URL page\n",
        "url = \"http://olympus.realpython.org/profiles/aphrodite\""
      ]
    },
    {
      "cell_type": "markdown",
      "id": "576e7a84-7a4b-4c24-9338-b0d913f9def4",
      "metadata": {
        "id": "576e7a84-7a4b-4c24-9338-b0d913f9def4"
      },
      "source": [
        "Pass *url* to `urlopen()`. The output is an HTTPResponse object which we'll use in the next step to extract the HTML form the page.  "
      ]
    },
    {
      "cell_type": "code",
      "execution_count": null,
      "id": "42172a75-2a67-4fde-ba4a-9dd6a945fd8a",
      "metadata": {
        "id": "42172a75-2a67-4fde-ba4a-9dd6a945fd8a",
        "outputId": "e8665609-aa03-448d-a8c5-00b0abf8f96c"
      },
      "outputs": [
        {
          "data": {
            "text/plain": [
              "<http.client.HTTPResponse at 0x7fb67a08a3d0>"
            ]
          },
          "execution_count": 3,
          "metadata": {},
          "output_type": "execute_result"
        }
      ],
      "source": [
        "#pass (url) to urlopen and name this value page\n",
        "page = urlopen(url)\n",
        "page"
      ]
    },
    {
      "cell_type": "markdown",
      "id": "884f6a22-2891-41be-8181-361e0111ff93",
      "metadata": {
        "id": "884f6a22-2891-41be-8181-361e0111ff93"
      },
      "source": [
        "To extract the HTML from the page, use the HTTP object's `.read()`, then use the .decode() to change from bytes to a string using `UTF-8`"
      ]
    },
    {
      "cell_type": "code",
      "execution_count": null,
      "id": "dea17e0e-23c7-4625-bb8e-953628ad5fa2",
      "metadata": {
        "id": "dea17e0e-23c7-4625-bb8e-953628ad5fa2",
        "outputId": "3f79e518-4772-4613-a59e-e0940fd28216"
      },
      "outputs": [
        {
          "name": "stdout",
          "output_type": "stream",
          "text": [
            "<html>\n",
            "<head>\n",
            "<title>Profile: Aphrodite</title>\n",
            "</head>\n",
            "<body bgcolor=\"yellow\">\n",
            "<center>\n",
            "<br><br>\n",
            "<img src=\"/static/aphrodite.gif\" />\n",
            "<h2>Name: Aphrodite</h2>\n",
            "<br><br>\n",
            "Favorite animal: Dove\n",
            "<br><br>\n",
            "Favorite color: Red\n",
            "<br><br>\n",
            "Hometown: Mount Olympus\n",
            "</center>\n",
            "</body>\n",
            "</html>\n",
            "\n"
          ]
        }
      ],
      "source": [
        "#use .read() to get bytes then change to string using .decode() and UTF-8\n",
        "html_bytes = page.read()\n",
        "html = html_bytes.decode(\"utf-8\")\n",
        "\n",
        "#the output that is printed is the HTML code from the website url above\n",
        "print(html)"
      ]
    },
    {
      "cell_type": "markdown",
      "id": "d3f9ea7e-6dca-4cbb-b6a9-f7fcc0f6a319",
      "metadata": {
        "id": "d3f9ea7e-6dca-4cbb-b6a9-f7fcc0f6a319"
      },
      "source": [
        "## Extract Text from HTML With String Methods"
      ]
    },
    {
      "cell_type": "markdown",
      "id": "6a1fc37d-4870-4f73-a420-e7c8254b11a9",
      "metadata": {
        "id": "6a1fc37d-4870-4f73-a420-e7c8254b11a9"
      },
      "source": [
        "Now that we have set it up so that we can extract the HTML from the page, let's look at how to extract information from a webpage's HTML. *One way* is to use string methods such as `.find()` to search through the text to find specific tags (e.g, `<title>` tag) and extract that information. "
      ]
    },
    {
      "cell_type": "markdown",
      "id": "f332fa1f-dcd3-49e5-96d7-047c549e5cb4",
      "metadata": {
        "id": "f332fa1f-dcd3-49e5-96d7-047c549e5cb4"
      },
      "source": [
        "The `.find()` will return an index (i.e., position) of the first occurance of a substring, which will provide us with the index of the opening of a given tag, in our case`<title>`. \n",
        "\n",
        "By having the the indexd of the first character of the title and the index of the first character of the closing `</title>`, we can use a string slice to extract the title. "
      ]
    },
    {
      "cell_type": "code",
      "execution_count": null,
      "id": "36723aa8-9bfe-48ce-be63-470685be3c11",
      "metadata": {
        "id": "36723aa8-9bfe-48ce-be63-470685be3c11",
        "outputId": "94816c8c-c4ca-4d2a-a61e-4f3a4e2973d2"
      },
      "outputs": [
        {
          "data": {
            "text/plain": [
              "14"
            ]
          },
          "execution_count": 5,
          "metadata": {},
          "output_type": "execute_result"
        }
      ],
      "source": [
        "#pass the string \"<title>\" to .fina()\n",
        "title_index = html.find(\"<title>\")\n",
        "title_index"
      ]
    },
    {
      "cell_type": "markdown",
      "id": "ab923750-ae33-449f-89f6-5fb119ee0701",
      "metadata": {
        "id": "ab923750-ae33-449f-89f6-5fb119ee0701"
      },
      "source": [
        "Since we are looking for the index of the title not the tag, we should add the length of the string `<title>` to `title_index`. "
      ]
    },
    {
      "cell_type": "code",
      "execution_count": null,
      "id": "a694d4d9-95c6-41fd-9e9b-4dd942422c43",
      "metadata": {
        "id": "a694d4d9-95c6-41fd-9e9b-4dd942422c43",
        "outputId": "e4627e71-2ea9-49f4-ca93-2c054e04860a"
      },
      "outputs": [
        {
          "data": {
            "text/plain": [
              "21"
            ]
          },
          "execution_count": 6,
          "metadata": {},
          "output_type": "execute_result"
        }
      ],
      "source": [
        "# add len(\"<title>\") to get the start index of the title\n",
        "start_index = title_index + len(\"<title>\")\n",
        "start_index"
      ]
    },
    {
      "cell_type": "markdown",
      "id": "cc53f4e3-a0c0-414f-bb3b-e13d92ccc572",
      "metadata": {
        "id": "cc53f4e3-a0c0-414f-bb3b-e13d92ccc572"
      },
      "source": [
        "To get the index of the closing `</title>`, we'll pass the string to `.find()"
      ]
    },
    {
      "cell_type": "code",
      "execution_count": null,
      "id": "74da7a1b-4e52-4950-80f5-287bc5f76dff",
      "metadata": {
        "id": "74da7a1b-4e52-4950-80f5-287bc5f76dff",
        "outputId": "686e2a5f-e849-43f9-dfdd-9283cec8a5f4"
      },
      "outputs": [
        {
          "data": {
            "text/plain": [
              "39"
            ]
          },
          "execution_count": 7,
          "metadata": {},
          "output_type": "execute_result"
        }
      ],
      "source": [
        "#pass \"</title>\" to get the index of the closing tag\n",
        "end_index = html.find(\"</title>\")\n",
        "end_index"
      ]
    },
    {
      "cell_type": "markdown",
      "id": "2020067a-c627-473f-8c33-a831b3aaaedb",
      "metadata": {
        "id": "2020067a-c627-473f-8c33-a831b3aaaedb"
      },
      "source": [
        "Now that we have the start and end indexes we can extract the title by slicing the html string"
      ]
    },
    {
      "cell_type": "code",
      "execution_count": null,
      "id": "3ce17b69-01b6-4ae6-b5bf-404f34ac2016",
      "metadata": {
        "id": "3ce17b69-01b6-4ae6-b5bf-404f34ac2016",
        "outputId": "66404ba1-f783-4551-d711-0e57c39e778a"
      },
      "outputs": [
        {
          "data": {
            "text/plain": [
              "'Profile: Aphrodite'"
            ]
          },
          "execution_count": 8,
          "metadata": {},
          "output_type": "execute_result"
        }
      ],
      "source": [
        "#extract the title \n",
        "title = html[start_index:end_index]\n",
        "title"
      ]
    },
    {
      "cell_type": "markdown",
      "id": "fd93e11f-13d6-41c4-bc28-0c18d77582ed",
      "metadata": {
        "id": "fd93e11f-13d6-41c4-bc28-0c18d77582ed"
      },
      "source": [
        "**Note**: Not all html will be as straightfoward, sometimes the html syntax will be less predictable. "
      ]
    },
    {
      "cell_type": "markdown",
      "id": "e8162cae-9b8c-465d-aa74-e410a41261f1",
      "metadata": {
        "id": "e8162cae-9b8c-465d-aa74-e410a41261f1"
      },
      "source": [
        "### Example: Extracting a title from messier html. \n",
        "\n",
        "Let's try to extract the title from another profile page. \n",
        "\n",
        "~~~python\n",
        "url = \"http://olympus.realpython.org/profiles/poseidon\"\n",
        "~~~"
      ]
    },
    {
      "cell_type": "code",
      "execution_count": null,
      "id": "65dc0a45-487f-432b-b861-0bae3a928293",
      "metadata": {
        "id": "65dc0a45-487f-432b-b861-0bae3a928293",
        "outputId": "41ec1578-04f5-4b26-c39e-8abf84b93bb8"
      },
      "outputs": [
        {
          "data": {
            "text/plain": [
              "'\\n<head>\\n<title >Profile: Poseidon'"
            ]
          },
          "execution_count": 9,
          "metadata": {},
          "output_type": "execute_result"
        }
      ],
      "source": [
        "url = \"http://olympus.realpython.org/profiles/poseidon\"\n",
        "page = urlopen(url)\n",
        "html = page.read().decode(\"utf-8\")\n",
        "start_index = html.find(\"<title>\") + len(\"<title>\")\n",
        "end_index = html.find(\"</title>\")\n",
        "title = html[start_index:end_index]\n",
        "title"
      ]
    },
    {
      "cell_type": "markdown",
      "id": "223d1cd8-b8ca-4d1e-9445-67cb24fb4dbb",
      "metadata": {
        "id": "223d1cd8-b8ca-4d1e-9445-67cb24fb4dbb"
      },
      "source": [
        "The opening `<title>` HTML tag for the /profiles/poseidon page has an extra space before the closing angle bracket (>), rendering it as `<title >`. As a result the `html.find(\"<title>\")` returns -1 because the exact substring `\"<title>\"` doesn’t exist. \n",
        "    \n",
        "When -1 is added to `len(\"<title>\")`, which is 7, the start_index variable is assigned the value 6, which is a newline character (\\n) right before the opening angle bracket (<) of the `<head>` tag. The `html[start_index:end_index]` will return all the HTML starting with that newline and ending just before the `</title>` tag.\n",
        "\n",
        "Since this will not be the last time we encounter messy html, we need a more reliable way to extract text from HTML."
      ]
    },
    {
      "cell_type": "markdown",
      "id": "b03f278b-454b-40d7-ab36-336f4ccd2cc9",
      "metadata": {
        "id": "b03f278b-454b-40d7-ab36-336f4ccd2cc9"
      },
      "source": [
        "## Regular Expressions (RegExes)"
      ]
    },
    {
      "cell_type": "markdown",
      "id": "1b7eb415-ba54-4e8d-bab4-6e8b880d7eab",
      "metadata": {
        "id": "1b7eb415-ba54-4e8d-bab4-6e8b880d7eab"
      },
      "source": [
        "#### What are RegExes? \n",
        " \n",
        "RegExes are a squence (i.e., pattern) of characters called metacharacters that you can apply to help you search for, match, and find text within a string. \n",
        "\n",
        "This is a strategy commonly used in command line interfaces (CLI). Python supports the use of regexes by importing the `re` library. Visit the [regex documentation](https://docs.python.org/3/library/re.html) to find more information. "
      ]
    },
    {
      "cell_type": "code",
      "execution_count": null,
      "id": "f4f6a014-6949-49c6-8717-238b3a315908",
      "metadata": {
        "id": "f4f6a014-6949-49c6-8717-238b3a315908"
      },
      "outputs": [],
      "source": [
        "# import the re module\n",
        "import re"
      ]
    },
    {
      "cell_type": "markdown",
      "id": "b0f7c40b-5bab-49ea-a063-928b2398853c",
      "metadata": {
        "id": "b0f7c40b-5bab-49ea-a063-928b2398853c"
      },
      "source": [
        "Each regex character has a special meaning. For example,  `*` means **zero or more instances**. When `*` applied this will search, match, and find zero or more instances of whatever comes ***before*** the `*`"
      ]
    },
    {
      "cell_type": "markdown",
      "id": "2e173df7-8744-4e87-a553-97fa0c44a6a3",
      "metadata": {
        "id": "2e173df7-8744-4e87-a553-97fa0c44a6a3"
      },
      "source": [
        "Use the `.findall()` to find a given text using `*` regex. The first argument ***ab*c*** is the regex pattern, and the second argument ***ac*** is the test string. \n",
        "\n",
        "The pattern will match any part of the string that begins with ***a***, ends with ***c***, and has zero or more instances of ***b*** between the ***a*** and ***b***. \n",
        "\n",
        "The `re.findall()` will return a list of all matches. "
      ]
    },
    {
      "cell_type": "code",
      "execution_count": null,
      "id": "1f4d8273-5d51-477e-9ace-4c020c12d70f",
      "metadata": {
        "id": "1f4d8273-5d51-477e-9ace-4c020c12d70f",
        "outputId": "9c55a86e-c978-404a-9ede-766ba29f7083"
      },
      "outputs": [
        {
          "data": {
            "text/plain": [
              "['ac']"
            ]
          },
          "execution_count": 11,
          "metadata": {},
          "output_type": "execute_result"
        }
      ],
      "source": [
        "#apply '*' to match zero or more instances\n",
        "re.findall(\"ab*c\", \"ac\") #try changing the test string to \"abcd\"\n"
      ]
    },
    {
      "cell_type": "markdown",
      "id": "9ff922c8-4952-456a-81db-e3d36d870e2f",
      "metadata": {
        "id": "9ff922c8-4952-456a-81db-e3d36d870e2f"
      },
      "source": [
        "**Note:** RegExes will only return pairs that match the pattern exactly, which means ***it is*** case sensitive. The following example illustrates this by returning an empty list."
      ]
    },
    {
      "cell_type": "code",
      "execution_count": null,
      "id": "e025d109-c234-4622-9bea-7817df0bbd3e",
      "metadata": {
        "id": "e025d109-c234-4622-9bea-7817df0bbd3e",
        "outputId": "507f96ed-6902-48c5-dd07-98ec3c60b37c"
      },
      "outputs": [
        {
          "data": {
            "text/plain": [
              "[]"
            ]
          },
          "execution_count": 12,
          "metadata": {},
          "output_type": "execute_result"
        }
      ],
      "source": [
        "#let's try to match case\n",
        "re.findall(\"ab*c\", \"ABC\")"
      ]
    },
    {
      "cell_type": "markdown",
      "id": "7b1bf02a-b574-4bd1-81c3-c997f8faa66e",
      "metadata": {
        "id": "7b1bf02a-b574-4bd1-81c3-c997f8faa66e"
      },
      "source": [
        "If you want your pattern to search and match a dataset regardless of case, you can pass a third argument `re.IGNORECASE`"
      ]
    },
    {
      "cell_type": "code",
      "execution_count": null,
      "id": "6cf62c73-9d0f-4fd7-b45d-fe088e79a928",
      "metadata": {
        "id": "6cf62c73-9d0f-4fd7-b45d-fe088e79a928",
        "outputId": "440c1d47-dc2d-4700-fcc3-c96080f3925a"
      },
      "outputs": [
        {
          "data": {
            "text/plain": [
              "['ABC']"
            ]
          },
          "execution_count": 13,
          "metadata": {},
          "output_type": "execute_result"
        }
      ],
      "source": [
        "#add re.ignorecase argument to ignore case when finding matches\n",
        "re.findall(\"ab*c\", \"ABC\", re.IGNORECASE)"
      ]
    },
    {
      "cell_type": "markdown",
      "id": "bb020b12-11ae-4d6a-a6bd-f9cd49e67960",
      "metadata": {
        "id": "bb020b12-11ae-4d6a-a6bd-f9cd49e67960"
      },
      "source": [
        "Another regex character is `.`, this metacharacter will match **any single character**. For example, you can find all instances of a string that contain the letters \"a\" and \"c\" separated by a ***single*** character, such as in this example.  "
      ]
    },
    {
      "cell_type": "code",
      "execution_count": null,
      "id": "99e1405d-1b32-4ec1-a944-e5d527e38808",
      "metadata": {
        "id": "99e1405d-1b32-4ec1-a944-e5d527e38808",
        "outputId": "33f414cc-740d-4201-e4a7-ca01a8ea63d9"
      },
      "outputs": [
        {
          "data": {
            "text/plain": [
              "['abc']"
            ]
          },
          "execution_count": 14,
          "metadata": {},
          "output_type": "execute_result"
        }
      ],
      "source": [
        "#apply '.' to match any single character \n",
        "re.findall(\"a.*c\", \"abc\") # try changing the test string to \"abbc\"\n"
      ]
    },
    {
      "cell_type": "markdown",
      "id": "4cda00d6-c08a-40cc-9bd0-49b463ddcd4f",
      "metadata": {
        "id": "4cda00d6-c08a-40cc-9bd0-49b463ddcd4f"
      },
      "source": [
        "When using the function `re.search()` to search for a particular pattern inside a string, it's helpful to call `.group()`. The `.group()` will return the first and most inclusive results. "
      ]
    },
    {
      "cell_type": "code",
      "execution_count": null,
      "id": "f0bfdb56-025e-4565-9924-429dbd32d03b",
      "metadata": {
        "id": "f0bfdb56-025e-4565-9924-429dbd32d03b",
        "outputId": "f3f6f774-f6c5-40e7-802d-7f54fc9d2468"
      },
      "outputs": [
        {
          "data": {
            "text/plain": [
              "'ABC'"
            ]
          },
          "execution_count": 15,
          "metadata": {},
          "output_type": "execute_result"
        }
      ],
      "source": [
        "#use '.group' to call the first and most comprehensive results\n",
        "match_results = re.search(\"ab*c\", \"ABC\", re.IGNORECASE)\n",
        "match_results.group()"
      ]
    },
    {
      "cell_type": "markdown",
      "id": "0e197374-4d3b-4543-adea-98fcfe1e9351",
      "metadata": {
        "id": "0e197374-4d3b-4543-adea-98fcfe1e9351"
      },
      "source": [
        "A second helpful function to analyze text is the `re.sub()`, short for substitute. The `re.sub()`replaces the text in a string that matches a regular expression with new text, so you can think of it similarly to replacing. \n",
        "\n",
        "In the following example the arguments passed are: 1. the regular expression, 2. the replacement text, and 3. the string. \n",
        "\n",
        "You'll notice the regex includes a `?`. The `*?` works the same way as `*` except that it will match the shortest possible *string of text*. So it finds two matches, `<replaced>` and `<tags>`, and substitutes \"ELEPHANTS\" for both. "
      ]
    },
    {
      "cell_type": "code",
      "execution_count": null,
      "id": "60022a99-2fa3-46b1-9424-ed4cb510e281",
      "metadata": {
        "id": "60022a99-2fa3-46b1-9424-ed4cb510e281",
        "outputId": "31d017ea-0477-492c-a455-088f6b35de14"
      },
      "outputs": [
        {
          "data": {
            "text/plain": [
              "\"Everything is ELEPHANTS if it's in ELEPHANTS.\""
            ]
          },
          "execution_count": 16,
          "metadata": {},
          "output_type": "execute_result"
        }
      ],
      "source": [
        "#match and substitute Elephants \n",
        "string = \"Everything is <replaced> if it's in <tags>.\"\n",
        "string = re.sub(\"<.*?>\", \"ELEPHANTS\", string) #try removing the question mark\n",
        "string"
      ]
    },
    {
      "cell_type": "markdown",
      "id": "fff95c89-8bdd-4596-8a37-dc26491c8470",
      "metadata": {
        "tags": [],
        "id": "fff95c89-8bdd-4596-8a37-dc26491c8470"
      },
      "source": [
        "## Exercises"
      ]
    },
    {
      "cell_type": "markdown",
      "id": "c6463140-15d7-476d-8f3f-d41256f63237",
      "metadata": {
        "tags": [],
        "id": "c6463140-15d7-476d-8f3f-d41256f63237"
      },
      "source": [
        "### Exercise One: Extract Text Using RegEx"
      ]
    },
    {
      "cell_type": "markdown",
      "id": "a346c424-30ae-43f4-be57-3d062a6041db",
      "metadata": {
        "tags": [],
        "id": "a346c424-30ae-43f4-be57-3d062a6041db"
      },
      "source": [
        "Parse out the title from this [profile](http://olympus.realpython.org/profiles/dionysus) page which has the following HTML:\n",
        "\n",
        "~~~ HTML \n",
        "<TITLE >Profile: Dionysus</title  / >\n",
        "\n",
        "~~~"
      ]
    },
    {
      "cell_type": "markdown",
      "id": "4d08e88d-2023-4e75-9b55-b7105c81a113",
      "metadata": {
        "tags": [],
        "id": "4d08e88d-2023-4e75-9b55-b7105c81a113"
      },
      "source": [
        "### Solution:"
      ]
    },
    {
      "cell_type": "code",
      "execution_count": null,
      "id": "95b7a86d-f1c4-4853-be7a-dfc4f00e507e",
      "metadata": {
        "id": "95b7a86d-f1c4-4853-be7a-dfc4f00e507e",
        "outputId": "46c3e7af-7f3c-40c6-ed70-53321644b9ad"
      },
      "outputs": [
        {
          "name": "stdout",
          "output_type": "stream",
          "text": [
            "Profile: Dionysus\n"
          ]
        }
      ],
      "source": [
        "# regex_soup.py\n",
        "\n",
        "import re\n",
        "from urllib.request import urlopen\n",
        "\n",
        "url = \"http://olympus.realpython.org/profiles/dionysus\"\n",
        "page = urlopen(url)\n",
        "html = page.read().decode(\"utf-8\")\n",
        "\n",
        "pattern = \"<title.*?>.*?</title.*?>\"\n",
        "match_results = re.search(pattern, html, re.IGNORECASE)\n",
        "title = match_results.group()\n",
        "title = re.sub(\"<.*?>\", \"\", title) # Remove HTML tags\n",
        "\n",
        "print(title)"
      ]
    },
    {
      "cell_type": "markdown",
      "id": "3b449af8-177f-4654-ae9c-387a7c13dff3",
      "metadata": {
        "tags": [],
        "id": "3b449af8-177f-4654-ae9c-387a7c13dff3"
      },
      "source": [
        "### Exercise Two: Scrape Data From a Website"
      ]
    },
    {
      "cell_type": "markdown",
      "id": "65c70d53-9ea8-4341-89d3-8fa7a6b2215e",
      "metadata": {
        "id": "65c70d53-9ea8-4341-89d3-8fa7a6b2215e"
      },
      "source": [
        "Write a program that grabs the full HTML from the following URL:\n",
        "~~~ python\n",
        "url = \"http://olympus.realpython.org/profiles/dionysus\"\n",
        "~~~  \n",
        "\n",
        "Then use .find() to display the text following Name: and Favorite Color: (not including any leading spaces or trailing HTML tags that might appear on the same line)."
      ]
    },
    {
      "cell_type": "markdown",
      "id": "e629850e-0dd9-4774-8207-39346f4b0ab4",
      "metadata": {
        "tags": [],
        "id": "e629850e-0dd9-4774-8207-39346f4b0ab4"
      },
      "source": [
        "### Solution:"
      ]
    },
    {
      "cell_type": "markdown",
      "id": "6b1fc4d8-f9b6-4748-a86d-bb5c90e21aec",
      "metadata": {
        "jp-MarkdownHeadingCollapsed": true,
        "tags": [],
        "id": "6b1fc4d8-f9b6-4748-a86d-bb5c90e21aec"
      },
      "source": [
        "First, import the urlopen function from the urlib.request module:\n",
        "\n",
        "~~~Python\n",
        "from urllib.request import urlopen\n",
        "~~~\n",
        "\n",
        "Then open the URL and use the .read() method of the HTTPResponse object returned by urlopen() to read the page’s HTML:\n",
        "\n",
        "~~~Python\n",
        "url = \"http://olympus.realpython.org/profiles/dionysus\"\n",
        "html_page = urlopen(url)\n",
        "html_text = html_page.read().decode(\"utf-8\")\n",
        "~~~\n",
        "\n",
        "The .read() method returns a byte string, so you use .decode() to decode the bytes using the UTF-8 encoding.\n",
        "\n",
        "Now that you have the HTML source of the web page as a string assigned to the html_text variable, you can extract Dionysus’s name and favorite color from his profile. The structure of the HTML for Dionysus’s profile is the same as for Aphrodite’s profile, which you saw earlier.\n",
        "\n",
        "You can get the name by finding the string \"Name:\" in the text and extracting everything that comes after the first occurence of the string and before the next HTML tag. That is, you need to extract everything after the colon (:) and before the first angle bracket (<). You can use the same technique to extract the favorite color.\n",
        "\n",
        "The following [for loop](https://realpython.com/python-for-loop/) extracts this text for both the name and favorite color:\n",
        "\n",
        "~~~ Python\n",
        "for string in [\"Name: \", \"Favorite Color:\"]:\n",
        "    string_start_idx = html_text.find(string)\n",
        "    text_start_idx = string_start_idx + len(string)\n",
        "\n",
        "    next_html_tag_offset = html_text[text_start_idx:].find(\"<\")\n",
        "    text_end_idx = text_start_idx + next_html_tag_offset\n",
        "\n",
        "    raw_text = html_text[text_start_idx : text_end_idx]\n",
        "    clean_text = raw_text.strip(\" \\r\\n\\t\")\n",
        "    print(clean_text)\n",
        "~~~\n",
        "\n",
        "\n",
        "It looks like there’s a lot going on in this for loop, but it’s just a little bit of arithmetic to calculate the right indices for extracting the desired text. Go ahead and break it down:\n",
        "\n",
        "1. You use html_text.find() to find the starting index of the string, either \"Name:\" or \"Favorite Color:\", and then assign the index to string_start_idx.\n",
        "\n",
        "2. Since the text to extract starts just after the colon in \"Name:\" or \"Favorite Color:\", you get the index of the character immediately after the colon by adding the length of the string to start_string_idx, and then assign the result to text_start_idx.\n",
        "\n",
        "3. You calculate the ending index of the text to extract by determining the index of the first angle bracket (<) relative to text_start_idx and assign this value to next_html_tag_offset. Then you add that value to text_start_idx and assign the result to text_end_idx.\n",
        "\n",
        "4. You extract the text by slicing html_text from text_start_idx to text_end_idx and assign this string to raw_text.\n",
        "\n",
        "5. You remove any whitespace from the beginning and end of raw_text using .strip() and assign the result to clean_text.\n",
        "\n",
        "At the end of the loop, you use print() to display the extracted text. The final output looks like this:\n",
        "\n",
        "~~~shell\n",
        "Dionysus\n",
        "Wine\n",
        "~~~"
      ]
    },
    {
      "cell_type": "markdown",
      "id": "acaf8718-433d-4b3d-93bb-ccdce8a98c57",
      "metadata": {
        "tags": [],
        "id": "acaf8718-433d-4b3d-93bb-ccdce8a98c57"
      },
      "source": [
        "# Use an HTML Parser for Web Scraping in Python"
      ]
    },
    {
      "cell_type": "markdown",
      "id": "c4d9a1ee-cef8-4397-bba0-109e6992268c",
      "metadata": {
        "tags": [],
        "id": "c4d9a1ee-cef8-4397-bba0-109e6992268c"
      },
      "source": [
        "## Install Beautiful Soup"
      ]
    },
    {
      "cell_type": "markdown",
      "id": "132cca0b-ddf7-4dae-905a-151198b59963",
      "metadata": {
        "id": "132cca0b-ddf7-4dae-905a-151198b59963"
      },
      "source": [
        "Install the latest version of Beautiful Soup by running the cell below:"
      ]
    },
    {
      "cell_type": "code",
      "execution_count": null,
      "id": "c373348d-17ac-467c-8dc7-76446299d776",
      "metadata": {
        "id": "c373348d-17ac-467c-8dc7-76446299d776",
        "outputId": "72e249ec-4bbc-4005-9b19-83c08a5117b8"
      },
      "outputs": [
        {
          "name": "stdout",
          "output_type": "stream",
          "text": [
            "Requirement already satisfied: beautifulsoup4 in c:\\users\\cgriego\\anaconda3\\lib\\site-packages (4.11.1)\n",
            "Requirement already satisfied: soupsieve>1.2 in c:\\users\\cgriego\\anaconda3\\lib\\site-packages (from beautifulsoup4) (2.3.1)\n"
          ]
        }
      ],
      "source": [
        "! pip install beautifulsoup4"
      ]
    },
    {
      "cell_type": "markdown",
      "id": "9694c846-0ead-4e51-ae8b-aa4a8bde4867",
      "metadata": {
        "tags": [],
        "id": "9694c846-0ead-4e51-ae8b-aa4a8bde4867"
      },
      "source": [
        "## Create a `BeautifulSoup` Object"
      ]
    },
    {
      "cell_type": "markdown",
      "id": "b9a5508f-67fa-47ad-ab14-6f9a6122cbf3",
      "metadata": {
        "id": "b9a5508f-67fa-47ad-ab14-6f9a6122cbf3"
      },
      "source": [
        "Now import `BeautifulSoup` from `bs4`. Import `urlopen` again, if needed."
      ]
    },
    {
      "cell_type": "code",
      "execution_count": null,
      "id": "04d05136-961b-4a95-b788-2b7b1739def8",
      "metadata": {
        "id": "04d05136-961b-4a95-b788-2b7b1739def8"
      },
      "outputs": [],
      "source": [
        "from bs4 import BeautifulSoup\n",
        "from urllib.request import urlopen"
      ]
    },
    {
      "cell_type": "markdown",
      "id": "fdf1d8d3-a11d-4a6e-b31c-71ea4106b15f",
      "metadata": {
        "id": "fdf1d8d3-a11d-4a6e-b31c-71ea4106b15f"
      },
      "source": [
        "Open a URL and read the HTML"
      ]
    },
    {
      "cell_type": "code",
      "execution_count": null,
      "id": "48dffadb-1d22-442a-971e-681a25521386",
      "metadata": {
        "id": "48dffadb-1d22-442a-971e-681a25521386"
      },
      "outputs": [],
      "source": [
        "url = \"http://olympus.realpython.org/profiles/dionysus\"\n",
        "page = urlopen(url)\n",
        "html = page.read().decode(\"utf-8\")"
      ]
    },
    {
      "cell_type": "code",
      "execution_count": null,
      "id": "0c57e66c-2503-4042-883c-7619e58f5c6e",
      "metadata": {
        "id": "0c57e66c-2503-4042-883c-7619e58f5c6e",
        "outputId": "053752b2-58b2-4500-bf7b-fd025c987468"
      },
      "outputs": [
        {
          "name": "stdout",
          "output_type": "stream",
          "text": [
            "<html>\n",
            "<head>\n",
            "<TITLE >Profile: Dionysus</title  / >\n",
            "</head>\n",
            "<body bgcolor=\"yellow\">\n",
            "<center>\n",
            "<br><br>\n",
            "<img src=\"/static/dionysus.jpg\" />\n",
            "<h2>Name: Dionysus</h2>\n",
            "<img src=\"/static/grapes.png\"><br><br>\n",
            "Hometown: Mount Olympus\n",
            "<br><br>\n",
            "Favorite animal: Leopard <br>\n",
            "<br>\n",
            "Favorite Color: Wine\n",
            "</center>\n",
            "</body>\n",
            "</html>\n",
            "\n"
          ]
        }
      ],
      "source": [
        "print(html)"
      ]
    },
    {
      "cell_type": "markdown",
      "id": "3ceff9bb-77b1-4bf4-a2e3-2fbe6e440c4c",
      "metadata": {
        "id": "3ceff9bb-77b1-4bf4-a2e3-2fbe6e440c4c"
      },
      "source": [
        "Now create a `BeautifulSoup` object using `html`"
      ]
    },
    {
      "cell_type": "code",
      "execution_count": null,
      "id": "796dd9e0-ca60-4cf6-bad5-389505e5443e",
      "metadata": {
        "id": "796dd9e0-ca60-4cf6-bad5-389505e5443e",
        "outputId": "fc4e59bb-d09e-4c69-fdca-2d78718dd315"
      },
      "outputs": [
        {
          "name": "stdout",
          "output_type": "stream",
          "text": [
            "<html>\n",
            "<head>\n",
            "<title>Profile: Dionysus</title>\n",
            "</head>\n",
            "<body bgcolor=\"yellow\">\n",
            "<center>\n",
            "<br/><br/>\n",
            "<img src=\"/static/dionysus.jpg\"/>\n",
            "<h2>Name: Dionysus</h2>\n",
            "<img src=\"/static/grapes.png\"/><br/><br/>\n",
            "Hometown: Mount Olympus\n",
            "<br/><br/>\n",
            "Favorite animal: Leopard <br/>\n",
            "<br/>\n",
            "Favorite Color: Wine\n",
            "</center>\n",
            "</body>\n",
            "</html>\n",
            "\n"
          ]
        }
      ],
      "source": [
        "soup = BeautifulSoup(html, \"html.parser\")\n",
        "print(soup)"
      ]
    },
    {
      "cell_type": "markdown",
      "id": "11521383-fc7d-4cb5-9beb-d3af5eacfb7a",
      "metadata": {
        "id": "11521383-fc7d-4cb5-9beb-d3af5eacfb7a"
      },
      "source": [
        "The second argument, \"`html.parser`\" tells the object which parser to use to interpret the supplied HTML. "
      ]
    },
    {
      "cell_type": "markdown",
      "id": "662a0578-e1fb-4983-97e3-ed1c792fcfba",
      "metadata": {
        "tags": [],
        "id": "662a0578-e1fb-4983-97e3-ed1c792fcfba"
      },
      "source": [
        "## Use a `BeautifulSoup` Object"
      ]
    },
    {
      "cell_type": "markdown",
      "id": "de67750b-a152-473c-b5c6-c54dd5219bf7",
      "metadata": {
        "id": "de67750b-a152-473c-b5c6-c54dd5219bf7"
      },
      "source": [
        "Use the `get_text()` method to extract all the text and remove HTML tags."
      ]
    },
    {
      "cell_type": "code",
      "execution_count": null,
      "id": "9654245e-52d7-430d-82ed-80ab1096bc3a",
      "metadata": {
        "id": "9654245e-52d7-430d-82ed-80ab1096bc3a",
        "outputId": "a9b83120-23be-4ec7-c88c-0b60dd72eaea"
      },
      "outputs": [
        {
          "name": "stdout",
          "output_type": "stream",
          "text": [
            "\n",
            "\n",
            "Profile: Dionysus\n",
            "\n",
            "\n",
            "\n",
            "\n",
            "\n",
            "Name: Dionysus\n",
            "\n",
            "Hometown: Mount Olympus\n",
            "\n",
            "Favorite animal: Leopard \n",
            "\n",
            "Favorite Color: Wine\n",
            "\n",
            "\n",
            "\n",
            "\n"
          ]
        }
      ],
      "source": [
        "print(soup.get_text())"
      ]
    },
    {
      "cell_type": "markdown",
      "id": "55e851bb-b193-4275-a00a-556fa1c0a1a3",
      "metadata": {
        "id": "55e851bb-b193-4275-a00a-556fa1c0a1a3"
      },
      "source": [
        "Now we can retrieve data from the soup object with the HTML tags.\n",
        "\n",
        "We can search for every instance of a tag using `find_all()`"
      ]
    },
    {
      "cell_type": "code",
      "execution_count": null,
      "id": "d6380160-b061-49a1-88b9-48833e426d85",
      "metadata": {
        "id": "d6380160-b061-49a1-88b9-48833e426d85",
        "outputId": "d4e277f9-f546-4143-d084-76a37c5f196c"
      },
      "outputs": [
        {
          "data": {
            "text/plain": [
              "[<img src=\"/static/dionysus.jpg\"/>, <img src=\"/static/grapes.png\"/>]"
            ]
          },
          "execution_count": 21,
          "metadata": {},
          "output_type": "execute_result"
        }
      ],
      "source": [
        "soup.find_all(\"img\")"
      ]
    },
    {
      "cell_type": "markdown",
      "id": "865bbdba-40cd-4cd1-8b60-54ff78a1be64",
      "metadata": {
        "id": "865bbdba-40cd-4cd1-8b60-54ff78a1be64"
      },
      "source": [
        "This returns a list of all `<img>` tags where the `src` attribute shows the path to the images on this page. "
      ]
    },
    {
      "cell_type": "markdown",
      "id": "1c49f522-31e8-4e88-bd45-1d4be21f2297",
      "metadata": {
        "id": "1c49f522-31e8-4e88-bd45-1d4be21f2297"
      },
      "source": [
        "Unpack the list in to separate variables:"
      ]
    },
    {
      "cell_type": "code",
      "execution_count": null,
      "id": "a16ce8de-ee6f-42fa-a46f-07e1c35f696e",
      "metadata": {
        "id": "a16ce8de-ee6f-42fa-a46f-07e1c35f696e"
      },
      "outputs": [],
      "source": [
        "image1, image2 = soup.find_all(\"img\")"
      ]
    },
    {
      "cell_type": "markdown",
      "id": "e642d2c3-6306-4797-a295-1afc0d9079e5",
      "metadata": {
        "id": "e642d2c3-6306-4797-a295-1afc0d9079e5"
      },
      "source": [
        "Each object has a `name` property that tells the type of HTML tag"
      ]
    },
    {
      "cell_type": "code",
      "execution_count": null,
      "id": "08c6452a-967e-4cb7-82f4-23a3b95baec5",
      "metadata": {
        "id": "08c6452a-967e-4cb7-82f4-23a3b95baec5",
        "outputId": "cf027f0e-bf7d-4ba0-ed33-d7798bf3e61b"
      },
      "outputs": [
        {
          "data": {
            "text/plain": [
              "'img'"
            ]
          },
          "execution_count": 17,
          "metadata": {},
          "output_type": "execute_result"
        }
      ],
      "source": [
        "image1.name"
      ]
    },
    {
      "cell_type": "markdown",
      "id": "28207833-0cc5-4474-bb4f-f07fc4521956",
      "metadata": {
        "id": "28207833-0cc5-4474-bb4f-f07fc4521956"
      },
      "source": [
        "Access the HTML attributes of the object by calling it in square brackets, similar to keys in a dictionary:"
      ]
    },
    {
      "cell_type": "code",
      "execution_count": null,
      "id": "63f5a36b-0f05-4e0a-ab51-449645686931",
      "metadata": {
        "id": "63f5a36b-0f05-4e0a-ab51-449645686931",
        "outputId": "ef45bec2-1832-4c06-cc22-6ab76baa4073"
      },
      "outputs": [
        {
          "data": {
            "text/plain": [
              "'/static/dionysus.jpg'"
            ]
          },
          "execution_count": 18,
          "metadata": {},
          "output_type": "execute_result"
        }
      ],
      "source": [
        "image1[\"src\"]"
      ]
    },
    {
      "cell_type": "code",
      "execution_count": null,
      "id": "13b97913-8285-459b-94cc-01ad71dba38c",
      "metadata": {
        "id": "13b97913-8285-459b-94cc-01ad71dba38c",
        "outputId": "c30ff3a4-6eba-4e8e-9ffb-e5b3e438ea63"
      },
      "outputs": [
        {
          "data": {
            "text/plain": [
              "'/static/grapes.png'"
            ]
          },
          "execution_count": 19,
          "metadata": {},
          "output_type": "execute_result"
        }
      ],
      "source": [
        "image2[\"src\"]"
      ]
    },
    {
      "cell_type": "markdown",
      "id": "8d4ad667-c170-42fa-b445-dba1a33468b0",
      "metadata": {
        "id": "8d4ad667-c170-42fa-b445-dba1a33468b0"
      },
      "source": [
        "Other HTML tags may have multiple attributes that you can access"
      ]
    },
    {
      "cell_type": "markdown",
      "id": "9c21bf42-c7c9-4530-b566-f662f53042c0",
      "metadata": {
        "id": "9c21bf42-c7c9-4530-b566-f662f53042c0"
      },
      "source": [
        "You can retrieve certain tags directly from the soup object"
      ]
    },
    {
      "cell_type": "code",
      "execution_count": null,
      "id": "7e86edb2-6c69-4131-9d78-93ccb3c099be",
      "metadata": {
        "id": "7e86edb2-6c69-4131-9d78-93ccb3c099be",
        "outputId": "40e7c419-198b-4102-d3cb-9fb918441461"
      },
      "outputs": [
        {
          "data": {
            "text/plain": [
              "<title>Profile: Dionysus</title>"
            ]
          },
          "execution_count": 22,
          "metadata": {},
          "output_type": "execute_result"
        }
      ],
      "source": [
        "soup.title"
      ]
    },
    {
      "cell_type": "markdown",
      "id": "2095c034-eb81-4394-886d-cc94d71930de",
      "metadata": {
        "id": "2095c034-eb81-4394-886d-cc94d71930de"
      },
      "source": [
        "There are multiple ways to retrieve the string between the tags:"
      ]
    },
    {
      "cell_type": "code",
      "execution_count": null,
      "id": "8c5ed70a-6d15-49e1-a3d5-0a8dc5aee24c",
      "metadata": {
        "id": "8c5ed70a-6d15-49e1-a3d5-0a8dc5aee24c",
        "outputId": "fc06e63a-38ba-4e28-a6eb-802bb0c51575"
      },
      "outputs": [
        {
          "name": "stdout",
          "output_type": "stream",
          "text": [
            "Profile: Dionysus\n",
            "Profile: Dionysus\n"
          ]
        }
      ],
      "source": [
        "print(soup.title.string)\n",
        "print(soup.title.get_text())"
      ]
    },
    {
      "cell_type": "markdown",
      "id": "a3bc0eed-9fe9-42aa-87fd-45c1c56d1313",
      "metadata": {
        "id": "a3bc0eed-9fe9-42aa-87fd-45c1c56d1313"
      },
      "source": [
        "You can also use Beautfiul Soup to search for tags where the attributes match certain values. Going back to the example with `<img>` tags, we could search for the tag that specifically has a `src` attribute equal to `/static/dionysus.jpg`:"
      ]
    },
    {
      "cell_type": "code",
      "execution_count": null,
      "id": "bffd3794-99ea-4339-bbb9-dc76ef83a9cd",
      "metadata": {
        "id": "bffd3794-99ea-4339-bbb9-dc76ef83a9cd",
        "outputId": "a64ee919-dea5-432f-b278-e135148385d7"
      },
      "outputs": [
        {
          "data": {
            "text/plain": [
              "[<img src=\"/static/dionysus.jpg\"/>]"
            ]
          },
          "execution_count": 25,
          "metadata": {},
          "output_type": "execute_result"
        }
      ],
      "source": [
        "soup.find_all(\"img\", src=\"/static/dionysus.jpg\")"
      ]
    },
    {
      "cell_type": "markdown",
      "id": "0dc9e871-fed9-4cfb-93da-cddc71735461",
      "metadata": {
        "id": "0dc9e871-fed9-4cfb-93da-cddc71735461"
      },
      "source": [
        "This is a very specific example. Normally you will want to spend time looking through the complicated HTML structures of web page sources. Typically you will be able to identify which tags, and attributes, contain the data you are looking to extract."
      ]
    },
    {
      "cell_type": "markdown",
      "id": "5a9414fc-bb0b-4ce5-85d8-498c789093d3",
      "metadata": {
        "tags": [],
        "id": "5a9414fc-bb0b-4ce5-85d8-498c789093d3"
      },
      "source": [
        "## Exercise"
      ]
    },
    {
      "cell_type": "markdown",
      "id": "0a48792c-9314-46b0-8c51-65d92fe93ca9",
      "metadata": {
        "id": "0a48792c-9314-46b0-8c51-65d92fe93ca9"
      },
      "source": [
        "Read the HTML from the page at the URL: `http://olympus.realpython.org/profiles`\n",
        "\n",
        "Use Beautiful Soup to extract tags with the name `a` and retrieve the values from the `href` attribute. What do you think these items represent?"
      ]
    },
    {
      "cell_type": "markdown",
      "id": "07e4ca00-0cba-42b8-9b82-ad4f88819130",
      "metadata": {
        "tags": [],
        "id": "07e4ca00-0cba-42b8-9b82-ad4f88819130"
      },
      "source": [
        "### Solution"
      ]
    },
    {
      "cell_type": "code",
      "execution_count": null,
      "id": "73f0d72d-2bdb-4b27-85db-bd179f563ce0",
      "metadata": {
        "id": "73f0d72d-2bdb-4b27-85db-bd179f563ce0"
      },
      "outputs": [],
      "source": [
        "from urllib.request import urlopen\n",
        "from bs4 import BeautifulSoup"
      ]
    },
    {
      "cell_type": "code",
      "execution_count": null,
      "id": "af1ceb63-f7e8-4775-a235-66bf7928847a",
      "metadata": {
        "id": "af1ceb63-f7e8-4775-a235-66bf7928847a",
        "outputId": "1442f7d0-6279-4bdc-97b8-d6890617efe7"
      },
      "outputs": [
        {
          "name": "stdout",
          "output_type": "stream",
          "text": [
            "<html>\n",
            "<head>\n",
            "<title>All Profiles</title>\n",
            "</head>\n",
            "<body bgcolor=\"yellow\">\n",
            "<center>\n",
            "<br><br>\n",
            "<h1>All Profiles:</h1>\n",
            "<br><br>\n",
            "<h2>\n",
            "<a href=\"/profiles/aphrodite\">Aphrodite</a>\n",
            "<br><br>\n",
            "<a href=\"/profiles/poseidon\">Poseidon</a>\n",
            "<br><br>\n",
            "<a href=\"/profiles/dionysus\">Dionysus</a>\n",
            "</h2>\n",
            "</center>\n",
            "</body>\n",
            "</html>\n",
            "\n"
          ]
        }
      ],
      "source": [
        "url = \"http://olympus.realpython.org/profiles\"\n",
        "\n",
        "html_page = urlopen(url)\n",
        "html_text = html_page.read().decode(\"utf-8\")\n",
        "print(html_text)"
      ]
    },
    {
      "cell_type": "code",
      "execution_count": null,
      "id": "ffb92f4d-9d30-4bc9-a735-19a814058be3",
      "metadata": {
        "id": "ffb92f4d-9d30-4bc9-a735-19a814058be3",
        "outputId": "5d7db8a8-8078-463c-8b54-72ea8bed5311"
      },
      "outputs": [
        {
          "name": "stdout",
          "output_type": "stream",
          "text": [
            "\n",
            "\n",
            "All Profiles\n",
            "\n",
            "\n",
            "\n",
            "\n",
            "All Profiles:\n",
            "\n",
            "\n",
            "Aphrodite\n",
            "\n",
            "Poseidon\n",
            "\n",
            "Dionysus\n",
            "\n",
            "\n",
            "\n",
            "\n",
            "\n"
          ]
        }
      ],
      "source": [
        "soup = BeautifulSoup(html_text, \"html.parser\")\n",
        "print(soup.get_text())"
      ]
    },
    {
      "cell_type": "code",
      "execution_count": null,
      "id": "6d4b7773-46f8-4c1c-8288-6c01bb50c830",
      "metadata": {
        "id": "6d4b7773-46f8-4c1c-8288-6c01bb50c830",
        "outputId": "08468c45-1c9f-4c1a-dff0-33757e49c8a3"
      },
      "outputs": [
        {
          "data": {
            "text/plain": [
              "[<a href=\"/profiles/aphrodite\">Aphrodite</a>,\n",
              " <a href=\"/profiles/poseidon\">Poseidon</a>,\n",
              " <a href=\"/profiles/dionysus\">Dionysus</a>]"
            ]
          },
          "execution_count": 7,
          "metadata": {},
          "output_type": "execute_result"
        }
      ],
      "source": [
        "soup.find_all(\"a\")"
      ]
    },
    {
      "cell_type": "code",
      "execution_count": null,
      "id": "1132afbc-c09f-4471-83fc-383bf004e3f9",
      "metadata": {
        "id": "1132afbc-c09f-4471-83fc-383bf004e3f9",
        "outputId": "ec5a7209-fc97-43c9-aa2e-31a495e4c59c"
      },
      "outputs": [
        {
          "name": "stdout",
          "output_type": "stream",
          "text": [
            "/profiles/aphrodite\n",
            "/profiles/poseidon\n",
            "/profiles/dionysus\n"
          ]
        }
      ],
      "source": [
        "for link in soup.find_all(\"a\"):\n",
        "    print(link[\"href\"])"
      ]
    },
    {
      "cell_type": "markdown",
      "id": "1d23eed7-a927-43c4-afe0-ee3af2e554f2",
      "metadata": {
        "tags": [],
        "id": "1d23eed7-a927-43c4-afe0-ee3af2e554f2"
      },
      "source": [
        "# Interact with HTML Forms"
      ]
    },
    {
      "cell_type": "markdown",
      "id": "88b7ba7c-538a-4cae-8cd4-099547c84e2d",
      "metadata": {
        "id": "88b7ba7c-538a-4cae-8cd4-099547c84e2d"
      },
      "source": [
        "`urllib` and `BeautifulSoup` work very well to request data from a static web page. However, you may need to interact with a web page, like submitting a form to access content. \n",
        "\n",
        "In this section we will use `MechanicalSoup`, which installs a headless browser, which is a web browser you can access programmatically with Python."
      ]
    },
    {
      "cell_type": "markdown",
      "id": "a9c92e05-28a0-485e-bf97-9bb8b6605974",
      "metadata": {
        "tags": [],
        "id": "a9c92e05-28a0-485e-bf97-9bb8b6605974"
      },
      "source": [
        "## Install `MechanicalSoup`:"
      ]
    },
    {
      "cell_type": "code",
      "execution_count": null,
      "id": "29bf9b9e-c3b5-48db-b15b-29b2f54c8184",
      "metadata": {
        "id": "29bf9b9e-c3b5-48db-b15b-29b2f54c8184",
        "outputId": "dcccdbd8-af57-4af5-f6f0-52c098323f98"
      },
      "outputs": [
        {
          "name": "stdout",
          "output_type": "stream",
          "text": [
            "Collecting MechanicalSoup\n",
            "  Downloading MechanicalSoup-1.2.0-py3-none-any.whl (19 kB)\n",
            "Requirement already satisfied: requests>=2.22.0 in c:\\users\\cgriego\\anaconda3\\lib\\site-packages (from MechanicalSoup) (2.28.2)\n",
            "Requirement already satisfied: beautifulsoup4>=4.7 in c:\\users\\cgriego\\anaconda3\\lib\\site-packages (from MechanicalSoup) (4.11.1)\n",
            "Requirement already satisfied: lxml in c:\\users\\cgriego\\anaconda3\\lib\\site-packages (from MechanicalSoup) (4.8.0)\n",
            "Requirement already satisfied: soupsieve>1.2 in c:\\users\\cgriego\\anaconda3\\lib\\site-packages (from beautifulsoup4>=4.7->MechanicalSoup) (2.3.1)\n",
            "Requirement already satisfied: certifi>=2017.4.17 in c:\\users\\cgriego\\anaconda3\\lib\\site-packages (from requests>=2.22.0->MechanicalSoup) (2021.10.8)\n",
            "Requirement already satisfied: urllib3<1.27,>=1.21.1 in c:\\users\\cgriego\\anaconda3\\lib\\site-packages (from requests>=2.22.0->MechanicalSoup) (1.26.9)\n",
            "Requirement already satisfied: charset-normalizer<4,>=2 in c:\\users\\cgriego\\anaconda3\\lib\\site-packages (from requests>=2.22.0->MechanicalSoup) (2.0.4)\n",
            "Requirement already satisfied: idna<4,>=2.5 in c:\\users\\cgriego\\anaconda3\\lib\\site-packages (from requests>=2.22.0->MechanicalSoup) (3.3)\n",
            "Installing collected packages: MechanicalSoup\n",
            "Successfully installed MechanicalSoup-1.2.0\n"
          ]
        }
      ],
      "source": [
        "! pip install MechanicalSoup"
      ]
    },
    {
      "cell_type": "markdown",
      "id": "f3c5de9f-1e61-478d-b2a1-568ca71feac1",
      "metadata": {
        "tags": [],
        "id": "f3c5de9f-1e61-478d-b2a1-568ca71feac1"
      },
      "source": [
        "## Create a Browser Object"
      ]
    },
    {
      "cell_type": "code",
      "execution_count": null,
      "id": "6d868cb8-315d-46b8-8ac8-048ed9e41fc2",
      "metadata": {
        "id": "6d868cb8-315d-46b8-8ac8-048ed9e41fc2"
      },
      "outputs": [],
      "source": [
        "import mechanicalsoup"
      ]
    },
    {
      "cell_type": "code",
      "execution_count": null,
      "id": "bef55455-604d-4e2c-ba76-d22c11416323",
      "metadata": {
        "id": "bef55455-604d-4e2c-ba76-d22c11416323"
      },
      "outputs": [],
      "source": [
        "browser = mechanicalsoup.Browser()"
      ]
    },
    {
      "cell_type": "markdown",
      "id": "a5499f0c-36db-4e15-b660-7d35d79e4e5d",
      "metadata": {
        "id": "a5499f0c-36db-4e15-b660-7d35d79e4e5d"
      },
      "source": [
        "Use `browser` to request a page with a URL"
      ]
    },
    {
      "cell_type": "code",
      "execution_count": null,
      "id": "699da7fc-58b0-44e7-a13e-02ea7e44c75a",
      "metadata": {
        "id": "699da7fc-58b0-44e7-a13e-02ea7e44c75a"
      },
      "outputs": [],
      "source": [
        "url = \"http://olympus.realpython.org/login\"\n",
        "page = browser.get(url)"
      ]
    },
    {
      "cell_type": "markdown",
      "id": "fc022bcc-7599-4f79-affd-27cdc99f8c00",
      "metadata": {
        "id": "fc022bcc-7599-4f79-affd-27cdc99f8c00"
      },
      "source": [
        "`page` is a Response object that shows the status code. 200 represents a successful request"
      ]
    },
    {
      "cell_type": "code",
      "execution_count": null,
      "id": "0d474f45-e179-4966-b6d0-14ba1816fe07",
      "metadata": {
        "id": "0d474f45-e179-4966-b6d0-14ba1816fe07",
        "outputId": "44389594-cf9f-4a40-b66d-181dc050aba0"
      },
      "outputs": [
        {
          "data": {
            "text/plain": [
              "<Response [200]>"
            ]
          },
          "execution_count": 5,
          "metadata": {},
          "output_type": "execute_result"
        }
      ],
      "source": [
        "page"
      ]
    },
    {
      "cell_type": "markdown",
      "id": "647d1a90-9ec7-4c36-ac41-9947640b67ee",
      "metadata": {
        "id": "647d1a90-9ec7-4c36-ac41-9947640b67ee"
      },
      "source": [
        "`page` has a `.soup` attribute, so we can inspect the HTML"
      ]
    },
    {
      "cell_type": "code",
      "execution_count": null,
      "id": "1ca35e32-21be-4c9c-9dab-bce5a0917e26",
      "metadata": {
        "id": "1ca35e32-21be-4c9c-9dab-bce5a0917e26",
        "outputId": "08e0f488-6bbc-4443-e7d8-944d951425f1"
      },
      "outputs": [
        {
          "data": {
            "text/plain": [
              "<html>\n",
              "<head>\n",
              "<title>Log In</title>\n",
              "</head>\n",
              "<body bgcolor=\"yellow\">\n",
              "<center>\n",
              "<br/><br/>\n",
              "<h2>Please log in to access Mount Olympus:</h2>\n",
              "<br/><br/>\n",
              "<form action=\"/login\" method=\"post\" name=\"login\">\n",
              "Username: <input name=\"user\" type=\"text\"/><br/>\n",
              "Password: <input name=\"pwd\" type=\"password\"/><br/><br/>\n",
              "<input type=\"submit\" value=\"Submit\"/>\n",
              "</form>\n",
              "</center>\n",
              "</body>\n",
              "</html>"
            ]
          },
          "execution_count": 6,
          "metadata": {},
          "output_type": "execute_result"
        }
      ],
      "source": [
        "page.soup"
      ]
    },
    {
      "cell_type": "markdown",
      "id": "bf500c47-8916-4a60-98ed-bab6ba507aba",
      "metadata": {
        "id": "bf500c47-8916-4a60-98ed-bab6ba507aba"
      },
      "source": [
        "Notice that there is a `<form>` element with `<input>` elements for login info"
      ]
    },
    {
      "cell_type": "code",
      "execution_count": null,
      "id": "43546cde-eda4-4cb5-ab91-d65789a12ca1",
      "metadata": {
        "id": "43546cde-eda4-4cb5-ab91-d65789a12ca1",
        "outputId": "69ebc576-8afe-493a-9a34-664c915bd2c7"
      },
      "outputs": [
        {
          "data": {
            "text/plain": [
              "<form action=\"/login\" method=\"post\" name=\"login\">\n",
              "Username: <input name=\"user\" type=\"text\"/><br/>\n",
              "Password: <input name=\"pwd\" type=\"password\"/><br/><br/>\n",
              "<input type=\"submit\" value=\"Submit\"/>\n",
              "</form>"
            ]
          },
          "execution_count": 7,
          "metadata": {},
          "output_type": "execute_result"
        }
      ],
      "source": [
        "page.soup.form"
      ]
    },
    {
      "cell_type": "markdown",
      "id": "305d7e03-2b83-467e-b74c-267d49869117",
      "metadata": {
        "id": "305d7e03-2b83-467e-b74c-267d49869117"
      },
      "source": [
        "Open this [page](http://olympus.realpython.org/login) and you will see that this is a login page"
      ]
    },
    {
      "cell_type": "markdown",
      "id": "c7373886-d356-4e21-b654-f3cae7a43dba",
      "metadata": {
        "id": "c7373886-d356-4e21-b654-f3cae7a43dba"
      },
      "source": [
        "To advance into the site, you have to provide the correct login information:\n",
        "\n",
        "|Username|Password|\n",
        "|--------|--------|\n",
        "|zeus|ThunderDude|"
      ]
    },
    {
      "cell_type": "markdown",
      "id": "0670c25c-eaaa-42cc-abe2-5f7008736d2a",
      "metadata": {
        "id": "0670c25c-eaaa-42cc-abe2-5f7008736d2a"
      },
      "source": [
        "With this information known, we can use `MechanicalSoup` to fill out and submit this form!"
      ]
    },
    {
      "cell_type": "markdown",
      "id": "49e5624c-7c02-47e7-906c-68e2b10deb31",
      "metadata": {
        "tags": [],
        "id": "49e5624c-7c02-47e7-906c-68e2b10deb31"
      },
      "source": [
        "## Submit a Form With MechanicalSoup"
      ]
    },
    {
      "cell_type": "markdown",
      "id": "54b4808c-74e1-412c-913a-2b277b92d013",
      "metadata": {
        "id": "54b4808c-74e1-412c-913a-2b277b92d013"
      },
      "source": [
        "First open the page and extract the HTML"
      ]
    },
    {
      "cell_type": "code",
      "execution_count": null,
      "id": "0eb78c0e-0158-4b7d-816a-27d51c738c6e",
      "metadata": {
        "id": "0eb78c0e-0158-4b7d-816a-27d51c738c6e"
      },
      "outputs": [],
      "source": [
        "login_page = browser.get(url)\n",
        "login_html = login_page.soup"
      ]
    },
    {
      "cell_type": "markdown",
      "id": "6394f8b3-e32d-4560-adfa-30b00530124e",
      "metadata": {
        "id": "6394f8b3-e32d-4560-adfa-30b00530124e"
      },
      "source": [
        "Then grab the `<form>` element from the HTML"
      ]
    },
    {
      "cell_type": "code",
      "execution_count": null,
      "id": "81ca4b7e-50fb-4c8e-9822-79b3439f642c",
      "metadata": {
        "id": "81ca4b7e-50fb-4c8e-9822-79b3439f642c"
      },
      "outputs": [],
      "source": [
        "form = login_html.form"
      ]
    },
    {
      "cell_type": "code",
      "execution_count": null,
      "id": "0a7af5d0-ab6a-4653-b0ff-0949330c17a1",
      "metadata": {
        "id": "0a7af5d0-ab6a-4653-b0ff-0949330c17a1",
        "outputId": "c2f1664a-768a-433d-c211-261e4bad9db6"
      },
      "outputs": [
        {
          "data": {
            "text/plain": [
              "<form action=\"/login\" method=\"post\" name=\"login\">\n",
              "Username: <input name=\"user\" type=\"text\"/><br/>\n",
              "Password: <input name=\"pwd\" type=\"password\"/><br/><br/>\n",
              "<input type=\"submit\" value=\"Submit\"/>\n",
              "</form>"
            ]
          },
          "execution_count": 10,
          "metadata": {},
          "output_type": "execute_result"
        }
      ],
      "source": [
        "form"
      ]
    },
    {
      "cell_type": "markdown",
      "id": "6bc25b2d-0b49-408a-a998-789f110d94a9",
      "metadata": {
        "id": "6bc25b2d-0b49-408a-a998-789f110d94a9"
      },
      "source": [
        "For the next step, we can select each of the `<input>` elements for the username and password, define a new attribute called `\"value\"` and assign the corresponding values."
      ]
    },
    {
      "cell_type": "code",
      "execution_count": null,
      "id": "dbd262c2-89a1-4f1a-a467-ff8beacbc888",
      "metadata": {
        "id": "dbd262c2-89a1-4f1a-a467-ff8beacbc888"
      },
      "outputs": [],
      "source": [
        "form.select('input')[0][\"value\"] = \"zeus\"\n",
        "form.select('input')[1][\"value\"] = \"ThunderDude\""
      ]
    },
    {
      "cell_type": "markdown",
      "id": "136fa29d-9574-4173-926d-5dd834b62bda",
      "metadata": {
        "id": "136fa29d-9574-4173-926d-5dd834b62bda"
      },
      "source": [
        "Our values are now written into the HTML."
      ]
    },
    {
      "cell_type": "code",
      "execution_count": null,
      "id": "21e84642-7dc8-483c-ac5b-068477d7c0ce",
      "metadata": {
        "id": "21e84642-7dc8-483c-ac5b-068477d7c0ce",
        "outputId": "8c2e17ca-b71c-41c0-d892-9898531d0df5"
      },
      "outputs": [
        {
          "data": {
            "text/plain": [
              "<form action=\"/login\" method=\"post\" name=\"login\">\n",
              "Username: <input name=\"user\" type=\"text\" value=\"zeus\"/><br/>\n",
              "Password: <input name=\"pwd\" type=\"password\" value=\"ThunderDude\"/><br/><br/>\n",
              "<input type=\"submit\" value=\"Submit\"/>\n",
              "</form>"
            ]
          },
          "execution_count": 16,
          "metadata": {},
          "output_type": "execute_result"
        }
      ],
      "source": [
        "form"
      ]
    },
    {
      "cell_type": "markdown",
      "id": "411710a8-b8e4-472b-921f-b76193f1c9a4",
      "metadata": {
        "id": "411710a8-b8e4-472b-921f-b76193f1c9a4"
      },
      "source": [
        "Now we can submit our updated form with `browser.submit()`. This only needs two arguments: the `form` object and the URL of the login page (ie. `login_page.url`)"
      ]
    },
    {
      "cell_type": "code",
      "execution_count": null,
      "id": "5ad4a120-6535-41a1-a2a3-d146dcb17ab4",
      "metadata": {
        "id": "5ad4a120-6535-41a1-a2a3-d146dcb17ab4"
      },
      "outputs": [],
      "source": [
        "profiles_page = browser.submit(form, login_page.url)"
      ]
    },
    {
      "cell_type": "markdown",
      "id": "f2a31687-16d5-4fe2-add0-9abbefc5f12b",
      "metadata": {
        "id": "f2a31687-16d5-4fe2-add0-9abbefc5f12b"
      },
      "source": [
        "Did it work? If so, `profiles_page` should contain the following link: http://olympus.realpython.org/profiles"
      ]
    },
    {
      "cell_type": "code",
      "execution_count": null,
      "id": "d1fbb1a1-01e0-499b-be26-5c8f699617f2",
      "metadata": {
        "id": "d1fbb1a1-01e0-499b-be26-5c8f699617f2",
        "outputId": "59c1fee4-1cdf-40c0-e08b-a256e6570aa8"
      },
      "outputs": [
        {
          "data": {
            "text/plain": [
              "'http://olympus.realpython.org/profiles'"
            ]
          },
          "execution_count": 18,
          "metadata": {},
          "output_type": "execute_result"
        }
      ],
      "source": [
        "profiles_page.url"
      ]
    },
    {
      "cell_type": "markdown",
      "id": "fc4ad51a-4f7f-43f4-b92b-ddd5f77b0e8b",
      "metadata": {
        "tags": [],
        "id": "fc4ad51a-4f7f-43f4-b92b-ddd5f77b0e8b"
      },
      "source": [
        "# Interact With Websites in Real Time"
      ]
    },
    {
      "cell_type": "markdown",
      "id": "5aad8db9-dc49-4c7e-8b31-b9d7964ff5ed",
      "metadata": {
        "id": "5aad8db9-dc49-4c7e-8b31-b9d7964ff5ed"
      },
      "source": [
        "With the tools learned so far, you can automatically fetch real-time data from a website."
      ]
    },
    {
      "cell_type": "markdown",
      "id": "e7fc06e6-f086-4a44-a3dd-9774bf57e103",
      "metadata": {
        "id": "e7fc06e6-f086-4a44-a3dd-9774bf57e103"
      },
      "source": [
        "Navigate to the following [page](http://olympus.realpython.org/dice). This page produces a result from a simulated dice roll. Each time the page is refreshed the \"dice is re-rolled.\""
      ]
    },
    {
      "cell_type": "markdown",
      "id": "cef2370c-1c9f-47e3-9377-56e5faf43623",
      "metadata": {
        "id": "cef2370c-1c9f-47e3-9377-56e5faf43623"
      },
      "source": [
        "Next, we will write a program that grabs the result of the dice roll after repeatedly refreshing the page. \n",
        "\n",
        "If we inspect the source HTML of this page, we will find a segment that looks like this:\n",
        "\n",
        "```html\n",
        "<h2 id=\"result\">3</h2>\n",
        "```\n",
        "\n",
        "The text in this element may look different based on the dice roll. In our code, we will identify this element to scrape the result. "
      ]
    },
    {
      "cell_type": "code",
      "execution_count": null,
      "id": "b88e4d2a-2302-42d9-9181-837ac8a2e8e2",
      "metadata": {
        "id": "b88e4d2a-2302-42d9-9181-837ac8a2e8e2"
      },
      "outputs": [],
      "source": [
        "import mechanicalsoup\n",
        "\n",
        "browser = mechanicalsoup.Browser()\n",
        "page = browser.get(\"http://olympus.realpython.org/dice\")"
      ]
    },
    {
      "cell_type": "markdown",
      "id": "3404b4fd-82f4-4645-ac76-22dac6b1df18",
      "metadata": {
        "id": "3404b4fd-82f4-4645-ac76-22dac6b1df18"
      },
      "source": [
        "Use the `select()` method to find the element with `id=result`."
      ]
    },
    {
      "cell_type": "code",
      "execution_count": null,
      "id": "07e42ee7-a873-43ad-ace6-03164df2917e",
      "metadata": {
        "id": "07e42ee7-a873-43ad-ace6-03164df2917e",
        "outputId": "acdf9b15-0991-4e6b-85d6-b51410e1a560"
      },
      "outputs": [
        {
          "data": {
            "text/plain": [
              "[<h2 id=\"result\">6</h2>]"
            ]
          },
          "execution_count": 9,
          "metadata": {},
          "output_type": "execute_result"
        }
      ],
      "source": [
        "tag_list = page.soup.select(\"#result\")\n",
        "tag_list"
      ]
    },
    {
      "cell_type": "markdown",
      "id": "80a635ed-bf48-467a-9c26-556a6cf0c169",
      "metadata": {
        "id": "80a635ed-bf48-467a-9c26-556a6cf0c169"
      },
      "source": [
        "Next extract the text:"
      ]
    },
    {
      "cell_type": "code",
      "execution_count": null,
      "id": "926435f6-1bd2-4f77-8e1a-c33b4dd722f1",
      "metadata": {
        "id": "926435f6-1bd2-4f77-8e1a-c33b4dd722f1",
        "outputId": "5b12c58a-9849-4dbe-e728-28c99450307b"
      },
      "outputs": [
        {
          "name": "stdout",
          "output_type": "stream",
          "text": [
            "The result of your dice roll is: 6\n"
          ]
        }
      ],
      "source": [
        "tag = tag_list[0]\n",
        "result = tag.text\n",
        "\n",
        "print(f\"The result of your dice roll is: {result}\")"
      ]
    },
    {
      "cell_type": "markdown",
      "id": "f588123d-3882-48b1-bfde-bbdafcbe010a",
      "metadata": {
        "id": "f588123d-3882-48b1-bfde-bbdafcbe010a"
      },
      "source": [
        "Next, we will roll the dice four times. However, it's best to not overload requests to a webpage. So after each roll of the dice (making a request to the URL), we will have the code wait for 5 seconds using `.sleep()` from the built-in Python module `time`."
      ]
    },
    {
      "cell_type": "code",
      "execution_count": null,
      "id": "d4ca965f-9d74-4454-b994-d3057507ef0f",
      "metadata": {
        "id": "d4ca965f-9d74-4454-b994-d3057507ef0f",
        "outputId": "bcfd24d6-b3a7-4eaa-b1ea-f5bb751e12b5"
      },
      "outputs": [
        {
          "name": "stdout",
          "output_type": "stream",
          "text": [
            "I'm about to wait for five seconds...\n",
            "Done waiting!\n"
          ]
        }
      ],
      "source": [
        "import time\n",
        "\n",
        "print(\"I'm about to wait for five seconds...\")\n",
        "time.sleep(5)\n",
        "print(\"Done waiting!\")"
      ]
    },
    {
      "cell_type": "markdown",
      "id": "9a8b4e3c-d4d5-4477-831c-6cdf5fbf920b",
      "metadata": {
        "id": "9a8b4e3c-d4d5-4477-831c-6cdf5fbf920b"
      },
      "source": [
        "Notice that the second print statement isn't executed until 5 seconds have passed."
      ]
    },
    {
      "cell_type": "markdown",
      "id": "3d626706-67c6-4e3f-a31f-643957630e6e",
      "metadata": {
        "id": "3d626706-67c6-4e3f-a31f-643957630e6e"
      },
      "source": [
        "Now let's make a for loop that retrieves the page (and the result of the dice roll) four times. After we retrieve the result, we will use `sleep()` to wait before the next iteration."
      ]
    },
    {
      "cell_type": "code",
      "execution_count": null,
      "id": "193f58e8-4019-4896-aa7b-52725340d5c5",
      "metadata": {
        "id": "193f58e8-4019-4896-aa7b-52725340d5c5",
        "outputId": "0d687eff-ec57-4919-9316-13f1b77355b0"
      },
      "outputs": [
        {
          "name": "stdout",
          "output_type": "stream",
          "text": [
            "The result of your dice roll is: 5\n",
            "The result of your dice roll is: 3\n",
            "The result of your dice roll is: 1\n",
            "The result of your dice roll is: 6\n"
          ]
        }
      ],
      "source": [
        "import time\n",
        "import mechanicalsoup\n",
        "\n",
        "browser = mechanicalsoup.Browser()\n",
        "\n",
        "for i in range(4):\n",
        "    page = browser.get(\"http://olympus.realpython.org/dice\")\n",
        "    tag = page.soup.select(\"#result\")[0]\n",
        "    result = tag.text\n",
        "    print(f\"The result of your dice roll is: {result}\")\n",
        "    time.sleep(5)"
      ]
    },
    {
      "cell_type": "markdown",
      "id": "9b906a6f-bfa4-4b30-bde7-1cb1ef0ff553",
      "metadata": {
        "id": "9b906a6f-bfa4-4b30-bde7-1cb1ef0ff553"
      },
      "source": [
        "This is just a simple example to access data from a web page in real time. As you attempt to make more complex requests, be aware of the Terms of Use published with a website. It's possible to crash a server with an excessive number of rapid requests. Always be mindful and respectful of the Terms of Use when scraping websites."
      ]
    },
    {
      "cell_type": "markdown",
      "id": "9a8017db-9e5e-42cc-ba9a-bf6339ec8191",
      "metadata": {
        "id": "9a8017db-9e5e-42cc-ba9a-bf6339ec8191"
      },
      "source": [
        "# Web Requests"
      ]
    },
    {
      "cell_type": "markdown",
      "id": "506fe64d-5a14-41c3-9494-cfbebbbc89d4",
      "metadata": {
        "tags": [],
        "id": "506fe64d-5a14-41c3-9494-cfbebbbc89d4"
      },
      "source": [
        "## Setup Socrata API Account"
      ]
    },
    {
      "cell_type": "markdown",
      "id": "7b106d7d-265a-423e-ac12-c7cd02ec9643",
      "metadata": {
        "id": "7b106d7d-265a-423e-ac12-c7cd02ec9643"
      },
      "source": [
        "### State of Pennsylvania Socrata Account\n",
        "To work with this session's data, you'll need to create an account with the state of Pennsylvania's data service. Visit [data.pa.gov](https://data.pa.gov/signup) and fill out the required information to create an account.\n",
        "\n"
      ]
    },
    {
      "cell_type": "markdown",
      "id": "58bdf7f8-b932-4603-96a1-58da6f297212",
      "metadata": {
        "id": "58bdf7f8-b932-4603-96a1-58da6f297212"
      },
      "source": [
        "It is not unusual to find open data served directly on the web, without requiring any tokens or authorizations. However,you'll find large datasets typically require this type of entry point because of the overburden it can place on data servers; smaller datasets are less burdensome and are frequently more accessible. \n",
        "\n",
        "When it comes to such non-API generated data it is generally easier to work with services that serve the data directly in its native file format, rather than wrapping it in HTML. The latter requires you to parse first the HTML or interpret the HTTP response.\n",
        "\n",
        "\n",
        "As an example, take the details from crash incident reports CY 1997 from the Pennsylvania Department of Transportation [data found here](https://dev.socrata.com/foundry/data.pa.gov/dc5b-gebx). This dataset containing 3088272 rows dataset can be accessed directly at https://data.pa.gov/resource/dc5b-gebx.json (FYI Firefox has a nice JSON viewer built in when you encounter .json hosted files on the web.)\n",
        "\n",
        "\n",
        "Let's walk through making an HTTP request for this .json data and quickly transform it into a useful container so we can use it (e.g., a Pandas dataframe). We'll use Python's JSON module, which is a compact and easy-to-use way of turning JSON into Python's native object types, lists and dictionaries. This [table](https://docs.python.org/3/library/json.html#json-to-py-table) will let you see the output of a Python object based on the JSON input. **Note:** a JSON array of key-value objects will yield a Python list of dictionaries."
      ]
    },
    {
      "cell_type": "code",
      "execution_count": null,
      "id": "558bce16-2625-4d26-a01d-79716563db2a",
      "metadata": {
        "id": "558bce16-2625-4d26-a01d-79716563db2a",
        "outputId": "f9912ea1-ff6c-45e3-d5e7-db7d59d931b3"
      },
      "outputs": [
        {
          "name": "stdout",
          "output_type": "stream",
          "text": [
            "Requirement already satisfied: pandas in /Users/lbeltran/opt/anaconda3/lib/python3.9/site-packages (1.4.2)\n",
            "Requirement already satisfied: python-dateutil>=2.8.1 in /Users/lbeltran/opt/anaconda3/lib/python3.9/site-packages (from pandas) (2.8.2)\n",
            "Requirement already satisfied: pytz>=2020.1 in /Users/lbeltran/opt/anaconda3/lib/python3.9/site-packages (from pandas) (2021.3)\n",
            "Requirement already satisfied: numpy>=1.18.5 in /Users/lbeltran/opt/anaconda3/lib/python3.9/site-packages (from pandas) (1.21.5)\n",
            "Requirement already satisfied: six>=1.5 in /Users/lbeltran/opt/anaconda3/lib/python3.9/site-packages (from python-dateutil>=2.8.1->pandas) (1.16.0)\n",
            "Requirement already satisfied: sodapy in /Users/lbeltran/opt/anaconda3/lib/python3.9/site-packages (2.2.0)\n",
            "Requirement already satisfied: requests>=2.28.1 in /Users/lbeltran/opt/anaconda3/lib/python3.9/site-packages (from sodapy) (2.28.2)\n",
            "Requirement already satisfied: idna<4,>=2.5 in /Users/lbeltran/opt/anaconda3/lib/python3.9/site-packages (from requests>=2.28.1->sodapy) (3.3)\n",
            "Requirement already satisfied: certifi>=2017.4.17 in /Users/lbeltran/opt/anaconda3/lib/python3.9/site-packages (from requests>=2.28.1->sodapy) (2021.10.8)\n",
            "Requirement already satisfied: charset-normalizer<4,>=2 in /Users/lbeltran/opt/anaconda3/lib/python3.9/site-packages (from requests>=2.28.1->sodapy) (2.0.4)\n",
            "Requirement already satisfied: urllib3<1.27,>=1.21.1 in /Users/lbeltran/opt/anaconda3/lib/python3.9/site-packages (from requests>=2.28.1->sodapy) (1.26.9)\n",
            "Requirement already satisfied: pathlib in /Users/lbeltran/opt/anaconda3/lib/python3.9/site-packages (1.0.1)\n"
          ]
        }
      ],
      "source": [
        "#!/usr/bin/env python\n",
        "\n",
        "# make sure to install these packages before running:\n",
        "!pip install pandas\n",
        "!pip install sodapy\n",
        "!pip install pathlib\n"
      ]
    },
    {
      "cell_type": "code",
      "execution_count": null,
      "id": "0ca9e6d4-1dde-4c51-82c1-7dc4ba093db9",
      "metadata": {
        "id": "0ca9e6d4-1dde-4c51-82c1-7dc4ba093db9",
        "outputId": "22dc1210-05f3-42d7-d9a6-4d28d009e91d"
      },
      "outputs": [
        {
          "name": "stdout",
          "output_type": "stream",
          "text": [
            "{'crn': '1998140399', 'county': '09', 'county_name': 'Bucks', 'municipality': '09403', 'municipal_name': 'Doylestown Boro', 'district': '06', 'district_name': 'District 6-0', 'police_agcy': '09403', 'crash_year': '1998', 'crash_month': '12', 'day_of_week': '5', 'time_of_day': '0105', 'hour_of_day': '01', 'illumination': 'Unknown (expired)', 'road_condition': 'Unknown (expired)', 'collision_type': 'Other or Unknown', 'intersect_type': 'Mid-block', 'tcd_type': 'Not applicable', 'urban_rural': 'Urban', 'fatal_count': '0', 'injury_count': '0', 'person_count': '1', 'total_units': '3', 'sch_bus_ind': 'No', 'sch_zone_ind': 'No', 'arrival_tm': '9999', 'dispatch_tm': '9999', 'lane_closed': 'No', 'tcd_func_cd': 'No Controls', 'vehicle_count': '3', 'automobile_count': '0', 'motorcycle_count': '0', 'bus_count': '0', 'small_truck_count': '1', 'heavy_truck_count': '0', 'suv_count': '0', 'van_count': '0', 'bicycle_count': '0', 'maj_inj_count': '0', 'mod_inj_count': '0', 'min_inj_count': '0', 'tot_inj_count': '0', 'unk_inj_deg_count': '0', 'unk_inj_per_count': '0', 'driver_count_16yr': '0', 'driver_count_17yr': '0', 'driver_count_18yr': '0', 'driver_count_19yr': '0', 'driver_count_20yr': '0', 'driver_count_50_64yr': '0', 'driver_count_65_74yr': '0', 'driver_count_75plus': '0', 'unbelted_occ_count': '0', 'unb_death_count': '0', 'unb_maj_inj_count': '0', 'belted_death_count': '0', 'belted_maj_inj_count': '0', 'mcycle_death_count': '0', 'mcycle_maj_inj_count': '0', 'bicycle_death_count': '0', 'bicycle_maj_inj_count': '0', 'ped_count': '0', 'ped_death_count': '0', 'ped_maj_inj_count': '0', 'max_severity_level': '0', 'comm_veh_count': '0', 'interstate': 'No', 'state_road': 'No', 'local_road_only': 'Yes', 'turnpike': 'No', 'wet_road': 'No', 'snow_slush_road': 'No', 'icy_road': 'No', 'sudden_deer': 'No', 'shldr_related': 'No', 'rear_end': 'No', 'ho_oppdir_sdswp': 'No', 'hit_fixed_object': 'No', 'sv_run_off_rd': 'No', 'work_zone': 'No', 'property_damage_only': 'Yes', 'injury_or_fatal': 'No', 'fatal_or_maj_inj': 'No', 'injury': 'No', 'fatal': 'No', 'non_intersection': 'Yes', 'intersection': 'No', 'signalized_int': 'No', 'stop_controlled_int': 'No', 'unsignalized_int': 'No', 'school_bus': 'No', 'school_zone': 'No', 'hit_deer': 'No', 'hit_tree_shrub': 'No', 'hit_embankment': 'No', 'hit_pole': 'No', 'hit_gdrail': 'No', 'hit_gdrail_end': 'No', 'hit_barrier': 'No', 'hit_bridge': 'No', 'overturned': 'No', 'motorcycle': 'No', 'bicycle': 'No', 'hvy_truck_related': 'No', 'vehicle_failure': 'No', 'train_trolley': 'No', 'phantom_vehicle': 'No', 'alcohol_related': 'Yes', 'drinking_driver': 'Yes', 'underage_drnk_drv': 'No', 'unlicensed': 'No', 'distracted': 'No', 'cell_phone': 'No', 'no_clearance': 'No', 'running_red_lt': 'No', 'tailgating': 'No', 'cross_median': 'No', 'curved_road': 'No', 'curve_dvr_error': 'No', 'limit_65mph': 'No', 'speeding': 'No', 'speeding_related': 'No', 'aggressive_driving': 'No', 'fatigue_asleep': 'No', 'driver_16yr': 'No', 'driver_17yr': 'No', 'driver_18yr': 'No', 'driver_19yr': 'No', 'driver_20yr': 'No', 'driver_50_64yr': 'No', 'driver_65_74yr': 'No', 'driver_75plus': 'No', 'unbelted': 'No', 'pedestrian': 'No', 'comm_vehicle': 'No', 'psp_reported': 'No', 'nhtsa_agg_driving': 'No', 'deer_related': 'No', 'illumination_dark': 'No', 'running_stop_sign': 'No', 'train': 'No', 'trolley': 'No', 'hit_parked_vehicle': 'Yes', 'fire_in_vehicle': 'No', 'vehicle_towed': 'Yes', 'hazardous_truck': 'No', 'major_injury': 'No', 'moderate_injury': 'No', 'minor_injury': 'No', 'mc_drinking_driver': 'No', 'drug_related': 'No', 'illegal_drug_related': 'No', 'school_bus_unit': 'No', 'drugged_driver': 'No', 'impaired_driver': 'Yes'}\n"
          ]
        }
      ],
      "source": [
        "import json\n",
        "import requests\n",
        "\n",
        "ci_data_json = requests.get('https://data.pa.gov/resource/dc5b-gebx.json')\n",
        "\n",
        "ci_list_recs = json.loads(ci_data_json.text)\n",
        "\n",
        "print(ci_list_recs[0])"
      ]
    },
    {
      "cell_type": "markdown",
      "id": "31b08058-2c1c-4293-991d-36e3f2e0da42",
      "metadata": {
        "id": "31b08058-2c1c-4293-991d-36e3f2e0da42"
      },
      "source": [
        "### Pandas\n",
        "\n",
        "If you haven't yet given a Pandas dataframe a try as a way to manage large arrays of information, give it a go. It is possible to go overboard: not everything needs to be put in a dataframe, especially when a Python list of lists or a dictionary will do. Take a look at how fast we can access subsets of the motor vehicle data."
      ]
    },
    {
      "cell_type": "code",
      "execution_count": null,
      "id": "3564212b-9166-45d8-8a33-11228c132522",
      "metadata": {
        "id": "3564212b-9166-45d8-8a33-11228c132522",
        "outputId": "6c712a94-956e-4c61-824b-f1b4796094e3"
      },
      "outputs": [
        {
          "data": {
            "text/html": [
              "<div>\n",
              "<style scoped>\n",
              "    .dataframe tbody tr th:only-of-type {\n",
              "        vertical-align: middle;\n",
              "    }\n",
              "\n",
              "    .dataframe tbody tr th {\n",
              "        vertical-align: top;\n",
              "    }\n",
              "\n",
              "    .dataframe thead th {\n",
              "        text-align: right;\n",
              "    }\n",
              "</style>\n",
              "<table border=\"1\" class=\"dataframe\">\n",
              "  <thead>\n",
              "    <tr style=\"text-align: right;\">\n",
              "      <th></th>\n",
              "      <th>crn</th>\n",
              "      <th>county</th>\n",
              "      <th>county_name</th>\n",
              "      <th>municipality</th>\n",
              "      <th>municipal_name</th>\n",
              "      <th>district</th>\n",
              "      <th>district_name</th>\n",
              "      <th>police_agcy</th>\n",
              "      <th>crash_year</th>\n",
              "      <th>crash_month</th>\n",
              "      <th>...</th>\n",
              "      <th>work_zone_loc</th>\n",
              "      <th>cons_zone_spd_lim</th>\n",
              "      <th>workers_pres</th>\n",
              "      <th>wz_close_detour</th>\n",
              "      <th>wz_flagger</th>\n",
              "      <th>wz_law_offcr_ind</th>\n",
              "      <th>wz_ln_closure</th>\n",
              "      <th>wz_moving</th>\n",
              "      <th>wz_other</th>\n",
              "      <th>wz_shlder_mdn</th>\n",
              "    </tr>\n",
              "  </thead>\n",
              "  <tbody>\n",
              "    <tr>\n",
              "      <th>0</th>\n",
              "      <td>1998140399</td>\n",
              "      <td>09</td>\n",
              "      <td>Bucks</td>\n",
              "      <td>09403</td>\n",
              "      <td>Doylestown Boro</td>\n",
              "      <td>06</td>\n",
              "      <td>District 6-0</td>\n",
              "      <td>09403</td>\n",
              "      <td>1998</td>\n",
              "      <td>12</td>\n",
              "      <td>...</td>\n",
              "      <td>NaN</td>\n",
              "      <td>NaN</td>\n",
              "      <td>NaN</td>\n",
              "      <td>NaN</td>\n",
              "      <td>NaN</td>\n",
              "      <td>NaN</td>\n",
              "      <td>NaN</td>\n",
              "      <td>NaN</td>\n",
              "      <td>NaN</td>\n",
              "      <td>NaN</td>\n",
              "    </tr>\n",
              "    <tr>\n",
              "      <th>1</th>\n",
              "      <td>2018024122</td>\n",
              "      <td>01</td>\n",
              "      <td>ADAMS</td>\n",
              "      <td>01219</td>\n",
              "      <td>STRABAN</td>\n",
              "      <td>08</td>\n",
              "      <td>District 8-0</td>\n",
              "      <td>68H06</td>\n",
              "      <td>2018</td>\n",
              "      <td>02</td>\n",
              "      <td>...</td>\n",
              "      <td>NaN</td>\n",
              "      <td>NaN</td>\n",
              "      <td>NaN</td>\n",
              "      <td>NaN</td>\n",
              "      <td>NaN</td>\n",
              "      <td>NaN</td>\n",
              "      <td>NaN</td>\n",
              "      <td>NaN</td>\n",
              "      <td>NaN</td>\n",
              "      <td>NaN</td>\n",
              "    </tr>\n",
              "    <tr>\n",
              "      <th>2</th>\n",
              "      <td>2018022880</td>\n",
              "      <td>66</td>\n",
              "      <td>WYOMING</td>\n",
              "      <td>66231</td>\n",
              "      <td>WEST MANCHESTER</td>\n",
              "      <td>08</td>\n",
              "      <td>District 8-0</td>\n",
              "      <td>66231</td>\n",
              "      <td>2018</td>\n",
              "      <td>02</td>\n",
              "      <td>...</td>\n",
              "      <td>NaN</td>\n",
              "      <td>NaN</td>\n",
              "      <td>NaN</td>\n",
              "      <td>NaN</td>\n",
              "      <td>NaN</td>\n",
              "      <td>NaN</td>\n",
              "      <td>NaN</td>\n",
              "      <td>NaN</td>\n",
              "      <td>NaN</td>\n",
              "      <td>NaN</td>\n",
              "    </tr>\n",
              "    <tr>\n",
              "      <th>3</th>\n",
              "      <td>2018021506</td>\n",
              "      <td>15</td>\n",
              "      <td>CHESTER</td>\n",
              "      <td>15202</td>\n",
              "      <td>CHARLESTOWN</td>\n",
              "      <td>06</td>\n",
              "      <td>District 6-0</td>\n",
              "      <td>68J03</td>\n",
              "      <td>2018</td>\n",
              "      <td>01</td>\n",
              "      <td>...</td>\n",
              "      <td>NaN</td>\n",
              "      <td>NaN</td>\n",
              "      <td>NaN</td>\n",
              "      <td>NaN</td>\n",
              "      <td>NaN</td>\n",
              "      <td>NaN</td>\n",
              "      <td>NaN</td>\n",
              "      <td>NaN</td>\n",
              "      <td>NaN</td>\n",
              "      <td>NaN</td>\n",
              "    </tr>\n",
              "    <tr>\n",
              "      <th>4</th>\n",
              "      <td>2018025163</td>\n",
              "      <td>02</td>\n",
              "      <td>ALLEGHENY</td>\n",
              "      <td>02301</td>\n",
              "      <td>PITTSBURGH</td>\n",
              "      <td>11</td>\n",
              "      <td>District 11-0</td>\n",
              "      <td>02301</td>\n",
              "      <td>2018</td>\n",
              "      <td>02</td>\n",
              "      <td>...</td>\n",
              "      <td>NaN</td>\n",
              "      <td>NaN</td>\n",
              "      <td>NaN</td>\n",
              "      <td>NaN</td>\n",
              "      <td>NaN</td>\n",
              "      <td>NaN</td>\n",
              "      <td>NaN</td>\n",
              "      <td>NaN</td>\n",
              "      <td>NaN</td>\n",
              "      <td>NaN</td>\n",
              "    </tr>\n",
              "    <tr>\n",
              "      <th>5</th>\n",
              "      <td>2018029148</td>\n",
              "      <td>58</td>\n",
              "      <td>SUSQUEHANNA</td>\n",
              "      <td>58227</td>\n",
              "      <td>TIOGA</td>\n",
              "      <td>03</td>\n",
              "      <td>District 3-0</td>\n",
              "      <td>68F05</td>\n",
              "      <td>2018</td>\n",
              "      <td>03</td>\n",
              "      <td>...</td>\n",
              "      <td>NaN</td>\n",
              "      <td>NaN</td>\n",
              "      <td>NaN</td>\n",
              "      <td>NaN</td>\n",
              "      <td>NaN</td>\n",
              "      <td>NaN</td>\n",
              "      <td>NaN</td>\n",
              "      <td>NaN</td>\n",
              "      <td>NaN</td>\n",
              "      <td>NaN</td>\n",
              "    </tr>\n",
              "    <tr>\n",
              "      <th>6</th>\n",
              "      <td>2018023274</td>\n",
              "      <td>02</td>\n",
              "      <td>ALLEGHENY</td>\n",
              "      <td>02113</td>\n",
              "      <td>PENN HILLS</td>\n",
              "      <td>11</td>\n",
              "      <td>District 11-0</td>\n",
              "      <td>02113</td>\n",
              "      <td>2018</td>\n",
              "      <td>02</td>\n",
              "      <td>...</td>\n",
              "      <td>NaN</td>\n",
              "      <td>NaN</td>\n",
              "      <td>NaN</td>\n",
              "      <td>NaN</td>\n",
              "      <td>NaN</td>\n",
              "      <td>NaN</td>\n",
              "      <td>NaN</td>\n",
              "      <td>NaN</td>\n",
              "      <td>NaN</td>\n",
              "      <td>NaN</td>\n",
              "    </tr>\n",
              "    <tr>\n",
              "      <th>7</th>\n",
              "      <td>2018028792</td>\n",
              "      <td>67</td>\n",
              "      <td>YORK</td>\n",
              "      <td>67301</td>\n",
              "      <td>PHILADELPHIA</td>\n",
              "      <td>06</td>\n",
              "      <td>District 6-0</td>\n",
              "      <td>67301</td>\n",
              "      <td>2018</td>\n",
              "      <td>01</td>\n",
              "      <td>...</td>\n",
              "      <td>NaN</td>\n",
              "      <td>NaN</td>\n",
              "      <td>NaN</td>\n",
              "      <td>NaN</td>\n",
              "      <td>NaN</td>\n",
              "      <td>NaN</td>\n",
              "      <td>NaN</td>\n",
              "      <td>NaN</td>\n",
              "      <td>NaN</td>\n",
              "      <td>NaN</td>\n",
              "    </tr>\n",
              "    <tr>\n",
              "      <th>8</th>\n",
              "      <td>2018022129</td>\n",
              "      <td>46</td>\n",
              "      <td>MONTGOMERY</td>\n",
              "      <td>46104</td>\n",
              "      <td>LOWER MERION</td>\n",
              "      <td>06</td>\n",
              "      <td>District 6-0</td>\n",
              "      <td>68K01</td>\n",
              "      <td>2018</td>\n",
              "      <td>02</td>\n",
              "      <td>...</td>\n",
              "      <td>NaN</td>\n",
              "      <td>NaN</td>\n",
              "      <td>NaN</td>\n",
              "      <td>NaN</td>\n",
              "      <td>NaN</td>\n",
              "      <td>NaN</td>\n",
              "      <td>NaN</td>\n",
              "      <td>NaN</td>\n",
              "      <td>NaN</td>\n",
              "      <td>NaN</td>\n",
              "    </tr>\n",
              "    <tr>\n",
              "      <th>9</th>\n",
              "      <td>2018021892</td>\n",
              "      <td>39</td>\n",
              "      <td>LEHIGH</td>\n",
              "      <td>39210</td>\n",
              "      <td>UPPER MILFORD</td>\n",
              "      <td>05</td>\n",
              "      <td>District 5-0</td>\n",
              "      <td>68M05</td>\n",
              "      <td>2018</td>\n",
              "      <td>02</td>\n",
              "      <td>...</td>\n",
              "      <td>NaN</td>\n",
              "      <td>NaN</td>\n",
              "      <td>NaN</td>\n",
              "      <td>NaN</td>\n",
              "      <td>NaN</td>\n",
              "      <td>NaN</td>\n",
              "      <td>NaN</td>\n",
              "      <td>NaN</td>\n",
              "      <td>NaN</td>\n",
              "      <td>NaN</td>\n",
              "    </tr>\n",
              "  </tbody>\n",
              "</table>\n",
              "<p>10 rows × 215 columns</p>\n",
              "</div>"
            ],
            "text/plain": [
              "          crn county  county_name municipality   municipal_name district  \\\n",
              "0  1998140399     09        Bucks        09403  Doylestown Boro       06   \n",
              "1  2018024122     01        ADAMS        01219          STRABAN       08   \n",
              "2  2018022880     66      WYOMING        66231  WEST MANCHESTER       08   \n",
              "3  2018021506     15      CHESTER        15202      CHARLESTOWN       06   \n",
              "4  2018025163     02    ALLEGHENY        02301       PITTSBURGH       11   \n",
              "5  2018029148     58  SUSQUEHANNA        58227            TIOGA       03   \n",
              "6  2018023274     02    ALLEGHENY        02113       PENN HILLS       11   \n",
              "7  2018028792     67         YORK        67301     PHILADELPHIA       06   \n",
              "8  2018022129     46   MONTGOMERY        46104     LOWER MERION       06   \n",
              "9  2018021892     39       LEHIGH        39210    UPPER MILFORD       05   \n",
              "\n",
              "   district_name police_agcy crash_year crash_month  ... work_zone_loc  \\\n",
              "0   District 6-0       09403       1998          12  ...           NaN   \n",
              "1   District 8-0       68H06       2018          02  ...           NaN   \n",
              "2   District 8-0       66231       2018          02  ...           NaN   \n",
              "3   District 6-0       68J03       2018          01  ...           NaN   \n",
              "4  District 11-0       02301       2018          02  ...           NaN   \n",
              "5   District 3-0       68F05       2018          03  ...           NaN   \n",
              "6  District 11-0       02113       2018          02  ...           NaN   \n",
              "7   District 6-0       67301       2018          01  ...           NaN   \n",
              "8   District 6-0       68K01       2018          02  ...           NaN   \n",
              "9   District 5-0       68M05       2018          02  ...           NaN   \n",
              "\n",
              "  cons_zone_spd_lim workers_pres wz_close_detour wz_flagger wz_law_offcr_ind  \\\n",
              "0               NaN          NaN             NaN        NaN              NaN   \n",
              "1               NaN          NaN             NaN        NaN              NaN   \n",
              "2               NaN          NaN             NaN        NaN              NaN   \n",
              "3               NaN          NaN             NaN        NaN              NaN   \n",
              "4               NaN          NaN             NaN        NaN              NaN   \n",
              "5               NaN          NaN             NaN        NaN              NaN   \n",
              "6               NaN          NaN             NaN        NaN              NaN   \n",
              "7               NaN          NaN             NaN        NaN              NaN   \n",
              "8               NaN          NaN             NaN        NaN              NaN   \n",
              "9               NaN          NaN             NaN        NaN              NaN   \n",
              "\n",
              "  wz_ln_closure wz_moving wz_other wz_shlder_mdn  \n",
              "0           NaN       NaN      NaN           NaN  \n",
              "1           NaN       NaN      NaN           NaN  \n",
              "2           NaN       NaN      NaN           NaN  \n",
              "3           NaN       NaN      NaN           NaN  \n",
              "4           NaN       NaN      NaN           NaN  \n",
              "5           NaN       NaN      NaN           NaN  \n",
              "6           NaN       NaN      NaN           NaN  \n",
              "7           NaN       NaN      NaN           NaN  \n",
              "8           NaN       NaN      NaN           NaN  \n",
              "9           NaN       NaN      NaN           NaN  \n",
              "\n",
              "[10 rows x 215 columns]"
            ]
          },
          "execution_count": 20,
          "metadata": {},
          "output_type": "execute_result"
        }
      ],
      "source": [
        "import pandas as pd\n",
        "\n",
        "ci_df = pd.DataFrame(ci_list_recs)\n",
        "ci_df.head(10)"
      ]
    },
    {
      "cell_type": "markdown",
      "id": "29f179d4-1f99-454d-93de-d9fbcda0fbdd",
      "metadata": {
        "id": "29f179d4-1f99-454d-93de-d9fbcda0fbdd"
      },
      "source": [
        "### wget direct from web\n",
        "\n",
        "GNU Wget is a free network utility that retrieves content from web servers.It supports downloading via HTTP, HTTPS, and FTP.\n",
        "\n",
        "If you have wget installed on your system, you can use the command line utility wget directly in a Notebook cell as shown in the cell below. This cell can then be run at the start of your notebook as a way for you to retrieve the most up to date version of a dataset.\n",
        "\n",
        "To install wget, visit http://www.gnu.org/software/wget/"
      ]
    },
    {
      "cell_type": "code",
      "execution_count": null,
      "id": "cec3d332-ef58-4e2d-a890-d80380e0ffce",
      "metadata": {
        "id": "cec3d332-ef58-4e2d-a890-d80380e0ffce",
        "outputId": "c0b86b3e-44e0-493a-ede0-074a38129eda"
      },
      "outputs": [
        {
          "name": "stdout",
          "output_type": "stream",
          "text": [
            "--2023-04-14 10:58:53--  https://data.pa.gov/resource/dc5b-gebx.json\n",
            "Resolving data.pa.gov (data.pa.gov)... 52.206.140.199, 52.206.140.205, 52.206.68.26\n",
            "Connecting to data.pa.gov (data.pa.gov)|52.206.140.199|:443... connected.\n",
            "HTTP request sent, awaiting response... 200 OK\n",
            "Length: unspecified [application/json]\n",
            "Saving to: 'dc5b-gebx.json.1'\n",
            "\n",
            "dc5b-gebx.json.1        [  <=>               ]   4.17M  19.8MB/s    in 0.2s    \n",
            "\n",
            "2023-04-14 10:58:54 (19.8 MB/s) - 'dc5b-gebx.json.1' saved [4373075]\n",
            "\n"
          ]
        }
      ],
      "source": [
        "!wget https://data.pa.gov/resource/dc5b-gebx.json"
      ]
    },
    {
      "cell_type": "code",
      "execution_count": null,
      "id": "b2eae246-e3d0-47cc-a5a2-048c35901b75",
      "metadata": {
        "id": "b2eae246-e3d0-47cc-a5a2-048c35901b75",
        "outputId": "cd12f641-7389-493c-e5e9-f37dc686e846"
      },
      "outputs": [
        {
          "data": {
            "text/plain": [
              "{'crn': '1998140399',\n",
              " 'county': '09',\n",
              " 'county_name': 'Bucks',\n",
              " 'municipality': '09403',\n",
              " 'municipal_name': 'Doylestown Boro',\n",
              " 'district': '06',\n",
              " 'district_name': 'District 6-0',\n",
              " 'police_agcy': '09403',\n",
              " 'crash_year': '1998',\n",
              " 'crash_month': '12',\n",
              " 'day_of_week': '5',\n",
              " 'time_of_day': '0105',\n",
              " 'hour_of_day': '01',\n",
              " 'illumination': 'Unknown (expired)',\n",
              " 'road_condition': 'Unknown (expired)',\n",
              " 'collision_type': 'Other or Unknown',\n",
              " 'intersect_type': 'Mid-block',\n",
              " 'tcd_type': 'Not applicable',\n",
              " 'urban_rural': 'Urban',\n",
              " 'fatal_count': '0',\n",
              " 'injury_count': '0',\n",
              " 'person_count': '1',\n",
              " 'total_units': '3',\n",
              " 'sch_bus_ind': 'No',\n",
              " 'sch_zone_ind': 'No',\n",
              " 'arrival_tm': '9999',\n",
              " 'dispatch_tm': '9999',\n",
              " 'lane_closed': 'No',\n",
              " 'tcd_func_cd': 'No Controls',\n",
              " 'vehicle_count': '3',\n",
              " 'automobile_count': '0',\n",
              " 'motorcycle_count': '0',\n",
              " 'bus_count': '0',\n",
              " 'small_truck_count': '1',\n",
              " 'heavy_truck_count': '0',\n",
              " 'suv_count': '0',\n",
              " 'van_count': '0',\n",
              " 'bicycle_count': '0',\n",
              " 'maj_inj_count': '0',\n",
              " 'mod_inj_count': '0',\n",
              " 'min_inj_count': '0',\n",
              " 'tot_inj_count': '0',\n",
              " 'unk_inj_deg_count': '0',\n",
              " 'unk_inj_per_count': '0',\n",
              " 'driver_count_16yr': '0',\n",
              " 'driver_count_17yr': '0',\n",
              " 'driver_count_18yr': '0',\n",
              " 'driver_count_19yr': '0',\n",
              " 'driver_count_20yr': '0',\n",
              " 'driver_count_50_64yr': '0',\n",
              " 'driver_count_65_74yr': '0',\n",
              " 'driver_count_75plus': '0',\n",
              " 'unbelted_occ_count': '0',\n",
              " 'unb_death_count': '0',\n",
              " 'unb_maj_inj_count': '0',\n",
              " 'belted_death_count': '0',\n",
              " 'belted_maj_inj_count': '0',\n",
              " 'mcycle_death_count': '0',\n",
              " 'mcycle_maj_inj_count': '0',\n",
              " 'bicycle_death_count': '0',\n",
              " 'bicycle_maj_inj_count': '0',\n",
              " 'ped_count': '0',\n",
              " 'ped_death_count': '0',\n",
              " 'ped_maj_inj_count': '0',\n",
              " 'max_severity_level': '0',\n",
              " 'comm_veh_count': '0',\n",
              " 'interstate': 'No',\n",
              " 'state_road': 'No',\n",
              " 'local_road_only': 'Yes',\n",
              " 'turnpike': 'No',\n",
              " 'wet_road': 'No',\n",
              " 'snow_slush_road': 'No',\n",
              " 'icy_road': 'No',\n",
              " 'sudden_deer': 'No',\n",
              " 'shldr_related': 'No',\n",
              " 'rear_end': 'No',\n",
              " 'ho_oppdir_sdswp': 'No',\n",
              " 'hit_fixed_object': 'No',\n",
              " 'sv_run_off_rd': 'No',\n",
              " 'work_zone': 'No',\n",
              " 'property_damage_only': 'Yes',\n",
              " 'injury_or_fatal': 'No',\n",
              " 'fatal_or_maj_inj': 'No',\n",
              " 'injury': 'No',\n",
              " 'fatal': 'No',\n",
              " 'non_intersection': 'Yes',\n",
              " 'intersection': 'No',\n",
              " 'signalized_int': 'No',\n",
              " 'stop_controlled_int': 'No',\n",
              " 'unsignalized_int': 'No',\n",
              " 'school_bus': 'No',\n",
              " 'school_zone': 'No',\n",
              " 'hit_deer': 'No',\n",
              " 'hit_tree_shrub': 'No',\n",
              " 'hit_embankment': 'No',\n",
              " 'hit_pole': 'No',\n",
              " 'hit_gdrail': 'No',\n",
              " 'hit_gdrail_end': 'No',\n",
              " 'hit_barrier': 'No',\n",
              " 'hit_bridge': 'No',\n",
              " 'overturned': 'No',\n",
              " 'motorcycle': 'No',\n",
              " 'bicycle': 'No',\n",
              " 'hvy_truck_related': 'No',\n",
              " 'vehicle_failure': 'No',\n",
              " 'train_trolley': 'No',\n",
              " 'phantom_vehicle': 'No',\n",
              " 'alcohol_related': 'Yes',\n",
              " 'drinking_driver': 'Yes',\n",
              " 'underage_drnk_drv': 'No',\n",
              " 'unlicensed': 'No',\n",
              " 'distracted': 'No',\n",
              " 'cell_phone': 'No',\n",
              " 'no_clearance': 'No',\n",
              " 'running_red_lt': 'No',\n",
              " 'tailgating': 'No',\n",
              " 'cross_median': 'No',\n",
              " 'curved_road': 'No',\n",
              " 'curve_dvr_error': 'No',\n",
              " 'limit_65mph': 'No',\n",
              " 'speeding': 'No',\n",
              " 'speeding_related': 'No',\n",
              " 'aggressive_driving': 'No',\n",
              " 'fatigue_asleep': 'No',\n",
              " 'driver_16yr': 'No',\n",
              " 'driver_17yr': 'No',\n",
              " 'driver_18yr': 'No',\n",
              " 'driver_19yr': 'No',\n",
              " 'driver_20yr': 'No',\n",
              " 'driver_50_64yr': 'No',\n",
              " 'driver_65_74yr': 'No',\n",
              " 'driver_75plus': 'No',\n",
              " 'unbelted': 'No',\n",
              " 'pedestrian': 'No',\n",
              " 'comm_vehicle': 'No',\n",
              " 'psp_reported': 'No',\n",
              " 'nhtsa_agg_driving': 'No',\n",
              " 'deer_related': 'No',\n",
              " 'illumination_dark': 'No',\n",
              " 'running_stop_sign': 'No',\n",
              " 'train': 'No',\n",
              " 'trolley': 'No',\n",
              " 'hit_parked_vehicle': 'Yes',\n",
              " 'fire_in_vehicle': 'No',\n",
              " 'vehicle_towed': 'Yes',\n",
              " 'hazardous_truck': 'No',\n",
              " 'major_injury': 'No',\n",
              " 'moderate_injury': 'No',\n",
              " 'minor_injury': 'No',\n",
              " 'mc_drinking_driver': 'No',\n",
              " 'drug_related': 'No',\n",
              " 'illegal_drug_related': 'No',\n",
              " 'school_bus_unit': 'No',\n",
              " 'drugged_driver': 'No',\n",
              " 'impaired_driver': 'Yes'}"
            ]
          },
          "execution_count": 22,
          "metadata": {},
          "output_type": "execute_result"
        }
      ],
      "source": [
        "#load and retreive latest version of dataset\n",
        "wget_json = json.loads(open('dc5b-gebx.json').read())\n",
        "wget_json[0]"
      ]
    },
    {
      "cell_type": "markdown",
      "id": "63957b9c-dc6d-45b3-9c3f-150091a7f0e7",
      "metadata": {
        "id": "63957b9c-dc6d-45b3-9c3f-150091a7f0e7"
      },
      "source": [
        "# Simple Web API Requests\n"
      ]
    },
    {
      "cell_type": "markdown",
      "id": "900ce0e3-07f7-4f13-af16-ddd54584f106",
      "metadata": {
        "tags": [],
        "id": "900ce0e3-07f7-4f13-af16-ddd54584f106"
      },
      "source": [
        "For more robust ways of serving up data, i.e. by APIs, we generally need to register an \"app,\" i.e. an application that will be accessing the data, receive at the very least a token (and often a client secret as well) to enable tracked downloads of data, ensure proper access limits, etc.\n",
        "\n",
        "We can think of these access points as involving one of two levels of authentication: a simple authentication involving signed requests (where a long term token is passed along with the request but no secondary per-request or limited-time token is needed), and a more complex, two or three step authentication process."
      ]
    },
    {
      "cell_type": "markdown",
      "id": "061e61c5-66f5-42d6-9dd7-dd709685e275",
      "metadata": {
        "id": "061e61c5-66f5-42d6-9dd7-dd709685e275"
      },
      "source": [
        "### Simple Authentication Example Using PA State Data Socrata\n",
        "\n",
        "It is very helpful if an API comes with a pre-built library to interface with that server so that you don't have to handle signing requests in HTTP, managing tokens, etc. \n",
        "\n",
        "Fortunately, we have a nice workable pre-made library for working with this same PA State Socrata API portal, sodapy."
      ]
    },
    {
      "cell_type": "markdown",
      "id": "a99b7b19-196c-4f58-9b06-054a0caf6751",
      "metadata": {
        "id": "a99b7b19-196c-4f58-9b06-054a0caf6751"
      },
      "source": [
        "**Setting Up Your App on Your Socrata Account**\n",
        "\n",
        "Once you have sodapy installed, you'll want to visit the API section of the website, which has its own record of the same dataset we visited above with some additional access information:\n",
        "\n",
        "[PA State Data Socrata](https://dev.socrata.com/foundry/data.pa.gov/dc5b-gebx)\n",
        "\n",
        "If you scroll down about halfway through this page, you'll see a large \"Sign up for an app token!\" button. Click on that to be taken to your API dashboard (alternative, you can login and navigate to [developer settings](https://data.pa.gov/profile/edit/developer_settings)).\n",
        "\n",
        "In the second main section, select \"Create New App Token.\"\n",
        "\n",
        "Fill in some basic details for your \"app\" and once generated, copy down the App Token given to you.\n",
        "\n",
        "We can now proceed to try out the sodapy library."
      ]
    },
    {
      "cell_type": "code",
      "execution_count": null,
      "id": "067c382c-9f6f-44da-aa1c-4c6ffd3188c4",
      "metadata": {
        "id": "067c382c-9f6f-44da-aa1c-4c6ffd3188c4"
      },
      "outputs": [],
      "source": [
        "from sodapy import Socrata\n",
        "\n",
        "client = Socrata('data.pa.gov','pSibFFfkBQF6QNp6JkBq8Z6cN',\n",
        "                username='cgriego@andrew.cmu.edu',\n",
        "                password='jL!JCsNj7Faez6U')\n",
        "\n",
        "results = client.get('dc5b-gebx', limit=2000)"
      ]
    },
    {
      "cell_type": "code",
      "execution_count": null,
      "id": "7f05cd5d-30e4-4b44-8a0f-b688589d9131",
      "metadata": {
        "id": "7f05cd5d-30e4-4b44-8a0f-b688589d9131",
        "outputId": "f8712a06-a8d0-4984-909a-77c154352d68"
      },
      "outputs": [
        {
          "data": {
            "text/html": [
              "<div>\n",
              "<style scoped>\n",
              "    .dataframe tbody tr th:only-of-type {\n",
              "        vertical-align: middle;\n",
              "    }\n",
              "\n",
              "    .dataframe tbody tr th {\n",
              "        vertical-align: top;\n",
              "    }\n",
              "\n",
              "    .dataframe thead th {\n",
              "        text-align: right;\n",
              "    }\n",
              "</style>\n",
              "<table border=\"1\" class=\"dataframe\">\n",
              "  <thead>\n",
              "    <tr style=\"text-align: right;\">\n",
              "      <th></th>\n",
              "      <th>crn</th>\n",
              "      <th>county</th>\n",
              "      <th>county_name</th>\n",
              "      <th>municipality</th>\n",
              "      <th>municipal_name</th>\n",
              "      <th>district</th>\n",
              "      <th>district_name</th>\n",
              "      <th>police_agcy</th>\n",
              "      <th>crash_year</th>\n",
              "      <th>crash_month</th>\n",
              "      <th>...</th>\n",
              "      <th>cons_zone_spd_lim</th>\n",
              "      <th>workers_pres</th>\n",
              "      <th>wz_close_detour</th>\n",
              "      <th>wz_flagger</th>\n",
              "      <th>wz_law_offcr_ind</th>\n",
              "      <th>wz_ln_closure</th>\n",
              "      <th>wz_moving</th>\n",
              "      <th>wz_other</th>\n",
              "      <th>wz_shlder_mdn</th>\n",
              "      <th>roadway_cleared</th>\n",
              "    </tr>\n",
              "  </thead>\n",
              "  <tbody>\n",
              "    <tr>\n",
              "      <th>0</th>\n",
              "      <td>1998140399</td>\n",
              "      <td>09</td>\n",
              "      <td>Bucks</td>\n",
              "      <td>09403</td>\n",
              "      <td>Doylestown Boro</td>\n",
              "      <td>06</td>\n",
              "      <td>District 6-0</td>\n",
              "      <td>09403</td>\n",
              "      <td>1998</td>\n",
              "      <td>12</td>\n",
              "      <td>...</td>\n",
              "      <td>NaN</td>\n",
              "      <td>NaN</td>\n",
              "      <td>NaN</td>\n",
              "      <td>NaN</td>\n",
              "      <td>NaN</td>\n",
              "      <td>NaN</td>\n",
              "      <td>NaN</td>\n",
              "      <td>NaN</td>\n",
              "      <td>NaN</td>\n",
              "      <td>NaN</td>\n",
              "    </tr>\n",
              "    <tr>\n",
              "      <th>1</th>\n",
              "      <td>2018024122</td>\n",
              "      <td>01</td>\n",
              "      <td>ADAMS</td>\n",
              "      <td>01219</td>\n",
              "      <td>STRABAN</td>\n",
              "      <td>08</td>\n",
              "      <td>District 8-0</td>\n",
              "      <td>68H06</td>\n",
              "      <td>2018</td>\n",
              "      <td>02</td>\n",
              "      <td>...</td>\n",
              "      <td>NaN</td>\n",
              "      <td>NaN</td>\n",
              "      <td>NaN</td>\n",
              "      <td>NaN</td>\n",
              "      <td>NaN</td>\n",
              "      <td>NaN</td>\n",
              "      <td>NaN</td>\n",
              "      <td>NaN</td>\n",
              "      <td>NaN</td>\n",
              "      <td>NaN</td>\n",
              "    </tr>\n",
              "    <tr>\n",
              "      <th>2</th>\n",
              "      <td>2018022880</td>\n",
              "      <td>66</td>\n",
              "      <td>WYOMING</td>\n",
              "      <td>66231</td>\n",
              "      <td>WEST MANCHESTER</td>\n",
              "      <td>08</td>\n",
              "      <td>District 8-0</td>\n",
              "      <td>66231</td>\n",
              "      <td>2018</td>\n",
              "      <td>02</td>\n",
              "      <td>...</td>\n",
              "      <td>NaN</td>\n",
              "      <td>NaN</td>\n",
              "      <td>NaN</td>\n",
              "      <td>NaN</td>\n",
              "      <td>NaN</td>\n",
              "      <td>NaN</td>\n",
              "      <td>NaN</td>\n",
              "      <td>NaN</td>\n",
              "      <td>NaN</td>\n",
              "      <td>NaN</td>\n",
              "    </tr>\n",
              "    <tr>\n",
              "      <th>3</th>\n",
              "      <td>2018021506</td>\n",
              "      <td>15</td>\n",
              "      <td>CHESTER</td>\n",
              "      <td>15202</td>\n",
              "      <td>CHARLESTOWN</td>\n",
              "      <td>06</td>\n",
              "      <td>District 6-0</td>\n",
              "      <td>68J03</td>\n",
              "      <td>2018</td>\n",
              "      <td>01</td>\n",
              "      <td>...</td>\n",
              "      <td>NaN</td>\n",
              "      <td>NaN</td>\n",
              "      <td>NaN</td>\n",
              "      <td>NaN</td>\n",
              "      <td>NaN</td>\n",
              "      <td>NaN</td>\n",
              "      <td>NaN</td>\n",
              "      <td>NaN</td>\n",
              "      <td>NaN</td>\n",
              "      <td>NaN</td>\n",
              "    </tr>\n",
              "    <tr>\n",
              "      <th>4</th>\n",
              "      <td>2018025163</td>\n",
              "      <td>02</td>\n",
              "      <td>ALLEGHENY</td>\n",
              "      <td>02301</td>\n",
              "      <td>PITTSBURGH</td>\n",
              "      <td>11</td>\n",
              "      <td>District 11-0</td>\n",
              "      <td>02301</td>\n",
              "      <td>2018</td>\n",
              "      <td>02</td>\n",
              "      <td>...</td>\n",
              "      <td>NaN</td>\n",
              "      <td>NaN</td>\n",
              "      <td>NaN</td>\n",
              "      <td>NaN</td>\n",
              "      <td>NaN</td>\n",
              "      <td>NaN</td>\n",
              "      <td>NaN</td>\n",
              "      <td>NaN</td>\n",
              "      <td>NaN</td>\n",
              "      <td>NaN</td>\n",
              "    </tr>\n",
              "    <tr>\n",
              "      <th>5</th>\n",
              "      <td>2018029148</td>\n",
              "      <td>58</td>\n",
              "      <td>SUSQUEHANNA</td>\n",
              "      <td>58227</td>\n",
              "      <td>TIOGA</td>\n",
              "      <td>03</td>\n",
              "      <td>District 3-0</td>\n",
              "      <td>68F05</td>\n",
              "      <td>2018</td>\n",
              "      <td>03</td>\n",
              "      <td>...</td>\n",
              "      <td>NaN</td>\n",
              "      <td>NaN</td>\n",
              "      <td>NaN</td>\n",
              "      <td>NaN</td>\n",
              "      <td>NaN</td>\n",
              "      <td>NaN</td>\n",
              "      <td>NaN</td>\n",
              "      <td>NaN</td>\n",
              "      <td>NaN</td>\n",
              "      <td>NaN</td>\n",
              "    </tr>\n",
              "    <tr>\n",
              "      <th>6</th>\n",
              "      <td>2018023274</td>\n",
              "      <td>02</td>\n",
              "      <td>ALLEGHENY</td>\n",
              "      <td>02113</td>\n",
              "      <td>PENN HILLS</td>\n",
              "      <td>11</td>\n",
              "      <td>District 11-0</td>\n",
              "      <td>02113</td>\n",
              "      <td>2018</td>\n",
              "      <td>02</td>\n",
              "      <td>...</td>\n",
              "      <td>NaN</td>\n",
              "      <td>NaN</td>\n",
              "      <td>NaN</td>\n",
              "      <td>NaN</td>\n",
              "      <td>NaN</td>\n",
              "      <td>NaN</td>\n",
              "      <td>NaN</td>\n",
              "      <td>NaN</td>\n",
              "      <td>NaN</td>\n",
              "      <td>NaN</td>\n",
              "    </tr>\n",
              "    <tr>\n",
              "      <th>7</th>\n",
              "      <td>2018028792</td>\n",
              "      <td>67</td>\n",
              "      <td>YORK</td>\n",
              "      <td>67301</td>\n",
              "      <td>PHILADELPHIA</td>\n",
              "      <td>06</td>\n",
              "      <td>District 6-0</td>\n",
              "      <td>67301</td>\n",
              "      <td>2018</td>\n",
              "      <td>01</td>\n",
              "      <td>...</td>\n",
              "      <td>NaN</td>\n",
              "      <td>NaN</td>\n",
              "      <td>NaN</td>\n",
              "      <td>NaN</td>\n",
              "      <td>NaN</td>\n",
              "      <td>NaN</td>\n",
              "      <td>NaN</td>\n",
              "      <td>NaN</td>\n",
              "      <td>NaN</td>\n",
              "      <td>NaN</td>\n",
              "    </tr>\n",
              "    <tr>\n",
              "      <th>8</th>\n",
              "      <td>2018022129</td>\n",
              "      <td>46</td>\n",
              "      <td>MONTGOMERY</td>\n",
              "      <td>46104</td>\n",
              "      <td>LOWER MERION</td>\n",
              "      <td>06</td>\n",
              "      <td>District 6-0</td>\n",
              "      <td>68K01</td>\n",
              "      <td>2018</td>\n",
              "      <td>02</td>\n",
              "      <td>...</td>\n",
              "      <td>NaN</td>\n",
              "      <td>NaN</td>\n",
              "      <td>NaN</td>\n",
              "      <td>NaN</td>\n",
              "      <td>NaN</td>\n",
              "      <td>NaN</td>\n",
              "      <td>NaN</td>\n",
              "      <td>NaN</td>\n",
              "      <td>NaN</td>\n",
              "      <td>NaN</td>\n",
              "    </tr>\n",
              "    <tr>\n",
              "      <th>9</th>\n",
              "      <td>2018021892</td>\n",
              "      <td>39</td>\n",
              "      <td>LEHIGH</td>\n",
              "      <td>39210</td>\n",
              "      <td>UPPER MILFORD</td>\n",
              "      <td>05</td>\n",
              "      <td>District 5-0</td>\n",
              "      <td>68M05</td>\n",
              "      <td>2018</td>\n",
              "      <td>02</td>\n",
              "      <td>...</td>\n",
              "      <td>NaN</td>\n",
              "      <td>NaN</td>\n",
              "      <td>NaN</td>\n",
              "      <td>NaN</td>\n",
              "      <td>NaN</td>\n",
              "      <td>NaN</td>\n",
              "      <td>NaN</td>\n",
              "      <td>NaN</td>\n",
              "      <td>NaN</td>\n",
              "      <td>NaN</td>\n",
              "    </tr>\n",
              "  </tbody>\n",
              "</table>\n",
              "<p>10 rows × 216 columns</p>\n",
              "</div>"
            ],
            "text/plain": [
              "          crn county  county_name municipality   municipal_name district  \\\n",
              "0  1998140399     09        Bucks        09403  Doylestown Boro       06   \n",
              "1  2018024122     01        ADAMS        01219          STRABAN       08   \n",
              "2  2018022880     66      WYOMING        66231  WEST MANCHESTER       08   \n",
              "3  2018021506     15      CHESTER        15202      CHARLESTOWN       06   \n",
              "4  2018025163     02    ALLEGHENY        02301       PITTSBURGH       11   \n",
              "5  2018029148     58  SUSQUEHANNA        58227            TIOGA       03   \n",
              "6  2018023274     02    ALLEGHENY        02113       PENN HILLS       11   \n",
              "7  2018028792     67         YORK        67301     PHILADELPHIA       06   \n",
              "8  2018022129     46   MONTGOMERY        46104     LOWER MERION       06   \n",
              "9  2018021892     39       LEHIGH        39210    UPPER MILFORD       05   \n",
              "\n",
              "   district_name police_agcy crash_year crash_month  ... cons_zone_spd_lim  \\\n",
              "0   District 6-0       09403       1998          12  ...               NaN   \n",
              "1   District 8-0       68H06       2018          02  ...               NaN   \n",
              "2   District 8-0       66231       2018          02  ...               NaN   \n",
              "3   District 6-0       68J03       2018          01  ...               NaN   \n",
              "4  District 11-0       02301       2018          02  ...               NaN   \n",
              "5   District 3-0       68F05       2018          03  ...               NaN   \n",
              "6  District 11-0       02113       2018          02  ...               NaN   \n",
              "7   District 6-0       67301       2018          01  ...               NaN   \n",
              "8   District 6-0       68K01       2018          02  ...               NaN   \n",
              "9   District 5-0       68M05       2018          02  ...               NaN   \n",
              "\n",
              "  workers_pres wz_close_detour wz_flagger wz_law_offcr_ind wz_ln_closure  \\\n",
              "0          NaN             NaN        NaN              NaN           NaN   \n",
              "1          NaN             NaN        NaN              NaN           NaN   \n",
              "2          NaN             NaN        NaN              NaN           NaN   \n",
              "3          NaN             NaN        NaN              NaN           NaN   \n",
              "4          NaN             NaN        NaN              NaN           NaN   \n",
              "5          NaN             NaN        NaN              NaN           NaN   \n",
              "6          NaN             NaN        NaN              NaN           NaN   \n",
              "7          NaN             NaN        NaN              NaN           NaN   \n",
              "8          NaN             NaN        NaN              NaN           NaN   \n",
              "9          NaN             NaN        NaN              NaN           NaN   \n",
              "\n",
              "  wz_moving wz_other wz_shlder_mdn roadway_cleared  \n",
              "0       NaN      NaN           NaN             NaN  \n",
              "1       NaN      NaN           NaN             NaN  \n",
              "2       NaN      NaN           NaN             NaN  \n",
              "3       NaN      NaN           NaN             NaN  \n",
              "4       NaN      NaN           NaN             NaN  \n",
              "5       NaN      NaN           NaN             NaN  \n",
              "6       NaN      NaN           NaN             NaN  \n",
              "7       NaN      NaN           NaN             NaN  \n",
              "8       NaN      NaN           NaN             NaN  \n",
              "9       NaN      NaN           NaN             NaN  \n",
              "\n",
              "[10 rows x 216 columns]"
            ]
          },
          "execution_count": 15,
          "metadata": {},
          "output_type": "execute_result"
        }
      ],
      "source": [
        "import pandas as pd\n",
        "\n",
        "results_df = pd.DataFrame.from_records(results)\n",
        "results_df.head(10)"
      ]
    },
    {
      "cell_type": "code",
      "execution_count": null,
      "id": "4d826080-315c-4599-b4e8-9c0d651c0d36",
      "metadata": {
        "id": "4d826080-315c-4599-b4e8-9c0d651c0d36"
      },
      "outputs": [],
      "source": []
    }
  ],
  "metadata": {
    "kernelspec": {
      "display_name": "Python 3 (ipykernel)",
      "language": "python",
      "name": "python3"
    },
    "language_info": {
      "codemirror_mode": {
        "name": "ipython",
        "version": 3
      },
      "file_extension": ".py",
      "mimetype": "text/x-python",
      "name": "python",
      "nbconvert_exporter": "python",
      "pygments_lexer": "ipython3",
      "version": "3.9.12"
    },
    "colab": {
      "provenance": []
    }
  },
  "nbformat": 4,
  "nbformat_minor": 5
}