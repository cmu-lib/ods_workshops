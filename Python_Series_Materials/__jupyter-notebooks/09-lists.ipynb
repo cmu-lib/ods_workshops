{
 "cells": [
  {
   "cell_type": "markdown",
   "id": "e1f654a5-d5a0-4101-b733-8b7a7e536835",
   "metadata": {},
   "source": [
    "# Lists"
   ]
  },
  {
   "cell_type": "markdown",
   "id": "7f59c9dd-89da-42d7-9a8a-075ace86c9cc",
   "metadata": {},
   "source": [
    "---\n",
    "## Overview\n",
    "\n",
    "Teaching: 10 minutes\n",
    "\n",
    "Exercises: 10 minutes\n",
    "\n",
    "### Questions:\n",
    "- \"How can I store multiple values?\"\n",
    "\n",
    "### Objectives:\n",
    "- \"Explain why programs need collections of values.\"\n",
    "- \"Write programs that create flat lists, index them, slice them, and modify them through assignment and method calls.\"\n",
    "---\n"
   ]
  },
  {
   "cell_type": "markdown",
   "id": "e37fe711-151b-48ce-baf7-01b6f9e277a9",
   "metadata": {},
   "source": [
    "## A list stores many values in a single structure.\n"
   ]
  },
  {
   "cell_type": "markdown",
   "id": "d48756e8-0219-4a0e-8a89-b5f649621b7a",
   "metadata": {},
   "source": [
    "*   Doing calculations with a hundred variables called `pressure_001`, `pressure_002`, etc.,\n",
    "    would be at least as slow as doing them by hand.\n",
    "*   Use a *list* to store many values together.\n",
    "    *   Contained within square brackets `[...]`.\n",
    "    *   Values separated by commas `,`.\n",
    "*   Use `len` to find out how many values are in a list.\n"
   ]
  },
  {
   "cell_type": "code",
   "execution_count": null,
   "id": "f7c35ed2-6978-476d-9e91-0a5d21702db6",
   "metadata": {},
   "outputs": [],
   "source": [
    "pressures = [0.273, 0.275, 0.277, 0.275, 0.276]\n",
    "print('pressures:', pressures)\n",
    "print('length:', len(pressures))"
   ]
  },
  {
   "cell_type": "markdown",
   "id": "244c8d2b-b108-4dde-bce7-60d14928a90b",
   "metadata": {},
   "source": [
    "## Use an item's index to fetch it from a list.\n"
   ]
  },
  {
   "cell_type": "markdown",
   "id": "fc8a8973-fc78-46dd-9bc6-f8dfc8b6689a",
   "metadata": {},
   "source": [
    "*   Just like strings.\n"
   ]
  },
  {
   "cell_type": "code",
   "execution_count": null,
   "id": "7163c304-8e3b-4688-9c88-b131412be4f0",
   "metadata": {},
   "outputs": [],
   "source": [
    "print('zeroth item of pressures:', pressures[0])\n",
    "print('fourth item of pressures:', pressures[4])"
   ]
  },
  {
   "cell_type": "markdown",
   "id": "741e26c0-1f2e-4432-846c-1a914e130920",
   "metadata": {
    "tags": []
   },
   "source": [
    "## Lists' values can be replaced by assigning to them.\n"
   ]
  },
  {
   "cell_type": "markdown",
   "id": "64708ce5-e8f1-4ce1-87da-49eff7ab8d6d",
   "metadata": {},
   "source": [
    "*   Use an index expression on the left of assignment to replace a value."
   ]
  },
  {
   "cell_type": "code",
   "execution_count": null,
   "id": "89709915-52a4-4c09-acdd-3002575ea649",
   "metadata": {},
   "outputs": [],
   "source": [
    "pressures[0] = 0.265\n",
    "print('pressures is now:', pressures)"
   ]
  },
  {
   "cell_type": "markdown",
   "id": "aa36c384-7774-4fd7-a4ae-484f1c408d88",
   "metadata": {},
   "source": [
    "## Appending items to a list lengthens it.\n"
   ]
  },
  {
   "cell_type": "markdown",
   "id": "a0898444-0828-4064-ba6e-9d54647e5022",
   "metadata": {},
   "source": [
    "*   Use `list_name.append` to add items to the end of a list.\n"
   ]
  },
  {
   "cell_type": "code",
   "execution_count": null,
   "id": "6a690d27-f01a-442b-8f74-01076bfaebdb",
   "metadata": {},
   "outputs": [],
   "source": [
    "primes = [2, 3, 5]\n",
    "print('primes is initially:', primes)\n",
    "primes.append(7)\n",
    "print('primes has become:', primes)"
   ]
  },
  {
   "cell_type": "markdown",
   "id": "7d02b3af-6bd1-4606-ab7c-186a32f28d02",
   "metadata": {},
   "source": [
    "*   `append` is a *method* of lists.\n",
    "    *   Like a function, but tied to a particular object.\n",
    "*   Use `object_name.method_name` to call methods.\n",
    "    *   Deliberately resembles the way we refer to things in a library.\n",
    "*   We will meet other methods of lists as we go along.\n",
    "    *   Use `help(list)` for a preview.\n",
    "*   `extend` is similar to `append`, but it allows you to combine two lists.  For example:\n"
   ]
  },
  {
   "cell_type": "code",
   "execution_count": null,
   "id": "430558d1-7976-4aef-9f5b-b75650deb3ed",
   "metadata": {},
   "outputs": [],
   "source": [
    "teen_primes = [11, 13, 17, 19]\n",
    "middle_aged_primes = [37, 41, 43, 47]\n",
    "print('primes is currently:', primes)\n",
    "primes.extend(teen_primes)\n",
    "print('primes has now become:', primes)\n",
    "primes.append(middle_aged_primes)\n",
    "print('primes has finally become:', primes)"
   ]
  },
  {
   "cell_type": "markdown",
   "id": "84186cfa-927e-4f34-a78f-f87d7a03e9f6",
   "metadata": {},
   "source": [
    "Note that while `extend` maintains the \"flat\" structure of the list, appending a list to a list makes the result\n",
    "two-dimensional - the last element in `primes` is a list, not an integer."
   ]
  },
  {
   "cell_type": "markdown",
   "id": "896151cb-a3a6-4721-aad7-e638bdbf0264",
   "metadata": {},
   "source": [
    "## Use `del` to remove items from a list entirely."
   ]
  },
  {
   "cell_type": "markdown",
   "id": "aef43adc-377f-402f-b852-834f880437a9",
   "metadata": {},
   "source": [
    "*   We use `del list_name[index]` to remove an element from a list (in the example, 9 is not a prime number) and thus shorten it.\n",
    "*   `del` is not a function or a method, but a statement in the language."
   ]
  },
  {
   "cell_type": "code",
   "execution_count": null,
   "id": "ef426251-d15e-4a3d-8df4-28479047afbc",
   "metadata": {},
   "outputs": [],
   "source": [
    "primes = [2, 3, 5, 7, 9]\n",
    "print('primes before removing last item:', primes)\n",
    "del primes[4]\n",
    "print('primes after removing last item:', primes)"
   ]
  },
  {
   "cell_type": "markdown",
   "id": "6c500442-49a5-4b6f-b6b4-65a7527ba80a",
   "metadata": {},
   "source": [
    "## The empty list contains no values."
   ]
  },
  {
   "cell_type": "markdown",
   "id": "407ae8e2-6662-4eef-9f95-596843cd136e",
   "metadata": {},
   "source": [
    "*   Use `[]` on its own to represent a list that doesn't contain any values.\n",
    "    *   \"The zero of lists.\"\n",
    "*   Helpful as a starting point for collecting values\n",
    "        (which we will see in the [next episode]({{ page.root }}/12-for-loops/))."
   ]
  },
  {
   "cell_type": "markdown",
   "id": "f506e639-3bd9-4d24-8bc7-547ed74fbeb7",
   "metadata": {},
   "source": [
    "## Lists may contain values of different types.\n"
   ]
  },
  {
   "cell_type": "markdown",
   "id": "1f6e7545-f3e6-4ac6-977e-fd3d65288f9b",
   "metadata": {},
   "source": [
    "*   A single list may contain numbers, strings, and anything else."
   ]
  },
  {
   "cell_type": "code",
   "execution_count": null,
   "id": "87741f14-70ba-43f9-b454-c83e547c78b9",
   "metadata": {},
   "outputs": [],
   "source": [
    "goals = [1, 'Create lists.', 2, 'Extract items from lists.', 3, 'Modify lists.']"
   ]
  },
  {
   "cell_type": "markdown",
   "id": "36616956-711d-4849-a959-d956283721e4",
   "metadata": {},
   "source": [
    "## Character strings can be indexed like lists.\n"
   ]
  },
  {
   "cell_type": "markdown",
   "id": "e8f6efe4-8b5d-4eac-8f9b-46f4bb629609",
   "metadata": {},
   "source": [
    "*   Get single characters from a character string using indexes in square brackets."
   ]
  },
  {
   "cell_type": "code",
   "execution_count": null,
   "id": "317db65e-04c9-47eb-96ef-065c705c748f",
   "metadata": {},
   "outputs": [],
   "source": [
    "element = 'carbon'\n",
    "print('zeroth character:', element[0])\n",
    "print('third character:', element[3])"
   ]
  },
  {
   "cell_type": "markdown",
   "id": "8ad523ca-08e7-44bf-99fe-1cbb3ada762f",
   "metadata": {},
   "source": [
    "## Character strings are immutable."
   ]
  },
  {
   "cell_type": "markdown",
   "id": "77a241cc-aeb0-4893-af07-311ab8aee0b0",
   "metadata": {},
   "source": [
    "*   Cannot change the characters in a string after it has been created.\n",
    "    *   *Immutable*: can't be changed after creation.\n",
    "    *   In contrast, lists are *mutable*: they can be modified in place.\n",
    "*   Python considers the string to be a single value with parts,\n",
    "    not a collection of values."
   ]
  },
  {
   "cell_type": "code",
   "execution_count": null,
   "id": "59fb3d54-9cb7-4576-84b1-48fcbc9e166a",
   "metadata": {},
   "outputs": [],
   "source": [
    "element[0] = 'C'"
   ]
  },
  {
   "cell_type": "markdown",
   "id": "eba3683f-05d6-4078-966f-e9a95550771f",
   "metadata": {},
   "source": [
    "*   Lists and character strings are both *collections*.\n"
   ]
  },
  {
   "cell_type": "markdown",
   "id": "ea38fa4a-a331-4893-a7e7-09f6c1eeb183",
   "metadata": {},
   "source": [
    "## Indexing beyond the end of the collection is an error."
   ]
  },
  {
   "cell_type": "markdown",
   "id": "29208a76-5a75-4aa9-ad2d-fd139adfebb3",
   "metadata": {},
   "source": [
    "*   Python reports an `IndexError` if we attempt to access a value that doesn't exist.\n",
    "    *   This is a kind of [runtime error]({{ page.root }}/04-built-in/#runtime-error).\n",
    "    *   Cannot be detected as the code is parsed\n",
    "        because the index might be calculated based on data."
   ]
  },
  {
   "cell_type": "code",
   "execution_count": null,
   "id": "4e75efd1-62db-4eb5-aef8-127f5dbdca49",
   "metadata": {},
   "outputs": [],
   "source": [
    "print('99th element of element is:', element[99])"
   ]
  },
  {
   "cell_type": "markdown",
   "id": "4e52bf7a-f238-4dde-8e1e-a7247703ff69",
   "metadata": {
    "tags": []
   },
   "source": [
    "---\n",
    "## Fill in the Blanks"
   ]
  },
  {
   "cell_type": "markdown",
   "id": "d5fd3c41-51b6-4d81-8e6a-0589d4dc0b21",
   "metadata": {},
   "source": [
    "> \n",
    ">\n",
    "> Fill in the blanks so that the program below produces the output shown.\n",
    ">"
   ]
  },
  {
   "cell_type": "markdown",
   "id": "2ca7db4a-e039-48ae-87be-0ac0276cc15f",
   "metadata": {},
   "source": [
    "> ~~~ python\n",
    "> values = ____\n",
    "> values.____(1)\n",
    "> values.____(3)\n",
    "> values.____(5)\n",
    "> print('first time:', values)\n",
    "> values = values[____]\n",
    "> print('second time:', values)\n",
    "> ~~~\n",
    ">"
   ]
  },
  {
   "cell_type": "markdown",
   "id": "6002e186-82c9-4d35-a1c9-dec8b864badf",
   "metadata": {},
   "source": [
    "> ~~~ output\n",
    "> first time: [1, 3, 5]\n",
    "> second time: [3, 5]\n",
    "> ~~~"
   ]
  },
  {
   "cell_type": "markdown",
   "id": "4ec4626a-c817-40ee-b0c2-04500ea637af",
   "metadata": {
    "jp-MarkdownHeadingCollapsed": true,
    "tags": []
   },
   "source": [
    "## Solution"
   ]
  },
  {
   "cell_type": "code",
   "execution_count": null,
   "id": "2b7dff2b-38bb-4b30-8f54-a1ce8cb599df",
   "metadata": {},
   "outputs": [],
   "source": [
    "values = []\n",
    "values.append(1)\n",
    "values.append(3)\n",
    "values.append(5)\n",
    "print('first time:', values)\n",
    "values = values[1:]\n",
    "print('second time:', values)"
   ]
  },
  {
   "cell_type": "markdown",
   "id": "1a210d7f-0836-4e36-9dbc-7adea41a184b",
   "metadata": {
    "tags": []
   },
   "source": [
    "---\n",
    "## How Large is a Slice?"
   ]
  },
  {
   "cell_type": "markdown",
   "id": "e78768fe-0d02-436f-8e69-542a34ff5d23",
   "metadata": {},
   "source": [
    ">\n",
    "> If `start` and `stop` are both non-negative integers,\n",
    "> how long is the list `values[start:stop]`?\n",
    ">"
   ]
  },
  {
   "cell_type": "markdown",
   "id": "39f5d686-1a34-466f-bc93-7b0d19397c8d",
   "metadata": {
    "jp-MarkdownHeadingCollapsed": true,
    "tags": []
   },
   "source": [
    "## Solution"
   ]
  },
  {
   "cell_type": "markdown",
   "id": "f9e7c88a-5fcb-46ce-9842-81bc433e1bcd",
   "metadata": {},
   "source": [
    "> > \n",
    "> > The list `values[start:stop]` has up to `stop - start` elements.  For example,\n",
    "> > `values[1:4]` has the 3 elements `values[1]`, `values[2]`, and `values[3]`.\n",
    "> > Why 'up to'? As we saw in [episode 2]({{ page.root }}/02-variables/),\n",
    "> > if `stop` is greater than the total length of the list `values`,\n",
    "> > we will still get a list back but it will be shorter than expected."
   ]
  },
  {
   "cell_type": "markdown",
   "id": "e6420977-eae5-4f7f-b9ac-dc7bf2e72f84",
   "metadata": {},
   "source": [
    "---\n",
    "## From Strings to Lists and Back"
   ]
  },
  {
   "cell_type": "markdown",
   "id": "d1b53dbd-53c3-4982-8a91-2ccdf313448a",
   "metadata": {},
   "source": [
    ">\n",
    "> Given this:\n",
    ">\n",
    "> ~~~ python\n",
    "> print('string to list:', list('tin'))\n",
    "> print('list to string:', ''.join(['g', 'o', 'l', 'd']))\n",
    "> ~~~\n",
    "> "
   ]
  },
  {
   "cell_type": "markdown",
   "id": "9b5f7f22-323e-440a-a439-608c7945fc29",
   "metadata": {},
   "source": [
    ">\n",
    "> ~~~ output\n",
    "> string to list: ['t', 'i', 'n']\n",
    "> list to string: gold\n",
    "> ~~~"
   ]
  },
  {
   "cell_type": "markdown",
   "id": "85875347-a712-4d2b-b6cd-8b061edf2d29",
   "metadata": {},
   "source": [
    ">\n",
    "> 1.  What does `list('some string')` do?\n",
    "> 2.  What does `'-'.join(['x', 'y', 'z'])` generate?\n",
    ">"
   ]
  },
  {
   "cell_type": "markdown",
   "id": "e671473f-d62c-4d37-8455-88a62298ad97",
   "metadata": {
    "jp-MarkdownHeadingCollapsed": true,
    "tags": []
   },
   "source": [
    "## Solution"
   ]
  },
  {
   "cell_type": "markdown",
   "id": "757bb2c2-63c9-4838-924b-ff70abe3b56a",
   "metadata": {},
   "source": [
    "> > 1. [`list('some string')`](https://docs.python.org/3/library/stdtypes.html#list) converts a string into a list containing all of its characters.\n",
    "> > 2. [`join`](https://docs.python.org/3/library/stdtypes.html#str.join) returns a string that is the _concatenation_\n",
    "> >    of each string element in the list and adds the separator between each element in the list. This results in\n",
    "> >    `x-y-z`. The separator between the elements is the string that provides this method."
   ]
  },
  {
   "cell_type": "markdown",
   "id": "14206a95-ef3d-4247-bbc4-b47ef2bd2b88",
   "metadata": {},
   "source": [
    "---\n",
    "## Working With the End"
   ]
  },
  {
   "cell_type": "markdown",
   "id": "54c4708e-ca1e-4e6d-9b9e-d1070d6c1894",
   "metadata": {},
   "source": [
    "> What does the following program print?\n",
    ">\n",
    "> ~~~ python\n",
    "> element = 'helium'\n",
    "> print(element[-1])\n",
    "> ~~~"
   ]
  },
  {
   "cell_type": "markdown",
   "id": "e639d0e8-a2d8-4eed-924b-e12af8a32598",
   "metadata": {},
   "source": [
    ">\n",
    "> 1.  How does Python interpret a negative index?\n",
    "> 2.  If a list or string has N elements,\n",
    ">     what is the most negative index that can safely be used with it,\n",
    ">     and what location does that index represent?\n",
    "> 3.  If `values` is a list, what does `del values[-1]` do?\n",
    "> 4.  How can you display all elements but the last one without changing `values`?\n",
    ">     (Hint: you will need to combine slicing and negative indexing.)\n",
    ">"
   ]
  },
  {
   "cell_type": "markdown",
   "id": "9e039225-6dd1-4bd6-8358-4bb4bda01f0a",
   "metadata": {
    "jp-MarkdownHeadingCollapsed": true,
    "tags": []
   },
   "source": [
    "## Solution"
   ]
  },
  {
   "cell_type": "markdown",
   "id": "7f65c394-c4b4-4cc7-843a-f8a8875e1a38",
   "metadata": {},
   "source": [
    "> > \n",
    "> > The program prints `m`.\n",
    "> > 1. Python interprets a negative index as starting from the end (as opposed to\n",
    "> >    starting from the beginning).  The last element is `-1`.\n",
    "> > 2. The last index that can safely be used with a list of N elements is element\n",
    "> >    `-N`, which represents the first element.\n",
    "> > 3. `del values[-1]` removes the last element from the list.\n",
    "> > 4. `values[:-1]`"
   ]
  },
  {
   "cell_type": "markdown",
   "id": "c5fee0f6-c166-401e-8229-9c6c4e5b3f63",
   "metadata": {},
   "source": [
    "---\n",
    "## Stepping Through a List"
   ]
  },
  {
   "cell_type": "markdown",
   "id": "b742845b-3551-4c8b-8786-380af370642b",
   "metadata": {},
   "source": [
    "> \n",
    ">\n",
    "> What does the following program print?\n",
    ">\n",
    "> ~~~ python\n",
    "> element = 'fluorine'\n",
    "> print(element[::2])\n",
    "> print(element[::-1])\n",
    "> ~~~"
   ]
  },
  {
   "cell_type": "markdown",
   "id": "638743b2-864a-48c8-9b2b-60e4d4fde9b0",
   "metadata": {},
   "source": [
    "> 1.  If we write a slice as `low:high:stride`, what does `stride` do?\n",
    "> 2.  What expression would select all of the even-numbered items from a collection?\n",
    ">"
   ]
  },
  {
   "cell_type": "markdown",
   "id": "4af92c2e-9113-44dd-99eb-aa02716680d8",
   "metadata": {
    "jp-MarkdownHeadingCollapsed": true,
    "tags": []
   },
   "source": [
    "---\n",
    "## Solution"
   ]
  },
  {
   "cell_type": "code",
   "execution_count": null,
   "id": "78e4c4b4-cfb0-4f56-b14d-49833be5e6c8",
   "metadata": {},
   "outputs": [],
   "source": [
    "element = 'fluorine'\n",
    "print(element[::2])\n",
    "print(element[::-1])"
   ]
  },
  {
   "cell_type": "markdown",
   "id": "3560f267-e497-426b-887a-7389f7159f38",
   "metadata": {},
   "source": [
    "> > \n",
    "> > The program prints\n",
    "> > ~~~ python\n",
    "> > furn\n",
    "> > eniroulf\n",
    "> > ~~~"
   ]
  },
  {
   "cell_type": "markdown",
   "id": "e6bc82af-def0-4ce7-9a0e-1002f5a169c7",
   "metadata": {},
   "source": [
    "> > 1. `stride` is the step size of the slice.\n",
    "> > 2. The slice `1::2` selects all even-numbered items from a collection: it starts\n",
    "> >    with element `1` (which is the second element, since indexing starts at `0`),\n",
    "> >    goes on until the end (since no `end` is given), and uses a step size of `2`\n",
    "> >    (i.e., selects every second element)."
   ]
  },
  {
   "cell_type": "markdown",
   "id": "f1c4950a-cf05-4755-a896-ae37a61ee13a",
   "metadata": {},
   "source": [
    "---\n",
    "## Slice Bounds"
   ]
  },
  {
   "cell_type": "markdown",
   "id": "c2153376-e659-42e7-865e-33789fd7d37c",
   "metadata": {},
   "source": [
    "> \n",
    ">\n",
    "> What does the following program print?\n",
    ">\n",
    "> ~~~ python\n",
    "> element = 'lithium'\n",
    "> print(element[0:20])\n",
    "> print(element[-1:3])\n",
    "> ~~~"
   ]
  },
  {
   "cell_type": "markdown",
   "id": "a505bf48-b45a-43c4-ad24-30e9ad8372bf",
   "metadata": {
    "jp-MarkdownHeadingCollapsed": true,
    "tags": []
   },
   "source": [
    "## Solution"
   ]
  },
  {
   "cell_type": "code",
   "execution_count": null,
   "id": "536e5973-7057-43cc-84ef-2c0555f6e5aa",
   "metadata": {},
   "outputs": [],
   "source": [
    "element = 'lithium'\n",
    "print(element[0:20])\n",
    "print(element[-1:3])"
   ]
  },
  {
   "cell_type": "markdown",
   "id": "759786fa-1ac7-4c5d-82cb-83b87fa8d961",
   "metadata": {},
   "source": [
    "\n",
    "> The first statement prints the whole string, since the slice goes beyond the total length of the string.\n",
    "> The second statement returns an empty string, because the slice goes \"out of bounds\" of the string."
   ]
  },
  {
   "cell_type": "markdown",
   "id": "374f755c-5f3c-47e0-b32b-23475d24efb3",
   "metadata": {},
   "source": [
    "---\n",
    "## Sort and Sorted"
   ]
  },
  {
   "cell_type": "markdown",
   "id": "58bc5be4-3143-4dd2-b396-e16f38078629",
   "metadata": {},
   "source": [
    "> \n",
    ">\n",
    "> What do these two programs print?\n",
    "> In simple terms, explain the difference between `sorted(letters)` and `letters.sort()`.\n",
    ">"
   ]
  },
  {
   "cell_type": "markdown",
   "id": "634c7ab6-e69e-4651-af32-ba817d2aa7ef",
   "metadata": {},
   "source": [
    "> ~~~ python\n",
    "> # Program A\n",
    "> letters = list('gold')\n",
    "> result = sorted(letters)\n",
    "> print('letters is', letters, 'and result is', result)\n",
    "> ~~~"
   ]
  },
  {
   "cell_type": "markdown",
   "id": "39a73e28-4063-4144-ace1-961acdaa7f3a",
   "metadata": {},
   "source": [
    "> ~~~ python\n",
    "> # Program B\n",
    "> letters = list('gold')\n",
    "> result = letters.sort()\n",
    "> print('letters is', letters, 'and result is', result)\n",
    "> ~~~"
   ]
  },
  {
   "cell_type": "markdown",
   "id": "369c08bd-0f6d-4a96-9fd4-38cb2bbe6858",
   "metadata": {
    "jp-MarkdownHeadingCollapsed": true,
    "tags": []
   },
   "source": [
    "## Solution"
   ]
  },
  {
   "cell_type": "markdown",
   "id": "01642380-a929-4d70-a953-3facea3f3918",
   "metadata": {},
   "source": [
    "> > \n",
    "> > Program A prints"
   ]
  },
  {
   "cell_type": "code",
   "execution_count": null,
   "id": "2576591b-7991-4e3d-96d0-0f6e0486a033",
   "metadata": {},
   "outputs": [],
   "source": [
    "# Program A\n",
    "letters = list('gold')\n",
    "result = sorted(letters)\n",
    "print('letters is', letters, 'and result is', result)"
   ]
  },
  {
   "cell_type": "markdown",
   "id": "e74e111d-f655-4b23-8a68-125453d653f6",
   "metadata": {},
   "source": [
    "> > Program B prints"
   ]
  },
  {
   "cell_type": "code",
   "execution_count": null,
   "id": "7d8c2c30-e06c-42d6-b011-3257ddc24b3a",
   "metadata": {},
   "outputs": [],
   "source": [
    "# Program B\n",
    "letters = list('gold')\n",
    "result = letters.sort()\n",
    "print('letters is', letters, 'and result is', result)"
   ]
  },
  {
   "cell_type": "markdown",
   "id": "7164f3a4-368f-4186-80d6-647b79b578fb",
   "metadata": {},
   "source": [
    "> > `sorted(letters)` returns a sorted copy of the list `letters` (the original\n",
    "> > list `letters` remains unchanged), while `letters.sort()` sorts the list\n",
    "> > `letters` in-place and does not return anything."
   ]
  },
  {
   "cell_type": "markdown",
   "id": "a683cdea-e5bf-4887-89af-883ad4fb7f58",
   "metadata": {},
   "source": [
    "---\n",
    "## Copying (or Not)"
   ]
  },
  {
   "cell_type": "markdown",
   "id": "ee6c9e86-100d-4db0-95ae-bd1ea20aefaa",
   "metadata": {},
   "source": [
    "> \n",
    ">\n",
    "> What do these two programs print?\n",
    "> In simple terms, explain the difference between `new = old` and `new = old[:]`.\n",
    ">"
   ]
  },
  {
   "cell_type": "markdown",
   "id": "0c928f93-7359-42fa-a3a1-fe7e8c28bb53",
   "metadata": {},
   "source": [
    "> ~~~ python\n",
    "> # Program A\n",
    "> old = list('gold')\n",
    "> new = old      # simple assignment\n",
    "> new[0] = 'D'\n",
    "> print('new is', new, 'and old is', old)\n",
    "> ~~~"
   ]
  },
  {
   "cell_type": "markdown",
   "id": "a867e0bd-118f-4d34-b6b2-5e7846d26e7b",
   "metadata": {},
   "source": [
    "> ~~~ python\n",
    "> # Program B\n",
    "> old = list('gold')\n",
    "> new = old[:]   # assigning a slice\n",
    "> new[0] = 'D'\n",
    "> print('new is', new, 'and old is', old)\n",
    "> ~~~"
   ]
  },
  {
   "cell_type": "markdown",
   "id": "3e67b14d-b13b-42e1-9d0b-06bd914aee47",
   "metadata": {
    "jp-MarkdownHeadingCollapsed": true,
    "tags": []
   },
   "source": [
    "## Solution"
   ]
  },
  {
   "cell_type": "markdown",
   "id": "68722aaa-060e-4b28-bee9-ff46048bd4aa",
   "metadata": {},
   "source": [
    "> > \n",
    "> > Program A prints"
   ]
  },
  {
   "cell_type": "code",
   "execution_count": null,
   "id": "9def0975-332c-45d3-862b-573f7271ccb2",
   "metadata": {},
   "outputs": [],
   "source": [
    "# Program A\n",
    "old = list('gold')\n",
    "new = old      # simple assignment\n",
    "new[0] = 'D'\n",
    "print('new is', new, 'and old is', old)"
   ]
  },
  {
   "cell_type": "markdown",
   "id": "171c819f-f5a5-460d-b7a8-4fd071454b34",
   "metadata": {},
   "source": [
    "> > Program B prints"
   ]
  },
  {
   "cell_type": "code",
   "execution_count": null,
   "id": "903bf948-f475-4223-8d68-ed7fa5b8ab29",
   "metadata": {},
   "outputs": [],
   "source": [
    "# Program B\n",
    "old = list('gold')\n",
    "new = old[:]   # assigning a slice\n",
    "new[0] = 'D'\n",
    "print('new is', new, 'and old is', old)"
   ]
  },
  {
   "cell_type": "markdown",
   "id": "56ac46ac-6637-4dc2-833a-c7285c390a07",
   "metadata": {
    "tags": []
   },
   "source": [
    "> > `new = old` makes `new` a reference to the list `old`; `new` and `old` point\n",
    "> > towards the same object.\n",
    "> > \n",
    "> > `new = old[:]` however creates a new list object `new` containing all elements\n",
    "> > from the list `old`; `new` and `old` are different objects.\n"
   ]
  },
  {
   "cell_type": "markdown",
   "id": "2c889b52-f98b-4a39-8776-ced621a61ab3",
   "metadata": {},
   "source": [
    "---\n",
    "## Keypoints:\n",
    "- \"A list stores many values in a single structure.\"\n",
    "- \"Use an item's index to fetch it from a list.\"\n",
    "- \"Lists' values can be replaced by assigning to them.\"\n",
    "- \"Appending items to a list lengthens it.\"\n",
    "- \"Use `del` to remove items from a list entirely.\"\n",
    "- \"The empty list contains no values.\"\n",
    "- \"Lists may contain values of different types.\"\n",
    "- \"Character strings can be indexed like lists.\"\n",
    "- \"Character strings are immutable.\"\n",
    "- \"Indexing beyond the end of the collection is an error.\"\n",
    "---"
   ]
  },
  {
   "cell_type": "markdown",
   "id": "1186e6c1-8933-4c9a-9f2e-d7d681b0cc59",
   "metadata": {},
   "source": [
    "*This course material was created from the [Plotting and Programming in Python](http://swcarpentry.github.io/python-novice-gapminder/) curriculum developed by [The Software Carpentry Foundation](https://software-carpentry.org/) of [The Carpentries](https://carpentries.org/) licensed under [CC-BY 4.0](https://creativecommons.org/licenses/by/4.0/)*"
   ]
  }
 ],
 "metadata": {
  "kernelspec": {
   "display_name": "Python 3 (ipykernel)",
   "language": "python",
   "name": "python3"
  },
  "language_info": {
   "codemirror_mode": {
    "name": "ipython",
    "version": 3
   },
   "file_extension": ".py",
   "mimetype": "text/x-python",
   "name": "python",
   "nbconvert_exporter": "python",
   "pygments_lexer": "ipython3",
   "version": "3.9.12"
  }
 },
 "nbformat": 4,
 "nbformat_minor": 5
}
