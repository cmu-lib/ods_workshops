{
 "cells": [
  {
   "cell_type": "markdown",
   "id": "2f438676-39cc-4194-a9e3-39883b5f5e10",
   "metadata": {},
   "source": [
    "# Conditionals"
   ]
  },
  {
   "cell_type": "markdown",
   "id": "bcc00671-32f5-4e64-8e6d-8f8a2ac8cc40",
   "metadata": {},
   "source": [
    "---\n",
    "Teaching: 10 minutes\n",
    "\n",
    "Exercises: 15 minutes\n",
    "\n",
    "### Questions:\n",
    "- \"How can programs do different things for different data?\"\n",
    "\n",
    "### Objectives:\n",
    "- \"Correctly write programs that use if and else statements and simple Boolean expressions (without logical operators).\"\n",
    "- \"Trace the execution of unnested conditionals and conditionals inside loops.\"\n",
    "---"
   ]
  },
  {
   "cell_type": "markdown",
   "id": "4b69615b-5a85-406b-8fd3-53e9259dbe42",
   "metadata": {},
   "source": [
    "\n",
    "## Use `if` statements to control whether or not a block of code is executed."
   ]
  },
  {
   "cell_type": "markdown",
   "id": "eba9104b-c590-4a2c-aa85-b38143ccdced",
   "metadata": {},
   "source": [
    "*   An `if` statement (more properly called a *conditional* statement)\n",
    "    controls whether some block of code is executed or not.\n",
    "*   Structure is similar to a `for` statement:\n",
    "    *   First line opens with `if` and ends with a colon\n",
    "    *   Body containing one or more statements is indented (usually by 4 spaces)"
   ]
  },
  {
   "cell_type": "code",
   "execution_count": null,
   "id": "133c6a2a-5604-4f17-9553-57c5bb55ff6b",
   "metadata": {},
   "outputs": [],
   "source": [
    "mass = 3.54\n",
    "if mass > 3.0:\n",
    "    print(mass, 'is large')\n",
    "\n",
    "mass = 2.07\n",
    "if mass > 3.0:\n",
    "    print (mass, 'is large')"
   ]
  },
  {
   "cell_type": "markdown",
   "id": "495ca9e1-fbfe-4465-9353-7f11a4e6978b",
   "metadata": {},
   "source": [
    "## Conditionals are often used inside loops.\n"
   ]
  },
  {
   "cell_type": "markdown",
   "id": "11d09746-08c9-4a0e-a618-4b9398c6bebf",
   "metadata": {},
   "source": [
    "*   Not much point using a conditional when we know the value (as above).\n",
    "*   But useful when we have a collection to process.\n"
   ]
  },
  {
   "cell_type": "code",
   "execution_count": null,
   "id": "fea8c5ff-676f-4db4-b7fd-1826e4f65f46",
   "metadata": {},
   "outputs": [],
   "source": [
    "masses = [3.54, 2.07, 9.22, 1.86, 1.71]\n",
    "for m in masses:\n",
    "    if m > 3.0:\n",
    "        print(m, 'is large')"
   ]
  },
  {
   "cell_type": "markdown",
   "id": "e49fe405-be9e-48a2-832f-2e4bb411305d",
   "metadata": {},
   "source": [
    "## Use `else` to execute a block of code when an `if` condition is *not* true.\n"
   ]
  },
  {
   "cell_type": "markdown",
   "id": "661f141b-af26-4e4a-bcec-7d8409e04ad8",
   "metadata": {},
   "source": [
    "*   `else` can be used following an `if`.\n",
    "*   Allows us to specify an alternative to execute when the `if` *branch* isn't taken.\n"
   ]
  },
  {
   "cell_type": "code",
   "execution_count": null,
   "id": "5f73feca-d723-44bd-b5c7-d0f3e366d256",
   "metadata": {},
   "outputs": [],
   "source": [
    "masses = [3.54, 2.07, 9.22, 1.86, 1.71]\n",
    "for m in masses:\n",
    "    if m > 3.0:\n",
    "        print(m, 'is large')\n",
    "    else:\n",
    "        print(m, 'is small')"
   ]
  },
  {
   "cell_type": "markdown",
   "id": "b83f3f85-71af-4163-a8bf-5aa916b44b83",
   "metadata": {},
   "source": [
    "## Use `elif` to specify additional tests."
   ]
  },
  {
   "cell_type": "markdown",
   "id": "e5d16fb8-d56e-4032-b0bf-ad1f7938f0de",
   "metadata": {},
   "source": [
    "*   May want to provide several alternative choices, each with its own test.\n",
    "*   Use `elif` (short for \"else if\") and a condition to specify these.\n",
    "*   Always associated with an `if`.\n",
    "*   Must come before the `else` (which is the \"catch all\").\n"
   ]
  },
  {
   "cell_type": "code",
   "execution_count": null,
   "id": "bfd856f6-e92e-4993-b72e-75b63c57abf6",
   "metadata": {},
   "outputs": [],
   "source": [
    "masses = [3.54, 2.07, 9.22, 1.86, 1.71]\n",
    "for m in masses:\n",
    "    if m > 9.0:\n",
    "        print(m, 'is HUGE')\n",
    "    elif m > 3.0:\n",
    "        print(m, 'is large')\n",
    "    else:\n",
    "        print(m, 'is small')"
   ]
  },
  {
   "cell_type": "markdown",
   "id": "0092f706-319f-40e6-8502-0d056f7f36ca",
   "metadata": {},
   "source": [
    "## Conditions are tested once, in order.\n"
   ]
  },
  {
   "cell_type": "markdown",
   "id": "e81dc181-c368-4f5b-baf7-1ea916828fa4",
   "metadata": {},
   "source": [
    "*   Python steps through the branches of the conditional in order, testing each in turn.\n",
    "*   So ordering matters."
   ]
  },
  {
   "cell_type": "code",
   "execution_count": null,
   "id": "c42c2817-45f4-4e9f-8fd2-76ebab04d3f6",
   "metadata": {},
   "outputs": [],
   "source": [
    "grade = 85\n",
    "if grade >= 70:\n",
    "    print('grade is C')\n",
    "elif grade >= 80:\n",
    "    print('grade is B')\n",
    "elif grade >= 90:\n",
    "    print('grade is A')"
   ]
  },
  {
   "cell_type": "markdown",
   "id": "e90b38e7-a96e-41e1-9303-9c7018003b1b",
   "metadata": {},
   "source": [
    "*   Does *not* automatically go back and re-evaluate if values change.\n"
   ]
  },
  {
   "cell_type": "code",
   "execution_count": null,
   "id": "1c59bda5-5a49-46fe-abad-991bdc2ee966",
   "metadata": {},
   "outputs": [],
   "source": [
    "velocity = 10.0\n",
    "if velocity > 20.0:\n",
    "    print('moving too fast')\n",
    "else:\n",
    "    print('adjusting velocity')\n",
    "    velocity = 50.0"
   ]
  },
  {
   "cell_type": "markdown",
   "id": "7e291aab-306d-4769-aaf0-7431fcd96b0b",
   "metadata": {},
   "source": [
    "*   Often use conditionals in a loop to \"evolve\" the values of variables.\n"
   ]
  },
  {
   "cell_type": "code",
   "execution_count": null,
   "id": "91245ae2-7b50-475b-b521-2a123c665a78",
   "metadata": {},
   "outputs": [],
   "source": [
    "velocity = 10.0\n",
    "for i in range(5): # execute the loop 5 times\n",
    "    print(i, ':', velocity)\n",
    "    if velocity > 20.0:\n",
    "        print('moving too fast')\n",
    "        velocity = velocity - 5.0\n",
    "    else:\n",
    "        print('moving too slow')\n",
    "        velocity = velocity + 10.0\n",
    "print('final velocity:', velocity)"
   ]
  },
  {
   "cell_type": "markdown",
   "id": "5ecea304-5b14-4f71-9556-082625faddb1",
   "metadata": {},
   "source": [
    "## Create a table showing variables' values to trace a program's execution."
   ]
  },
  {
   "cell_type": "markdown",
   "id": "23f05532-bb9a-455a-ab87-97cb84b99916",
   "metadata": {},
   "source": [
    "<table>\n",
    "  <tr>\n",
    "    <td><strong>i</strong></td>\n",
    "    <td>0</td>\n",
    "    <td>.</td>\n",
    "    <td>1</td>\n",
    "    <td>.</td>\n",
    "    <td>2</td>\n",
    "    <td>.</td>\n",
    "    <td>3</td>\n",
    "    <td>.</td>\n",
    "    <td>4</td>\n",
    "    <td>.</td>\n",
    "  </tr>\n",
    "  <tr>\n",
    "    <td><strong>velocity</strong></td>\n",
    "    <td>10.0</td>\n",
    "    <td>20.0</td>\n",
    "    <td>.</td>\n",
    "    <td>30.0</td>\n",
    "    <td>.</td>\n",
    "    <td>25.0</td>\n",
    "    <td>.</td>\n",
    "    <td>20.0</td>\n",
    "    <td>.</td>\n",
    "    <td>30.0</td>\n",
    "  </tr>\n",
    "</table>"
   ]
  },
  {
   "cell_type": "markdown",
   "id": "25c0aedd-ca3c-43b6-b7f6-d928ff4550ef",
   "metadata": {},
   "source": [
    "*   The program must have a `print` statement *outside* the body of the loop\n",
    "    to show the final value of `velocity`,\n",
    "    since its value is updated by the last iteration of the loop."
   ]
  },
  {
   "cell_type": "markdown",
   "id": "756f11e9-8f84-4b68-976d-5f8008f39645",
   "metadata": {},
   "source": [
    "---\n",
    "## Compound Relations Using `and`, `or`, and Parentheses"
   ]
  },
  {
   "cell_type": "markdown",
   "id": "c10cbf00-52b8-4394-9d7d-8f6ba9ba0f48",
   "metadata": {},
   "source": [
    "> \n",
    ">\n",
    "> Often, you want some combination of things to be true.  You can combine\n",
    "> relations within a conditional using `and` and `or`.  Continuing the example\n",
    "> above, suppose you have\n",
    ">"
   ]
  },
  {
   "cell_type": "code",
   "execution_count": null,
   "id": "21e56633-0658-4356-9e32-4c11ea005a60",
   "metadata": {},
   "outputs": [],
   "source": [
    "mass     = [ 3.54,  2.07,  9.22,  1.86,  1.71]\n",
    "velocity = [10.00, 20.00, 30.00, 25.00, 20.00]\n",
    "\n",
    "i = 0\n",
    "for i in range(5):\n",
    "    if mass[i] > 5 and velocity[i] > 20:\n",
    "        print(\"Fast heavy object.  Duck!\")\n",
    "    elif mass[i] > 2 and mass[i] <= 5 and velocity[i] <= 20:\n",
    "        print(\"Normal traffic\")\n",
    "    elif mass[i] <= 2 and velocity[i] <= 20:\n",
    "        print(\"Slow light object.  Ignore it\")\n",
    "    else:\n",
    "        print(\"Whoa!  Something is up with the data.  Check it\")"
   ]
  },
  {
   "cell_type": "markdown",
   "id": "fa10026f-f2b7-40fa-9236-08e5b6955455",
   "metadata": {},
   "source": [
    "\n",
    "> Just like with arithmetic, you can and should use parentheses whenever there\n",
    "> is possible ambiguity.  A good general rule is to *always* use parentheses\n",
    "> when mixing `and` and `or` in the same condition.  That is, instead of:\n",
    ">"
   ]
  },
  {
   "cell_type": "markdown",
   "id": "c3059c4a-b613-4e08-8cb9-34f5f6a4e80d",
   "metadata": {},
   "source": [
    "\n",
    "> ~~~ python\n",
    "> if mass[i] <= 2 or mass[i] >= 5 and velocity[i] > 20:\n",
    "> ~~~"
   ]
  },
  {
   "cell_type": "markdown",
   "id": "d589bf26-65a2-4793-a153-a0434073b219",
   "metadata": {},
   "source": [
    "\n",
    "> write one of these:\n",
    ">"
   ]
  },
  {
   "cell_type": "markdown",
   "id": "30f832e4-4f58-4e5d-b92f-063423f13273",
   "metadata": {},
   "source": [
    "> ~~~ python\n",
    "> if (mass[i] <= 2 or mass[i] >= 5) and velocity[i] > 20:\n",
    "> if mass[i] <= 2 or (mass[i] >= 5 and velocity[i] > 20):\n",
    "> ~~~"
   ]
  },
  {
   "cell_type": "markdown",
   "id": "9da28655-fd6b-4f1c-b574-98fd8bc647fd",
   "metadata": {},
   "source": [
    "\n",
    "> so it is perfectly clear to a reader (and to Python) what you really mean."
   ]
  },
  {
   "cell_type": "markdown",
   "id": "07b3feb9-430f-43ad-a1ee-2712392c37a3",
   "metadata": {},
   "source": [
    "---\n",
    "## Tracing Execution"
   ]
  },
  {
   "cell_type": "markdown",
   "id": "862ddf5a-516c-491e-8050-43e03dd9a595",
   "metadata": {},
   "source": [
    "> \n",
    ">\n",
    "> What does this program print?\n",
    ">"
   ]
  },
  {
   "cell_type": "markdown",
   "id": "91e5decf-94bb-4d2b-b7d6-b9236c0317fd",
   "metadata": {},
   "source": [
    "> ~~~ python\n",
    "> pressure = 71.9\n",
    "> if pressure > 50.0:\n",
    ">     pressure = 25.0\n",
    "> elif pressure <= 50.0:\n",
    ">     pressure = 0.0\n",
    "> print(pressure)\n",
    "> ~~~"
   ]
  },
  {
   "cell_type": "markdown",
   "id": "b88a0f0f-3e8e-4070-bd1e-7265363e2afc",
   "metadata": {
    "jp-MarkdownHeadingCollapsed": true,
    "tags": []
   },
   "source": [
    "## Solution"
   ]
  },
  {
   "cell_type": "code",
   "execution_count": null,
   "id": "34fd3b22-b3a4-41a1-b7d4-ad601335e078",
   "metadata": {},
   "outputs": [],
   "source": [
    "pressure = 71.9\n",
    "if pressure > 50.0:\n",
    "    pressure = 25.0\n",
    "elif pressure <= 50.0:\n",
    "    pressure = 0.0\n",
    "print(pressure)"
   ]
  },
  {
   "cell_type": "markdown",
   "id": "7814dfb6-d05e-4255-8612-64d7cf16638c",
   "metadata": {},
   "source": [
    "---\n",
    "## Trimming Values"
   ]
  },
  {
   "cell_type": "markdown",
   "id": "7fe5211f-31ae-49b2-a2c4-29afb81afab6",
   "metadata": {},
   "source": [
    "\n",
    "> \n",
    ">\n",
    "> Fill in the blanks so that this program creates a new list\n",
    "> containing zeroes where the original list's values were negative\n",
    "> and ones where the original list's values were positive.\n",
    ">"
   ]
  },
  {
   "cell_type": "markdown",
   "id": "0e485db8-bb98-4cd8-9c9a-9b8f0fe6e70a",
   "metadata": {},
   "source": [
    "> ~~~ python\n",
    "> original = [-1.5, 0.2, 0.4, 0.0, -1.3, 0.4]\n",
    "> result = ____\n",
    "> for value in original:\n",
    ">     if ____:\n",
    ">         result.append(0)\n",
    ">     else:\n",
    ">         ____\n",
    "> print(result)\n",
    "> ~~~"
   ]
  },
  {
   "cell_type": "markdown",
   "id": "c2fc6b04-e614-4aa1-8fe2-2555490d22f2",
   "metadata": {},
   "source": [
    "> ~~~ output\n",
    "> [0, 1, 1, 1, 0, 1]\n",
    "> ~~~"
   ]
  },
  {
   "cell_type": "markdown",
   "id": "4579ade7-82db-4ae4-97ef-7cce7d21daf1",
   "metadata": {
    "jp-MarkdownHeadingCollapsed": true,
    "tags": []
   },
   "source": [
    "## Solution"
   ]
  },
  {
   "cell_type": "code",
   "execution_count": null,
   "id": "1cad6d30-7eab-48e5-a1ef-678e02d32bec",
   "metadata": {},
   "outputs": [],
   "source": [
    "original = [-1.5, 0.2, 0.4, 0.0, -1.3, 0.4]\n",
    "result = []\n",
    "for value in original:\n",
    "    if value < 0.0:\n",
    "        result.append(0)\n",
    "    else:\n",
    "        result.append(1)\n",
    "print(result)"
   ]
  },
  {
   "cell_type": "markdown",
   "id": "7e6c6a87-3eab-4b2f-bc9d-c3a15141a43b",
   "metadata": {},
   "source": [
    "---\n",
    "## Processing Small Files"
   ]
  },
  {
   "cell_type": "markdown",
   "id": "7646475a-a9c5-493f-9709-1e70240b702d",
   "metadata": {},
   "source": [
    "> \n",
    ">\n",
    "> Modify this program so that it only processes files with fewer than 50 records."
   ]
  },
  {
   "cell_type": "markdown",
   "id": "858be01a-f887-46a9-acfd-fa4bbba6c482",
   "metadata": {},
   "source": [
    "> ~~~ python\n",
    "> import glob\n",
    "> import pandas as pd\n",
    "> for filename in glob.glob('data/*.csv'):\n",
    ">     contents = pd.read_csv(filename)\n",
    ">     ____:\n",
    ">         print(filename, len(contents))\n",
    "> ~~~"
   ]
  },
  {
   "cell_type": "markdown",
   "id": "e85bb5d9-da2e-4022-9e70-dab90b90d77d",
   "metadata": {
    "jp-MarkdownHeadingCollapsed": true,
    "tags": []
   },
   "source": [
    "## Solution"
   ]
  },
  {
   "cell_type": "code",
   "execution_count": null,
   "id": "5ef76c08-5c69-4284-a44c-cafbf31b09b1",
   "metadata": {},
   "outputs": [],
   "source": [
    "import glob\n",
    "import pandas as pd\n",
    "for filename in glob.glob('data/*.csv'):\n",
    "    contents = pd.read_csv(filename)\n",
    "    if len(contents) < 50:\n",
    "        print(filename, len(contents))"
   ]
  },
  {
   "cell_type": "markdown",
   "id": "8895e150-e1f3-4b77-960d-b9ffc1399313",
   "metadata": {},
   "source": [
    "---\n",
    "## Initializing"
   ]
  },
  {
   "cell_type": "markdown",
   "id": "ca46507b-8168-4cf9-8079-b18335539358",
   "metadata": {},
   "source": [
    "> \n",
    ">\n",
    "> Modify this program so that it finds the largest and smallest values in the list\n",
    "> no matter what the range of values originally is.\n",
    ">"
   ]
  },
  {
   "cell_type": "markdown",
   "id": "0e75c035-5c3b-4051-ada3-759ef4f37752",
   "metadata": {},
   "source": [
    "> ~~~ python\n",
    "> values = [...some test data...]\n",
    "> smallest, largest = None, None\n",
    "> for v in values:\n",
    ">     if ____:\n",
    ">         smallest, largest = v, v\n",
    ">     ____:\n",
    ">         smallest = min(____, v)\n",
    ">         largest = max(____, v)\n",
    "> print(smallest, largest)\n",
    "> ~~~"
   ]
  },
  {
   "cell_type": "markdown",
   "id": "5f6b1e7e-f337-4f4c-87ed-7ffb90330b80",
   "metadata": {},
   "source": [
    "> What are the advantages and disadvantages of using this method\n",
    "> to find the range of the data?"
   ]
  },
  {
   "cell_type": "markdown",
   "id": "03c73b58-a777-460c-b9c4-ca8388e239ba",
   "metadata": {
    "jp-MarkdownHeadingCollapsed": true,
    "tags": []
   },
   "source": [
    "## Solution"
   ]
  },
  {
   "cell_type": "code",
   "execution_count": null,
   "id": "9f5ac6d8-50d4-4948-9fc7-cf69ec8c36da",
   "metadata": {},
   "outputs": [],
   "source": [
    "values = [-2,1,65,78,-54,-24,100]\n",
    "smallest, largest = None, None\n",
    "for v in values:\n",
    "    if smallest is None and largest is None:\n",
    "        smallest, largest = v, v\n",
    "    else:\n",
    "        smallest = min(smallest, v)\n",
    "        largest = max(largest, v)\n",
    "print(smallest, largest)"
   ]
  },
  {
   "cell_type": "markdown",
   "id": "54d4d996-b88f-4d8d-a356-ea977be22a40",
   "metadata": {},
   "source": [
    "> > If you wrote `== None` instead of `is None`, that works too, but Python programmers always\n",
    "> > write `is None` because of the special way `None` works in the language.\n",
    "> >"
   ]
  },
  {
   "cell_type": "markdown",
   "id": "381898f9-4cf2-426d-9b75-629e30adc8d7",
   "metadata": {},
   "source": [
    "> > It can be argued that an advantage of using this method would be to make the code more readable.\n",
    "> > However, a disadvantage is that this code is not efficient because within each iteration of the\n",
    "> > `for` loop statement, there are two more loops that run over two numbers each (the `min` and\n",
    "> > `max` functions). It would be more efficient to iterate over each number just once:\n",
    "> >"
   ]
  },
  {
   "cell_type": "code",
   "execution_count": null,
   "id": "7f0754ff-1a30-437a-beb5-7bc56372b614",
   "metadata": {},
   "outputs": [],
   "source": [
    "values = [-2,1,65,78,-54,-24,100]\n",
    "smallest, largest = None, None\n",
    "for v in values:\n",
    "    if smallest is None or v < smallest:\n",
    "        smallest = v\n",
    "    if largest is None or v > largest:\n",
    "        largest = v\n",
    "print(smallest, largest)"
   ]
  },
  {
   "cell_type": "markdown",
   "id": "e81a4d73-f2aa-4732-b79b-d2b835c090da",
   "metadata": {},
   "source": [
    "\n",
    "> > Now we have one loop, but four comparison tests. There are two ways we could improve it further:\n",
    "> > either use fewer comparisons in each iteration, or use two loops that each contain only one\n",
    "> > comparison test. The simplest solution is often the best:\n",
    "> >"
   ]
  },
  {
   "cell_type": "code",
   "execution_count": null,
   "id": "44343d24-a8a0-46f1-92f5-08dcdd3bb2a6",
   "metadata": {},
   "outputs": [],
   "source": [
    "values = [-2,1,65,78,-54,-24,100]\n",
    "smallest = min(values)\n",
    "largest = max(values)\n",
    "print(smallest, largest)"
   ]
  },
  {
   "cell_type": "markdown",
   "id": "d3b71b61-0e66-4330-a6bc-7ce8acbb1aa0",
   "metadata": {},
   "source": [
    "---\n",
    "## Using Functions With Conditionals in Pandas"
   ]
  },
  {
   "cell_type": "markdown",
   "id": "4587704b-902d-4121-9f4f-3bfcb9cc839d",
   "metadata": {},
   "source": [
    "> \n",
    ">\n",
    "> Functions will often contain conditionals.  Here is a short example that\n",
    "> will indicate which quartile the argument is in based on hand-coded values\n",
    "> for the quartile cut points.\n",
    ">"
   ]
  },
  {
   "cell_type": "code",
   "execution_count": null,
   "id": "82f905dd-a263-48cd-b79e-ec5dcaba9d78",
   "metadata": {},
   "outputs": [],
   "source": [
    "def calculate_life_quartile(exp):\n",
    "    if exp < 58.41:\n",
    "        # This observation is in the first quartile\n",
    "        return 1\n",
    "    elif exp >= 58.41 and exp < 67.05:\n",
    "        # This observation is in the second quartile\n",
    "        return 2\n",
    "    elif exp >= 67.05 and exp < 71.70:\n",
    "        # This observation is in the third quartile\n",
    "        return 3\n",
    "    elif exp >= 71.70:\n",
    "        # This observation is in the fourth quartile\n",
    "        return 4\n",
    "    else:\n",
    "        # This observation has bad data\n",
    "        return None\n",
    "calculate_life_quartile(62.5)"
   ]
  },
  {
   "cell_type": "markdown",
   "id": "66129eff-a915-4ee5-a64b-02e469b76ef7",
   "metadata": {},
   "source": [
    "> That function would typically be used within a `for` loop, but Pandas has\n",
    "> a different, more efficient way of doing the same thing, and that is by\n",
    "> *applying* a function to a dataframe or a portion of a dataframe.  Here\n",
    "> is an example, using the definition above.\n",
    ">"
   ]
  },
  {
   "cell_type": "code",
   "execution_count": null,
   "id": "a3433a91-f713-4c8d-bf22-34813c062b08",
   "metadata": {},
   "outputs": [],
   "source": [
    "data = pd.read_csv('data/gapminder_all.csv')\n",
    "data['life_qrtl'] = data['lifeExp_1952'].apply(calculate_life_quartile)"
   ]
  },
  {
   "cell_type": "markdown",
   "id": "637e192e-49a9-4675-b10a-ec2b102e24ba",
   "metadata": {},
   "source": [
    "\n",
    "> There is a lot in that second line, so let's take it piece by piece.\n",
    "> On the right side of the `=` we start with `data['lifeExp']`, which is the\n",
    "> column in the dataframe called `data` labeled `lifExp`.  We use the\n",
    "> `apply()` to do what it says, apply the `calculate_life_quartile` to the\n",
    "> value of this column for every row in the dataframe.\n"
   ]
  },
  {
   "cell_type": "markdown",
   "id": "b210c11f-0b6a-4abe-a646-a0f56182fb6a",
   "metadata": {},
   "source": [
    "---\n",
    "## Keypoints:\n",
    "- \"Use `if` statements to control whether or not a block of code is executed.\"\n",
    "- \"Conditionals are often used inside loops.\"\n",
    "- \"Use `else` to execute a block of code when an `if` condition is *not* true.\"\n",
    "- \"Use `elif` to specify additional tests.\"\n",
    "- \"Conditions are tested once, in order.\"\n",
    "- \"Create a table showing variables' values to trace a program's execution.\"\n",
    "---"
   ]
  },
  {
   "cell_type": "markdown",
   "id": "c6b053a4-d7ea-4423-a38f-0e04781ef4e6",
   "metadata": {},
   "source": [
    "*This course material was created from the [Plotting and Programming in Python](http://swcarpentry.github.io/python-novice-gapminder/) curriculum developed by [The Software Carpentry Foundation](https://software-carpentry.org/) of [The Carpentries](https://carpentries.org/) licensed under [CC-BY 4.0](https://creativecommons.org/licenses/by/4.0/)*"
   ]
  }
 ],
 "metadata": {
  "kernelspec": {
   "display_name": "Python 3 (ipykernel)",
   "language": "python",
   "name": "python3"
  },
  "language_info": {
   "codemirror_mode": {
    "name": "ipython",
    "version": 3
   },
   "file_extension": ".py",
   "mimetype": "text/x-python",
   "name": "python",
   "nbconvert_exporter": "python",
   "pygments_lexer": "ipython3",
   "version": "3.9.12"
  }
 },
 "nbformat": 4,
 "nbformat_minor": 5
}
