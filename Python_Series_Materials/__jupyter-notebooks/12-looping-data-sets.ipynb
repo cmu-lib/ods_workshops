{
 "cells": [
  {
   "cell_type": "markdown",
   "id": "a63b0ff7-e5ef-462d-8ebe-ab4b99813b67",
   "metadata": {},
   "source": [
    "# Looping Over Data Sets"
   ]
  },
  {
   "cell_type": "markdown",
   "id": "9312c787-e345-4659-8e21-907310d816c2",
   "metadata": {
    "tags": []
   },
   "source": [
    "---\n",
    "Teaching: 5 minutes\n",
    "\n",
    "Exercises: 10 minutes\n",
    "\n",
    "### Questions:\n",
    "- \"How can I process many data sets with a single command?\"\n",
    "\n",
    "### Objectives:\n",
    "- \"Be able to read and write globbing expressions that match sets of files.\"\n",
    "- \"Use glob to create lists of files.\"\n",
    "- \"Write for loops to perform operations on files given their names in a list.\"\n",
    "---"
   ]
  },
  {
   "cell_type": "markdown",
   "id": "eba75a36-08d0-4f15-b7f3-f1dec1a328eb",
   "metadata": {},
   "source": [
    "## Use a `for` loop to process files given a list of their names."
   ]
  },
  {
   "cell_type": "markdown",
   "id": "9f4efb2c-c25c-461b-a70e-60932f4a4284",
   "metadata": {},
   "source": [
    "*   A filename is a character string.\n",
    "*   And lists can contain character strings."
   ]
  },
  {
   "cell_type": "code",
   "execution_count": null,
   "id": "e4403f11-3482-441e-9e75-48f83484759b",
   "metadata": {},
   "outputs": [],
   "source": [
    "import pandas as pd\n",
    "for filename in ['data/gapminder_gdp_africa.csv', 'data/gapminder_gdp_asia.csv']:\n",
    "    data = pd.read_csv(filename, index_col='country')\n",
    "    print(filename, data.min())"
   ]
  },
  {
   "cell_type": "markdown",
   "id": "1c583c67-7a3c-4a91-81de-f5ff7dede1aa",
   "metadata": {},
   "source": [
    "## Use [`glob.glob`](https://docs.python.org/3/library/glob.html#glob.glob) to find sets of files whose names match a pattern.\n"
   ]
  },
  {
   "cell_type": "markdown",
   "id": "edfcfbf7-eeef-479b-a4df-4024a449fc9a",
   "metadata": {},
   "source": [
    "\n",
    "\n",
    "\n",
    "*   In Unix, the term \"globbing\" means \"matching a set of files with a pattern\".\n",
    "*   The most common patterns are:\n",
    "    *   `*` meaning \"match zero or more characters\"\n",
    "    *   `?` meaning \"match exactly one character\"\n",
    "*   Python's standard library contains the [`glob`](https://docs.python.org/3/library/glob.html) module to provide pattern matching functionality\n",
    "*   The [`glob`](https://docs.python.org/3/library/glob.html) module contains a function also called `glob` to match file patterns\n",
    "*   E.g., `glob.glob('*.txt')` matches all files in the current directory \n",
    "    whose names end with `.txt`.\n",
    "*   Result is a (possibly empty) list of character strings."
   ]
  },
  {
   "cell_type": "code",
   "execution_count": null,
   "id": "789358ac-38a4-4fef-8109-84f9d125c025",
   "metadata": {},
   "outputs": [],
   "source": [
    "import glob\n",
    "print('all csv files in data directory:', glob.glob('data/*.csv'))"
   ]
  },
  {
   "cell_type": "code",
   "execution_count": null,
   "id": "8eac8d3a-f792-4a6f-8ee2-c56326e4756f",
   "metadata": {},
   "outputs": [],
   "source": [
    "print('all PDB files:', glob.glob('*.pdb'))"
   ]
  },
  {
   "cell_type": "markdown",
   "id": "66659ce6-9f75-40ac-9839-9bb8613f4237",
   "metadata": {},
   "source": [
    "## Use `glob` and `for` to process batches of files."
   ]
  },
  {
   "cell_type": "markdown",
   "id": "ebdae9f2-4ae7-47e9-b521-ef0da6667c6b",
   "metadata": {},
   "source": [
    "*   Helps a lot if the files are named and stored systematically and consistently\n",
    "    so that simple patterns will find the right data.\n"
   ]
  },
  {
   "cell_type": "code",
   "execution_count": null,
   "id": "87c81b7c-b8fb-409e-8e38-4a01f12ef8ed",
   "metadata": {},
   "outputs": [],
   "source": [
    "for filename in glob.glob('data/gapminder_*.csv'):\n",
    "    data = pd.read_csv(filename)\n",
    "    print(filename, data['gdpPercap_1952'].min())"
   ]
  },
  {
   "cell_type": "markdown",
   "id": "b3419739-a5ed-4cf2-b259-3acf499cad27",
   "metadata": {},
   "source": [
    "*   This includes all data, as well as per-region data.\n",
    "*   Use a more specific pattern in the exercises to exclude the whole data set.\n",
    "*   But note that the minimum of the entire data set is also the minimum of one of the data sets,\n",
    "    which is a nice check on correctness."
   ]
  },
  {
   "cell_type": "markdown",
   "id": "e74b4551-5fd1-4d5e-8b65-02e7a96eed22",
   "metadata": {},
   "source": [
    "---\n",
    "## Determining Matches"
   ]
  },
  {
   "cell_type": "markdown",
   "id": "d0b7a2c6-65fc-42fd-849f-d337376abfce",
   "metadata": {},
   "source": [
    "> \n",
    ">\n",
    "> Which of these files is *not* matched by the expression `glob.glob('data/*as*.csv')`?\n",
    ">\n",
    "> 1. `data/gapminder_gdp_africa.csv`\n",
    "> 2. `data/gapminder_gdp_americas.csv`\n",
    "> 3. `data/gapminder_gdp_asia.csv`\n",
    ">"
   ]
  },
  {
   "cell_type": "markdown",
   "id": "1d4ba246-87f7-4bb4-83f9-4797b8d011b4",
   "metadata": {
    "jp-MarkdownHeadingCollapsed": true,
    "tags": []
   },
   "source": [
    "## Solution"
   ]
  },
  {
   "cell_type": "markdown",
   "id": "cc35959c-ab43-4275-b905-dfb14e148223",
   "metadata": {},
   "source": [
    "> > \n",
    "> >\n",
    "> > 1 is not matched by the glob."
   ]
  },
  {
   "cell_type": "markdown",
   "id": "7f766871-67f2-4362-8bef-71205725e498",
   "metadata": {},
   "source": [
    "---\n",
    "## Minimum File Size"
   ]
  },
  {
   "cell_type": "markdown",
   "id": "ce1db30d-3fc0-41b9-a6b6-40c04c0d0ad5",
   "metadata": {},
   "source": [
    "> \n",
    ">\n",
    "> Modify this program so that it prints the number of records in\n",
    "> the file that has the fewest records.\n",
    ">"
   ]
  },
  {
   "cell_type": "markdown",
   "id": "dc28ddce-f3cd-4681-a913-84102ebdc8ba",
   "metadata": {},
   "source": [
    "> ~~~ python\n",
    "> import glob\n",
    "> import pandas as pd\n",
    "> fewest = ____\n",
    "> for filename in glob.glob('data/*.csv'):\n",
    ">     dataframe = pd.____(filename)\n",
    ">     fewest = min(____, dataframe.shape[0])\n",
    "> print('smallest file has', fewest, 'records')\n",
    "> ~~~"
   ]
  },
  {
   "cell_type": "markdown",
   "id": "9b6150cb-1e08-4029-a8db-14d10efebee4",
   "metadata": {},
   "source": [
    "> Note that the [`DataFrame.shape()` method][shape-method]\n",
    "> returns a tuple with the number of rows and columns of the data frame.\n",
    ">\n",
    "\n",
    "[shape-method]: https://pandas.pydata.org/pandas-docs/stable/reference/api/pandas.DataFrame.shape.html"
   ]
  },
  {
   "cell_type": "markdown",
   "id": "92883438-4b5d-4c9e-af74-937eb8279811",
   "metadata": {
    "jp-MarkdownHeadingCollapsed": true,
    "tags": []
   },
   "source": [
    "## Solution"
   ]
  },
  {
   "cell_type": "code",
   "execution_count": null,
   "id": "a8e085c9-3445-4604-90e2-5daa04318a3d",
   "metadata": {},
   "outputs": [],
   "source": [
    "import glob\n",
    "import pandas as pd\n",
    "fewest = float('Inf')\n",
    "for filename in glob.glob('data/*.csv'):\n",
    "    dataframe = pd.read_csv(filename)\n",
    "    fewest = min(fewest, dataframe.shape[0])\n",
    "print('smallest file has', fewest, 'records')"
   ]
  },
  {
   "cell_type": "markdown",
   "id": "7a975746-fd35-4bbf-8fc1-006d6a83962e",
   "metadata": {},
   "source": [
    "\n",
    "> > You might have chosen to initialize the `fewest` variable with a number greater than the numbers\n",
    "> > you're dealing with, but that could lead to trouble if you reuse the code with bigger numbers.\n",
    "> > Python lets you use positive infinity, which will work no matter how big your numbers are.\n",
    "> > What other special strings does the [`float` function][float-function] recognize?\n",
    "\n",
    "[float-function]: https://docs.python.org/3/library/functions.html#float"
   ]
  },
  {
   "cell_type": "markdown",
   "id": "5d0485b2-1463-40c0-8964-50d07212a2fd",
   "metadata": {},
   "source": [
    "---\n",
    "## Comparing Data"
   ]
  },
  {
   "cell_type": "markdown",
   "id": "d1810d80-92fb-400e-a9b6-1021bfd14380",
   "metadata": {},
   "source": [
    "> \n",
    ">\n",
    "> Write a program that reads in the regional data sets\n",
    "> and plots the average GDP per capita for each region over time\n",
    "> in a single chart."
   ]
  },
  {
   "cell_type": "markdown",
   "id": "818cd5c0-1652-4012-baaa-3b086e1e817f",
   "metadata": {
    "jp-MarkdownHeadingCollapsed": true,
    "tags": []
   },
   "source": [
    "## Solution"
   ]
  },
  {
   "cell_type": "markdown",
   "id": "a226b1da-7a8b-46c4-8ec1-457744315e6e",
   "metadata": {},
   "source": [
    "> > \n",
    "> > This solution builds a useful legend by using the [string `split` method][split-method] to\n",
    "> > extract the `region` from the path 'data/gapminder_gdp_a_specific_region.csv'.\n",
    "\n",
    "[split-method]: https://docs.python.org/3/library/stdtypes.html#str.split"
   ]
  },
  {
   "cell_type": "code",
   "execution_count": null,
   "id": "f3a1c145-8350-4fdd-a4f8-3d7686d5d32f",
   "metadata": {},
   "outputs": [],
   "source": [
    "import glob\n",
    "import pandas as pd\n",
    "import matplotlib.pyplot as plt\n",
    "fig, ax = plt.subplots(1,1)\n",
    "for filename in glob.glob('data/gapminder_gdp*.csv'):\n",
    "    dataframe = pd.read_csv(filename)\n",
    "    # extract <region> from the filename, expected to be in the format 'data/gapminder_gdp_<region>.csv'.\n",
    "    # we will split the string using the split method and `_` as our separator,\n",
    "    # retrieve the last string in the list that split returns (`<region>.csv`), \n",
    "    # and then remove the `.csv` extension from that string.\n",
    "    region = filename.split('_')[-1][:-4] \n",
    "    dataframe.mean().plot(ax=ax, label=region)\n",
    "plt.legend()\n",
    "plt.show()"
   ]
  },
  {
   "cell_type": "markdown",
   "id": "24276eeb-8e60-45e1-882f-3259de5a5316",
   "metadata": {},
   "source": [
    "---\n",
    "## Dealing with File Paths"
   ]
  },
  {
   "cell_type": "markdown",
   "id": "3da7a8ad-51bb-4c32-b23c-292c83df9700",
   "metadata": {},
   "source": [
    "> \n",
    "> The [`pathlib` module][pathlib-module] provides useful abstractions for file and path manipulation like\n",
    "> returning the name of a file without the file extension. This is very useful when looping over files and\n",
    "> directories. In the example below, we create a `Path` object and inspect its attributes.\n",
    "\n",
    "[pathlib-module]: https://docs.python.org/3/library/pathlib.html"
   ]
  },
  {
   "cell_type": "code",
   "execution_count": null,
   "id": "66ff2460-b917-4b16-b44d-e92f7f7f8ae7",
   "metadata": {},
   "outputs": [],
   "source": [
    "from pathlib import Path\n",
    "\n",
    "p = Path(\"data/gapminder_gdp_africa.csv\")\n",
    "print(p.parent), print(p.stem), print(p.suffix)"
   ]
  },
  {
   "cell_type": "markdown",
   "id": "77307e9d-8a72-4abc-b730-6ea24092166d",
   "metadata": {},
   "source": [
    "\n",
    "> \n",
    "> __Hint:__ It is possible to check all available attributes and methods on the `Path` object with the `dir()`\n",
    "> function!\n",
    "\n",
    "\n",
    "\n",
    "\n"
   ]
  },
  {
   "cell_type": "markdown",
   "id": "09254b4b-1896-41cc-aac1-12d25a019f12",
   "metadata": {},
   "source": [
    "---\n",
    "## Keypoints:\n",
    "- \"Use a `for` loop to process files given a list of their names.\"\n",
    "- \"Use `glob.glob` to find sets of files whose names match a pattern.\"\n",
    "- \"Use `glob` and `for` to process batches of files.\"\n",
    "---"
   ]
  },
  {
   "cell_type": "markdown",
   "id": "ac234b4c-a182-46fa-9979-21898140a245",
   "metadata": {},
   "source": [
    "*This course material was created from the [Plotting and Programming in Python](http://swcarpentry.github.io/python-novice-gapminder/) curriculum developed by [The Software Carpentry Foundation](https://software-carpentry.org/) of [The Carpentries](https://carpentries.org/) licensed under [CC-BY 4.0](https://creativecommons.org/licenses/by/4.0/)*"
   ]
  }
 ],
 "metadata": {
  "kernelspec": {
   "display_name": "Python 3 (ipykernel)",
   "language": "python",
   "name": "python3"
  },
  "language_info": {
   "codemirror_mode": {
    "name": "ipython",
    "version": 3
   },
   "file_extension": ".py",
   "mimetype": "text/x-python",
   "name": "python",
   "nbconvert_exporter": "python",
   "pygments_lexer": "ipython3",
   "version": "3.9.12"
  }
 },
 "nbformat": 4,
 "nbformat_minor": 5
}
